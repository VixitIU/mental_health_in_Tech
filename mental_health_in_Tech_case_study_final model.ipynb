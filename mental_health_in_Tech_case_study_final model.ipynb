{
 "cells": [
  {
   "cell_type": "markdown",
   "metadata": {},
   "source": [
    "# Unsupervised Machine Learning Project\n",
    "## Task 1: Mental Health in Technology-related Jobs\n",
    "\n",
    "**Dataset:**\n",
    "Loading the file from OSMH Mental Health in Tech Survey 2022 \n",
    "[Link](https://www.kaggle.com/datasets/osmihelp/osmh-mental-health-in-tech-survey-2022)"
   ]
  },
  {
   "cell_type": "markdown",
   "metadata": {},
   "source": [
    "## Naming Conventions for Features \n",
    "\n",
    "**Snake_case** for all names (e.g., mental_health_benefits).\n",
    "\n",
    "**Lowercase only**, words separated by underscores _.\n",
    "\n",
    "**Short but descriptive** names (avoid very long phrases).\n",
    "\n",
    "**No \"column\", \"field\", or similar** redundant words in names.\n",
    "\n",
    "**Binary features** will use is_ or has_ prefixes when helpful (e.g., is_tech_company).\n",
    "\n",
    "**Score or ordered features** will end with _score (e.g., comfort_score, mental_disorder_presence_score)."
   ]
  },
  {
   "cell_type": "markdown",
   "metadata": {},
   "source": [
    "load pandas, load the dataset, show the number of rows and columns"
   ]
  },
  {
   "cell_type": "code",
   "execution_count": 1,
   "metadata": {
    "colab": {
     "base_uri": "https://localhost:8080/"
    },
    "id": "2vbqQR0Kfjk1",
    "outputId": "d79114fe-5d7b-4f6d-d63a-cd930adf4c8e"
   },
   "outputs": [
    {
     "data": {
      "text/plain": [
       "(164, 126)"
      ]
     },
     "execution_count": 1,
     "metadata": {},
     "output_type": "execute_result"
    }
   ],
   "source": [
    "import pandas as pd\n",
    "from pandas.api.types import CategoricalDtype\n",
    "from sklearn.cluster import KMeans\n",
    "from sklearn.preprocessing import StandardScaler\n",
    "from sklearn.impute import SimpleImputer\n",
    "from sklearn.metrics import silhouette_score\n",
    "from sklearn.decomposition import PCA\n",
    "import matplotlib.pyplot as plt\n",
    "from sklearn.manifold import TSNE\n",
    "\n",
    "df = pd.read_csv('responses.csv')\n",
    "df.shape"
   ]
  },
  {
   "cell_type": "markdown",
   "metadata": {},
   "source": [
    "Looped through all columns to display value counts (including NaNs) for quick data overview and missing value detection."
   ]
  },
  {
   "cell_type": "code",
   "execution_count": 2,
   "metadata": {
    "colab": {
     "background_save": true,
     "base_uri": "https://localhost:8080/"
    },
    "id": "A4D38zaRmX5A",
    "outputId": "91e54049-433f-48bc-914f-5e5f222e3dd6"
   },
   "outputs": [
    {
     "name": "stdout",
     "output_type": "stream",
     "text": [
      "\n",
      "📌 #\n",
      "#\n",
      "454yabpvj5ekod27qm454yabpu6ww4fa    1\n",
      "turfs5uwaygy96omjyvmxturfaq4tqpm    1\n",
      "1hb89b2fyz03jg1hdvv3unu46hmug4lb    1\n",
      "88shtlfnzinq2nrbw1ib88shju9q7xxh    1\n",
      "8y9n53igp152mvon6woisdiq8y9n53ig    1\n",
      "                                   ..\n",
      "oowr56xyu77op8nyo4oowr56iwz2pmnw    1\n",
      "3fyeyiy081k3fyoq7t70yt6rxl450d4k    1\n",
      "88l3evhohjbhp9l88lgjjz32not3r1uz    1\n",
      "ofogcwg20kw7sij7d0ofogcwxq8f0u17    1\n",
      "upyzk52ogg8fdmc2ovg505upyzk52t5m    1\n",
      "Name: count, Length: 164, dtype: int64\n",
      "------------------------------------------------------------\n",
      "\n",
      "📌 *Are you self-employed?*\n",
      "*Are you self-employed?*\n",
      "0    124\n",
      "1     40\n",
      "Name: count, dtype: int64\n",
      "------------------------------------------------------------\n",
      "\n",
      "📌 How many employees does your company or organization have?\n",
      "How many employees does your company or organization have?\n",
      "NaN               40\n",
      "26-100            36\n",
      "More than 1000    31\n",
      "100-500           25\n",
      "6-25              18\n",
      "500-1000          11\n",
      "1-5                3\n",
      "Name: count, dtype: int64\n",
      "------------------------------------------------------------\n",
      "\n",
      "📌 Is your employer primarily a tech company/organization?\n",
      "Is your employer primarily a tech company/organization?\n",
      "1.0    83\n",
      "0.0    41\n",
      "NaN    40\n",
      "Name: count, dtype: int64\n",
      "------------------------------------------------------------\n",
      "\n",
      "📌 Is your primary role within your company related to tech/IT?\n",
      "Is your primary role within your company related to tech/IT?\n",
      "1.0    118\n",
      "NaN     40\n",
      "0.0      6\n",
      "Name: count, dtype: int64\n",
      "------------------------------------------------------------\n",
      "\n",
      "📌 Does your employer provide mental health benefits as part of healthcare coverage?\n",
      "Does your employer provide mental health benefits as part of healthcare coverage?\n",
      "Yes                               67\n",
      "NaN                               40\n",
      "No                                29\n",
      "I don't know                      23\n",
      "Not eligible for coverage / NA     5\n",
      "Name: count, dtype: int64\n",
      "------------------------------------------------------------\n",
      "\n",
      "📌 Do you know the options for mental health care available under your employer-provided health coverage?\n",
      "Do you know the options for mental health care available under your employer-provided health coverage?\n",
      "Yes    58\n",
      "No     55\n",
      "NaN    51\n",
      "Name: count, dtype: int64\n",
      "------------------------------------------------------------\n",
      "\n",
      "📌 Has your employer ever formally discussed mental health (for example, as part of a wellness campaign or other official communication)?\n",
      "Has your employer ever formally discussed mental health (for example, as part of a wellness campaign or other official communication)?\n",
      "No              59\n",
      "Yes             54\n",
      "NaN             40\n",
      "I don't know    11\n",
      "Name: count, dtype: int64\n",
      "------------------------------------------------------------\n",
      "\n",
      "📌 Does your employer offer resources to learn more about mental health disorders and options for seeking help?\n",
      "Does your employer offer resources to learn more about mental health disorders and options for seeking help?\n",
      "No              54\n",
      "Yes             50\n",
      "NaN             40\n",
      "I don't know    20\n",
      "Name: count, dtype: int64\n",
      "------------------------------------------------------------\n",
      "\n",
      "📌 Is your anonymity protected if you choose to take advantage of mental health or substance abuse treatment resources provided by your employer?\n",
      "Is your anonymity protected if you choose to take advantage of mental health or substance abuse treatment resources provided by your employer?\n",
      "I don't know    64\n",
      "Yes             51\n",
      "NaN             40\n",
      "No               9\n",
      "Name: count, dtype: int64\n",
      "------------------------------------------------------------\n",
      "\n",
      "📌 If a mental health issue prompted you to request a medical leave from work, how easy or difficult would it be to ask for that leave?\n",
      "If a mental health issue prompted you to request a medical leave from work, how easy or difficult would it be to ask for that leave?\n",
      "NaN                           40\n",
      "Very easy                     36\n",
      "Somewhat easy                 30\n",
      "Neither easy nor difficult    18\n",
      "Somewhat difficult            15\n",
      "I don't know                  14\n",
      "Difficult                     11\n",
      "Name: count, dtype: int64\n",
      "------------------------------------------------------------\n",
      "\n",
      "📌 Would you feel more comfortable talking to your coworkers about your physical health or your mental health?\n",
      "Would you feel more comfortable talking to your coworkers about your physical health or your mental health?\n",
      "Physical health                   77\n",
      "Same level of comfort for each    44\n",
      "NaN                               40\n",
      "Mental health                      3\n",
      "Name: count, dtype: int64\n",
      "------------------------------------------------------------\n",
      "\n",
      "📌 Would you feel comfortable discussing a mental health issue with your direct supervisor(s)?\n",
      "Would you feel comfortable discussing a mental health issue with your direct supervisor(s)?\n",
      "Yes      52\n",
      "Maybe    42\n",
      "NaN      40\n",
      "No       30\n",
      "Name: count, dtype: int64\n",
      "------------------------------------------------------------\n",
      "\n",
      "📌 Have you ever discussed your mental health with your employer?\n",
      "Have you ever discussed your mental health with your employer?\n",
      "0.0    88\n",
      "NaN    40\n",
      "1.0    36\n",
      "Name: count, dtype: int64\n",
      "------------------------------------------------------------\n",
      "\n",
      "📌 Describe the conversation you had with your employer about your mental health, including their reactions and what actions were taken to address your mental health issue/questions.\n",
      "Describe the conversation you had with your employer about your mental health, including their reactions and what actions were taken to address your mental health issue/questions.\n",
      "NaN                                                                                                                                                                                                                                                                                                                                                                                                       138\n",
      "I had a burnout (another after 10 years) due to a combination of adhd, mental health issues and not doing anything about it. When I called in sick my manager was very considerate and thinking along with me. They gave (and still give) me the time to recover and re-integrate back to work.                                                                                                             1\n",
      "I mentioned that I have social anxiety and that certain social tasks were more difficult for me. Their reaction was mostly unhelpful. They monitored me more closely in making sure the social tasks were completed on time, but didn't provide any other support.                                                                                                                                          1\n",
      "I told them I was struggling, that was it, there was no reaction or action taken apart from reducing plans for my future workload                                                                                                                                                                                                                                                                           1\n",
      "Asked for a day off ask hadn't slept because chaperoning my parent who tried to kill themselves the night before                                                                                                                                                                                                                                                                                            1\n",
      "I took a medical leave and explained why. They were initially understanding but didn't express much interest to help, a very cold reaction. No actions were taken.                                                                                                                                                                                                                                          1\n",
      "Mental health of family members                                                                                                                                                                                                                                                                                                                                                                             1\n",
      "Asked for flexibility in scheduling for treatment                                                                                                                                                                                                                                                                                                                                                           1\n",
      "I told my direct manager about my ADHD diagnosis, and we discussed potential changes to my work style/schedule to help.                                                                                                                                                                                                                                                                                     1\n",
      "Imposter syndrome, got reassurance of my abilities\\nfrom their perspective                                                                                                                                                                                                                                                                                                                                  1\n",
      "Discussions around my ADHD were superficial but beneficial to the relationship with my supervisors. Discussions around stress, anxiety, and depression were equally superficial but beneficial. No repercussions and general support for my needs. Thankfully at this time my needs are within what might be considered \"normal\" and I hesitate to speculate on more extensive accommodation requests.      1\n",
      "I informed my direct supervisor that I have PTSD and requested that I am able to remain a remote worker as an accommodation under the ADA. I left my last employer because they refused to make accommodations and an EEOC mediation did not resolve the issue. My current employer has been great.                                                                                                         1\n",
      "very encouraging                                                                                                                                                                                                                                                                                                                                                                                            1\n",
      "We discussed it and some options for how to resolve what I've been going through.  Mostly it was related to burn out and we've not really resolved the underlying issue.                                                                                                                                                                                                                                    1\n",
      "Need to accommodate work schedule, being transparent about my mental health status and how it is affecting me at the current time                                                                                                                                                                                                                                                                           1\n",
      "Mine was a burn-out. This was diagnosed by a doctor. The conversation went very well with my supervisor. They were open to the issue and understood the need for help and time                                                                                                                                                                                                                              1\n",
      "Just a normal conversation                                                                                                                                                                                                                                                                                                                                                                                  1\n",
      "Told him I was feeling depressed and grumpy. He was supportive.                                                                                                                                                                                                                                                                                                                                             1\n",
      "about a depression,  they were open to give me the time i needed to get well.                                                                                                                                                                                                                                                                                                                               1\n",
      "It was understood and my employer offered support                                                                                                                                                                                                                                                                                                                                                           1\n",
      "I talked about why I had a rough month and it was totally understood.                                                                                                                                                                                                                                                                                                                                       1\n",
      "I had a really difficult time focusing at my job at one point in my career.  My supervisor shared with me about a time when she had a problem with her eyes and she encouraged me to get my eyes checked.  It turned out that the place I had recently moved into was making me sick.                                                                                                                       1\n",
      "Hi boss, I'm tired with this project. Could I take leave to refresh my mind? And he said, of course                                                                                                                                                                                                                                                                                                         1\n",
      "I needed to take a month off of work in order to address some mental health issues I was having, and my bosses were all very supportive of it.                                                                                                                                                                                                                                                              1\n",
      "I was supported and encouraged to seek professional health.   My supervisor then continued to follow up in a kind considerate way.                                                                                                                                                                                                                                                                          1\n",
      "When I joined the company, I gave an intro to myself in a company all hands meeting which I explained I suffered with mental health, and that I was there if anyone wanted to talk to someone who understood what they might be going through. I received a lot of encouragement from the entire company                                                                                                    1\n",
      "I warned them about some relationship issues I was having and how it was impacting me. They were very supportive and open.                                                                                                                                                                                                                                                                                  1\n",
      "Name: count, dtype: int64\n",
      "------------------------------------------------------------\n",
      "\n",
      "📌 Would you feel comfortable discussing a mental health issue with your coworkers?\n",
      "Would you feel comfortable discussing a mental health issue with your coworkers?\n",
      "Maybe    49\n",
      "Yes      42\n",
      "NaN      40\n",
      "No       33\n",
      "Name: count, dtype: int64\n",
      "------------------------------------------------------------\n",
      "\n",
      "📌 Have you ever discussed your mental health with coworkers?\n",
      "Have you ever discussed your mental health with coworkers?\n",
      "0.0    77\n",
      "1.0    44\n",
      "NaN    43\n",
      "Name: count, dtype: int64\n",
      "------------------------------------------------------------\n",
      "\n",
      "📌 Describe the conversation with coworkers you had about your mental health including their reactions.\n",
      "Describe the conversation with coworkers you had about your mental health including their reactions.\n",
      "NaN                                                                                                                                                                                                                                                                                                                                                                                                                                                 129\n",
      "I told my colleague about my adhd and depressions. My colleague was really interested in my story and offering a helping hand if necessary.                                                                                                                                                                                                                                                                                                           1\n",
      "Happened too many times for me to remember just one conversation                                                                                                                                                                                                                                                                                                                                                                                      1\n",
      "I discussed problems related to apathy and mood states and they responded empathetically.                                                                                                                                                                                                                                                                                                                                                             1\n",
      "Suicide, bereavement, depression, types of therapies, parents' concerns for their kid's mental health. All sorts                                                                                                                                                                                                                                                                                                                                      1\n",
      "Slack conversations about ADHD, Autism, Anxiety                                                                                                                                                                                                                                                                                                                                                                                                       1\n",
      "I've mentioned therapy and anxiety and possible ADHD                                                                                                                                                                                                                                                                                                                                                                                                  1\n",
      "We talked about both having anxiety & depression and the techniques our different therapists have recommended for us to do.                                                                                                                                                                                                                                                                                                                           1\n",
      "Causally talked about depression, they understood and shared their feelings and thoughts with me too                                                                                                                                                                                                                                                                                                                                                  1\n",
      "Discussed theirs and my health - including ADHD symptoms.  This is easier when you share a mental condition with another. there is built in empathy (and some element of safety by being vulnerable to each other)                                                                                                                                                                                                                                    1\n",
      "Don't remember                                                                                                                                                                                                                                                                                                                                                                                                                                        1\n",
      "Talked about my experiences because I knew they were going through struggles.                                                                                                                                                                                                                                                                                                                                                                         1\n",
      "I've posted in our mental health Slack channel a bit about my ADHD diagnosis, and got some advice about Adderall. The reactions in that channel were supportive and welcoming.                                                                                                                                                                                                                                                                        1\n",
      "I told that I'm stressed more and more and we have to fix our processes and my workload to fix it.                                                                                                                                                                                                                                                                                                                                                    1\n",
      "Understanding coworkers who shared some of their struggles as well.                                                                                                                                                                                                                                                                                                                                                                                   1\n",
      "I have had discussions before with coworkers regarding my PTSD, some coworkers are sympathetic but for those that are not it is a way to interpret every interaction as pathological                                                                                                                                                                                                                                                                  1\n",
      "Stress related                                                                                                                                                                                                                                                                                                                                                                                                                                        1\n",
      "they felt the same like me                                                                                                                                                                                                                                                                                                                                                                                                                            1\n",
      "Co-worker shared a disorder they were suffering from. I let them know they weren't the only one--that I also suffered from a mental disorder. It was good all around.                                                                                                                                                                                                                                                                                 1\n",
      "Mainly speaking about stress and tey all had felt it.                                                                                                                                                                                                                                                                                                                                                                                                 1\n",
      "I talked about anger, patience, frustration y and how to recover my self from those bad feelings by getting advices from wise persons on my Baptist Church, reading Bible and having time to think... They commented things like I'm so balanced with my emotions (what I think is not right all the time), I use the correct words and tone to communicate with others and have an equal treatment with everyone...                                  1\n",
      "I tried to explain some of my reactions (due to my depression - diagnosed by a psychiatrist). They listened to me and seemed to understand me                                                                                                                                                                                                                                                                                                         1\n",
      "During a mental health slump, so they know why I am not acting like myself for a period of time                                                                                                                                                                                                                                                                                                                                                       1\n",
      "Again normal                                                                                                                                                                                                                                                                                                                                                                                                                                          1\n",
      "Discussed depression, frustration. They said they felt the same way at times.                                                                                                                                                                                                                                                                                                                                                                         1\n",
      "I have talked with coworkers about navigating grief and feeling depressed during those times moreso than the ongoing depression and anxiety I work on .  Some coworkers are exceptions.  But there was not a lot of open talk of how the pandemic was making work harder, and I felt that was not very healthy for us, and it gave the pressure to contribute at the normal levels as before we had kids and partners working in the same house.      1\n",
      "Talking about stress, or anxiety, all of us in my team have the same kind of issues, in fact one of us has renounce to his job because of it.                                                                                                                                                                                                                                                                                                         1\n",
      "talked about how i was feeling, and why some of my reactions to a situation we had was caused by my depression. he understood, but did not seems to want to be there                                                                                                                                                                                                                                                                                  1\n",
      "General discussion about the importance of maintaining a healthy mental health while working in IT. Receptive discussion.                                                                                                                                                                                                                                                                                                                             1\n",
      "Explain how I feel about something that happen, they understood it and experienced the same.                                                                                                                                                                                                                                                                                                                                                          1\n",
      "I always suggest my coworkers to take leave for holiday                                                                                                                                                                                                                                                                                                                                                                                               1\n",
      "The employees at our company are generally quite open discussing mental health problems at work. It's not uncommon to hear meetings get ended so someone can go to their therapy appointment.                                                                                                                                                                                                                                                         1\n",
      "I shared some of the anxiety and fears I have about upcoming projects - I believe it lead to my coworkers also sharing some mental health concerns they had at the time.                                                                                                                                                                                                                                                                              1\n",
      "I explained my issues with PTSD                                                                                                                                                                                                                                                                                                                                                                                                                       1\n",
      "There is one I speak to about them fairly often. He even checks in on me and we discuss some of the challenges we each face.                                                                                                                                                                                                                                                                                                                          1\n",
      "I was talking about my panic attacks or that I was too tired from my work. The reaction was - gosh..you too overthinking, just relax and be happy                                                                                                                                                                                                                                                                                                     1\n",
      "Name: count, dtype: int64\n",
      "------------------------------------------------------------\n",
      "\n",
      "📌 Have you ever had a coworker discuss their or another coworker's mental health with you?\n",
      "Have you ever had a coworker discuss their or another coworker's mental health with you?\n",
      "0.0    67\n",
      "1.0    56\n",
      "NaN    41\n",
      "Name: count, dtype: int64\n",
      "------------------------------------------------------------\n",
      "\n",
      "📌 Describe the conversation your coworker had with you about their mental health (please do not use names).\n",
      "Describe the conversation your coworker had with you about their mental health (please do not use names).\n",
      "NaN                                                                                                                                                                                                                                                                                     123\n",
      "Happened too many times to recall                                                                                                                                                                                                                                                         1\n",
      "Bereavement, depression, therapy experience                                                                                                                                                                                                                                               1\n",
      "Multiple coworkers have talked about work stress and it contributing to depression, physical ailments, and, 2 cases, having to take significant time off. Many also left the organization due to mental health issues.                                                                    1\n",
      "Slack conversations about ADHD                                                                                                                                                                                                                                                            1\n",
      "Again, mostly about therapy and anxiety                                                                                                                                                                                                                                                   1\n",
      "They discussed their specific mental health issue and how they had or were working through it.                                                                                                                                                                                            1\n",
      "See the question before                                                                                                                                                                                                                                                                   1\n",
      "They shared how they were having a hard time focusing and doing work.                                                                                                                                                                                                                     1\n",
      "Don't remember                                                                                                                                                                                                                                                                            1\n",
      "once i mentioned my issues, they opened up about theirs (anxiety/depression)                                                                                                                                                                                                              1\n",
      "burned out                                                                                                                                                                                                                                                                                1\n",
      "I've had a coworker discuss his experience with ADHD, and I've also had discussions about depression.                                                                                                                                                                                     1\n",
      "Coworker share with me his mentalproblem                                                                                                                                                                                                                                                  1\n",
      "I was supervisor of this person. My team has much trust to me, so this person talks about the topics that make frustration more and more.                                                                                                                                                 1\n",
      "Conversion derived from a common understanding around circumstances and similar struggles.                                                                                                                                                                                                1\n",
      "They said that they needed to take a week off                                                                                                                                                                                                                                             1\n",
      "I have worked at companies which on paper support diversity and mental health. Many coworkers have shared with me that they struggle with depression or manic depression or ADHD or OCD                                                                                                   1\n",
      "Migrain related                                                                                                                                                                                                                                                                           1\n",
      "they were very open                                                                                                                                                                                                                                                                       1\n",
      "We had concerns about a colleague and her struggles at home w/partner's illness combined with her heavy workload. We talked about ways to take work off her plate and how we can best support her.                                                                                        1\n",
      "They described (currently) having an issue with depression.  (I am their team leader.)                                                                                                                                                                                                    1\n",
      "Co-worker described a mental health issue of their own.                                                                                                                                                                                                                                   1\n",
      "coworker was stressed, we talked about things and tried to help him through it                                                                                                                                                                                                            1\n",
      "See previous answer                                                                                                                                                                                                                                                                       1\n",
      "was a issue with him performance in job, was to wrong in certain time, he got so frustrated and lost north, he thought that would be fired and then he did something that put him in the right way giving advices on what and how was his process, after that everything goes right!      1\n",
      "Co-workers are also experiencing burnout symptoms.                                                                                                                                                                                                                                        1\n",
      "They needed time off for mental health. There weren't really any details.                                                                                                                                                                                                                 1\n",
      "They talked about fears they were experiencing and how they thought it impacted their productivity.                                                                                                                                                                                       1\n",
      "One of my teammates talked to me about feeling isolated and disconnected from the team as he joined while the team was fully remote.  And he had dealt with a breakup during the pandemic, as well, so he felt detached from a community at work and was living alone.                    1\n",
      "Again we discuss about our stress and how we can help each other                                                                                                                                                                                                                          1\n",
      "General discussion                                                                                                                                                                                                                                                                        1\n",
      "They talked about what did had negative influence on there mental health and why.                                                                                                                                                                                                         1\n",
      "The coworker told me that another coworker will sometimes take days off of work for mental health.                                                                                                                                                                                        1\n",
      "Three different occasions, all relatively serious issues. One of which involved asking the police for assistance.                                                                                                                                                                         1\n",
      "After sharing some mental health struggles I was having a coworker approached me for advice on how to deal with a similar issue he was having.                                                                                                                                            1\n",
      "My coworker talked about things they were learning in therapy.                                                                                                                                                                                                                            1\n",
      "I was friends with them outside of work and knew what they were going through. There were very obvious signs to others. In the end this person was inflicting harm on themselves. I would just make myself available to talk to them.                                                     1\n",
      "He just informed me why he was not in the office the last month.                                                                                                                                                                                                                          1\n",
      "They opened up to me about issues they were having and how it was effecting their concentration and cinfidence                                                                                                                                                                            1\n",
      "He struggled with depression and would lose a lot of productivity. He apologized and I would help him with gentle reminders of due tasks.                                                                                                                                                 1\n",
      "just about how tired they are of doing their job and burn out                                                                                                                                                                                                                             1\n",
      "Name: count, dtype: int64\n",
      "------------------------------------------------------------\n",
      "\n",
      "📌 Overall, how much importance does your employer place on physical health?\n",
      "Overall, how much importance does your employer place on physical health?\n",
      "NaN     40\n",
      "5.0     26\n",
      "8.0     22\n",
      "7.0     22\n",
      "6.0     12\n",
      "10.0    12\n",
      "9.0      9\n",
      "3.0      6\n",
      "1.0      5\n",
      "4.0      4\n",
      "0.0      4\n",
      "2.0      2\n",
      "Name: count, dtype: int64\n",
      "------------------------------------------------------------\n",
      "\n",
      "📌 Overall, how much importance does your employer place on mental health?\n",
      "Overall, how much importance does your employer place on mental health?\n",
      "NaN     40\n",
      "5.0     27\n",
      "7.0     17\n",
      "8.0     17\n",
      "10.0    11\n",
      "3.0     10\n",
      "6.0     10\n",
      "4.0      9\n",
      "1.0      6\n",
      "2.0      6\n",
      "9.0      6\n",
      "0.0      5\n",
      "Name: count, dtype: int64\n",
      "------------------------------------------------------------\n",
      "\n",
      "📌 Do you have medical coverage (private insurance or state-provided) that includes treatment of mental health disorders?\n",
      "Do you have medical coverage (private insurance or state-provided) that includes treatment of mental health disorders?\n",
      "NaN    124\n",
      "1.0     26\n",
      "0.0     14\n",
      "Name: count, dtype: int64\n",
      "------------------------------------------------------------\n",
      "\n",
      "📌 Do you know local or online resources to seek help for a mental health issue?\n",
      "Do you know local or online resources to seek help for a mental health issue?\n",
      "NaN                     124\n",
      "I know some              20\n",
      "Yes, I know several      12\n",
      "No, I don't know any      8\n",
      "Name: count, dtype: int64\n",
      "------------------------------------------------------------\n",
      "\n",
      "📌 If you have been diagnosed or treated for a mental health disorder, do you ever reveal this to clients or business contacts?\n",
      "If you have been diagnosed or treated for a mental health disorder, do you ever reveal this to clients or business contacts?\n",
      "NaN                                          124\n",
      "Not applicable to me                          18\n",
      "Sometimes, if it comes up                      9\n",
      "No, because it would impact me negatively      7\n",
      "No, because it doesn't matter                  4\n",
      "Yes, always                                    2\n",
      "Name: count, dtype: int64\n",
      "------------------------------------------------------------\n",
      "\n",
      "📌 If you have revealed a mental health disorder to a client or business contact, how has this affected you or the relationship?\n",
      "If you have revealed a mental health disorder to a client or business contact, how has this affected you or the relationship?\n",
      "NaN             143\n",
      "No change         9\n",
      "I'm not sure      6\n",
      "Positively        3\n",
      "Negatively        3\n",
      "Name: count, dtype: int64\n",
      "------------------------------------------------------------\n",
      "\n",
      "📌 If you have been diagnosed or treated for a mental health disorder, do you ever reveal this to coworkers or employees?\n",
      "If you have been diagnosed or treated for a mental health disorder, do you ever reveal this to coworkers or employees?\n",
      "NaN                                          124\n",
      "Not applicable to me                          18\n",
      "No, because it would impact me negatively      8\n",
      "Sometimes, if it comes up                      7\n",
      "No, because it doesn't matter                  4\n",
      "Yes, always                                    3\n",
      "Name: count, dtype: int64\n",
      "------------------------------------------------------------\n",
      "\n",
      "📌 If you have revealed a mental health disorder to a coworker or employee, how has this impacted you or the relationship?\n",
      "If you have revealed a mental health disorder to a coworker or employee, how has this impacted you or the relationship?\n",
      "NaN                     124\n",
      "Not applicable to me     23\n",
      "I'm not sure              5\n",
      "No change                 5\n",
      "Negatively                4\n",
      "Positively                3\n",
      "Name: count, dtype: int64\n",
      "------------------------------------------------------------\n",
      "\n",
      "📌 Do you believe your productivity is ever affected by a mental health issue?\n",
      "Do you believe your productivity is ever affected by a mental health issue?\n",
      "NaN                     124\n",
      "Yes                      21\n",
      "No                        7\n",
      "Unsure                    6\n",
      "Not applicable to me      6\n",
      "Name: count, dtype: int64\n",
      "------------------------------------------------------------\n",
      "\n",
      "📌 If yes, what percentage of your work time (time performing primary or secondary job functions) is affected by a mental health issue?\n",
      "If yes, what percentage of your work time (time performing primary or secondary job functions) is affected by a mental health issue?\n",
      "NaN        143\n",
      "1-25%       11\n",
      "26-50%       5\n",
      "51-75%       3\n",
      "76-100%      2\n",
      "Name: count, dtype: int64\n",
      "------------------------------------------------------------\n",
      "\n",
      "📌 *Do you have previous employers?*\n",
      "*Do you have previous employers?*\n",
      "1    130\n",
      "0     34\n",
      "Name: count, dtype: int64\n",
      "------------------------------------------------------------\n",
      "\n",
      "📌 Was your employer primarily a tech company/organization?\n",
      "Was your employer primarily a tech company/organization?\n",
      "1.0    91\n",
      "0.0    39\n",
      "NaN    34\n",
      "Name: count, dtype: int64\n",
      "------------------------------------------------------------\n",
      "\n",
      "📌 Have your previous employers provided mental health benefits?\n",
      "Have your previous employers provided mental health benefits?\n",
      "No, none did         44\n",
      "Some did             41\n",
      "NaN                  34\n",
      "Yes, they all did    23\n",
      "I don't know         22\n",
      "Name: count, dtype: int64\n",
      "------------------------------------------------------------\n",
      "\n",
      "📌 Were you aware of the options for mental health care provided by your previous employers?\n",
      "Were you aware of the options for mental health care provided by your previous employers?\n",
      "I was aware of some                43\n",
      "N/A (none offered)                 35\n",
      "NaN                                34\n",
      "N/A (was not aware)                31\n",
      "Yes, I was aware of all of them    12\n",
      "No, I only became aware later       9\n",
      "Name: count, dtype: int64\n",
      "------------------------------------------------------------\n",
      "\n",
      "📌 Did your previous employers ever formally discuss mental health (as part of a wellness campaign or other official communication)?\n",
      "Did your previous employers ever formally discuss mental health (as part of a wellness campaign or other official communication)?\n",
      "None did             75\n",
      "Some did             39\n",
      "NaN                  34\n",
      "I don't know         10\n",
      "Yes, they all did     6\n",
      "Name: count, dtype: int64\n",
      "------------------------------------------------------------\n",
      "\n",
      "📌 Did your previous employers provide resources to learn more about mental health disorders and how to seek help?\n",
      "Did your previous employers provide resources to learn more about mental health disorders and how to seek help?\n",
      "None did             80\n",
      "Some did             40\n",
      "NaN                  34\n",
      "Yes, they all did    10\n",
      "Name: count, dtype: int64\n",
      "------------------------------------------------------------\n",
      "\n",
      "📌 Was your anonymity protected if you chose to take advantage of mental health or substance abuse treatment resources with previous employers?\n",
      "Was your anonymity protected if you chose to take advantage of mental health or substance abuse treatment resources with previous employers?\n",
      "I don't know    70\n",
      "NaN             34\n",
      "Yes, always     30\n",
      "No              17\n",
      "Sometimes       13\n",
      "Name: count, dtype: int64\n",
      "------------------------------------------------------------\n",
      "\n",
      "📌 Would you have felt more comfortable talking to your previous employer about your physical health or your mental health?\n",
      "Would you have felt more comfortable talking to your previous employer about your physical health or your mental health?\n",
      "Physical health                   85\n",
      "Same level of comfort for each    41\n",
      "NaN                               34\n",
      "Mental health                      4\n",
      "Name: count, dtype: int64\n",
      "------------------------------------------------------------\n",
      "\n",
      "📌 Would you have been willing to discuss your mental health with your direct supervisor(s)?\n",
      "Would you have been willing to discuss your mental health with your direct supervisor(s)?\n",
      "Some of my previous supervisors        61\n",
      "No, none of my previous supervisors    43\n",
      "NaN                                    34\n",
      "I don't know                           15\n",
      "Yes, all of my previous supervisors    11\n",
      "Name: count, dtype: int64\n",
      "------------------------------------------------------------\n",
      "\n",
      "📌 Did you ever discuss your mental health with your previous employer?\n",
      "Did you ever discuss your mental health with your previous employer?\n",
      "0.0    108\n",
      "NaN     34\n",
      "1.0     22\n",
      "Name: count, dtype: int64\n",
      "------------------------------------------------------------\n",
      "\n",
      "📌 Describe the conversation you had with your previous employer about your mental health, including their reactions and actions taken to address your mental health issue/questions.\n",
      "Describe the conversation you had with your previous employer about your mental health, including their reactions and actions taken to address your mental health issue/questions.\n",
      "NaN                                                                                                                                                                                                                                                                                                                                                                                                                                                                                                                                                                                                                            149\n",
      "Same as my current employer.                                                                                                                                                                                                                                                                                                                                                                                                                                                                                                                                                                                                     1\n",
      "I could not fit in with a psychiatric patient and my former employer responded empathetically by providing help and equipment.                                                                                                                                                                                                                                                                                                                                                                                                                                                                                                   1\n",
      "One was very understanding. another didn't seem to factor it in much                                                                                                                                                                                                                                                                                                                                                                                                                                                                                                                                                             1\n",
      "I told my problems, employer was not able to understand.                                                                                                                                                                                                                                                                                                                                                                                                                                                                                                                                                                         1\n",
      "\"Hey, I have to quit due to a burn out\" - \"okay, thx, bye, take care\"                                                                                                                                                                                                                                                                                                                                                                                                                                                                                                                                                            1\n",
      "I revealed my struggle with depression, anxiety, PTSD, and Autism. The conversation was very positive, however, my position was terminated 3 months later after they took away most of my responsibilities.                                                                                                                                                                                                                                                                                                                                                                                                                      1\n",
      "Shortly after Covid lockdown began, my mental health took a sharp turn for the worse. Anxiety due to my PTSD became heightened.  I talked to my direct supervisor and told him what was going on and ask that he make adjustments to my work assignments to help me out. He said he would but never followed through. I got a lawyer and requested accommodations. At this time my supervisor used the information I shared with him regarding my PTSD to directly provoke reactions from me. My doctor suggested I take a medical leave, which is exactly what I think the employer wanted. They used it to get rid of me.      1\n",
      "Discussed the stress of helping my father along his end-of-life journey and how to manage the workload during this time.                                                                                                                                                                                                                                                                                                                                                                                                                                                                                                         1\n",
      "Was feeling overwhelmed. Left the jobs.                                                                                                                                                                                                                                                                                                                                                                                                                                                                                                                                                                                          1\n",
      "discuss my absence with the HR team.                                                                                                                                                                                                                                                                                                                                                                                                                                                                                                                                                                                             1\n",
      "While going through a traumatic period, it was my supervisor at the time who encouraged me to see a therapist before things got really bad.                                                                                                                                                                                                                                                                                                                                                                                                                                                                                      1\n",
      "I can, at times, suffer from extreme anxiety in meeting situations. Fortunately it does not in anyway way effect my work, and my colleagues actually seem to care & take an interest. As for actions, not much was needed aside from understanding that occasionally I may just leave a meeting. Not exactly life changing :)                                                                                                                                                                                                                                                                                                    1\n",
      "Not comfortable putting it online. But got some time off plus reduced time when returned with no impact to my salary.                                                                                                                                                                                                                                                                                                                                                                                                                                                                                                            1\n",
      "I explained I was having some intrusive thoughts that involved some very disturbing images. They responded by helping me get in touch with medical providers and counselors.                                                                                                                                                                                                                                                                                                                                                                                                                                                     1\n",
      "I was talking about professional burnout. the employer encouraged me that everything would get better, and then raised my salary                                                                                                                                                                                                                                                                                                                                                                                                                                                                                                 1\n",
      "Name: count, dtype: int64\n",
      "------------------------------------------------------------\n",
      "\n",
      "📌 Would you have been willing to discuss your mental health with your coworkers at previous employers?\n",
      "Would you have been willing to discuss your mental health with your coworkers at previous employers?\n",
      "At some of my previous employers        69\n",
      "No, at none of my previous employers    49\n",
      "NaN                                     34\n",
      "Yes, at all of my previous employers    12\n",
      "Name: count, dtype: int64\n",
      "------------------------------------------------------------\n",
      "\n",
      "📌 Did you ever discuss your mental health with a previous coworker(s)?\n",
      "Did you ever discuss your mental health with a previous coworker(s)?\n",
      "0.0    85\n",
      "1.0    45\n",
      "NaN    34\n",
      "Name: count, dtype: int64\n",
      "------------------------------------------------------------\n",
      "\n",
      "📌 Describe the conversation you had with your previous coworkers about your mental health including their reactions.\n",
      "Describe the conversation you had with your previous coworkers about your mental health including their reactions.\n",
      "NaN                                                                                                                                                                                                                                                                                                                                                                                                                                                                                                                                                                                                                         138\n",
      "It felt awkward, so I tried to make it sound like a joke                                                                                                                                                                                                                                                                                                                                                                                                                                                                                                                                                                      1\n",
      "I had a coworker who was a close friend when I was going through a very contentious divorce. She had been through a similar situation. While I was at the office, my ex threatened me and I reached out to her to let her know I was crying in one of the offices and thinking about suicide. She immediately rushed to me and comforted me. She asked if she could let our shared coworkers know that I was having a hard time without mentioning any specifics, and when I agreed she followed through. My coworkers on that team were very supportive. I don't think I could have kept working without their support.      1\n",
      "Just general chit chat                                                                                                                                                                                                                                                                                                                                                                                                                                                                                                                                                                                                        1\n",
      "We constantly talked about how we were doing emotionally and kept each other company.                                                                                                                                                                                                                                                                                                                                                                                                                                                                                                                                         1\n",
      "Feelings                                                                                                                                                                                                                                                                                                                                                                                                                                                                                                                                                                                                                      1\n",
      "Talking about stress/motivation but not revealing anything that could be seen as weakness, not able to participate at full capacity                                                                                                                                                                                                                                                                                                                                                                                                                                                                                           1\n",
      "I mentioned that I was seeing a counsellor during the pandemic, as it had left me quite stressed out.                                                                                                                                                                                                                                                                                                                                                                                                                                                                                                                         1\n",
      "sharing of details about stress and anxiety                                                                                                                                                                                                                                                                                                                                                                                                                                                                                                                                                                                   1\n",
      "At one company we had an informal mental health support group                                                                                                                                                                                                                                                                                                                                                                                                                                                                                                                                                                 1\n",
      "discussed how we felt pressure and sometimes felt depressed                                                                                                                                                                                                                                                                                                                                                                                                                                                                                                                                                                   1\n",
      "I did explain what happend, why I have quit the job                                                                                                                                                                                                                                                                                                                                                                                                                                                                                                                                                                           1\n",
      "We are regular in sync about our problems resulting from our work.                                                                                                                                                                                                                                                                                                                                                                                                                                                                                                                                                            1\n",
      "When I was really struggling I disclosed to several coworkers my PTSD.                                                                                                                                                                                                                                                                                                                                                                                                                                                                                                                                                        1\n",
      "I mentioned struggling with stress and anger management. Was encouraged to seek a professional. When I did that, it was largely dismissed and doctors were not listening to my concerns about how treatment was going.                                                                                                                                                                                                                                                                                                                                                                                                        1\n",
      "Recognizing the symptoms of depression in my co-worker, I recounted my own struggles with depression at different times in my life.                                                                                                                                                                                                                                                                                                                                                                                                                                                                                           1\n",
      "Love headache                                                                                                                                                                                                                                                                                                                                                                                                                                                                                                                                                                                                                 1\n",
      "Usually bellyache about boss and complain.                                                                                                                                                                                                                                                                                                                                                                                                                                                                                                                                                                                    1\n",
      "discussion about pressure to constantly improve                                                                                                                                                                                                                                                                                                                                                                                                                                                                                                                                                                               1\n",
      "It was in solidarity with her, when she described her own issues.                                                                                                                                                                                                                                                                                                                                                                                                                                                                                                                                                             1\n",
      "Depressive symptoms, anxiety with workload. Provided suggestions and coping options                                                                                                                                                                                                                                                                                                                                                                                                                                                                                                                                           1\n",
      "I just mentioned that I was really struggling with depression and they were very sympathetic.                                                                                                                                                                                                                                                                                                                                                                                                                                                                                                                                 1\n",
      "was topics about burnout and stressful situations with the company clients, lies about benefits the company \"offered\" to us and confrontations with the employer that didn't have any effect... reactions were very disappointed and a feeling of no hope and start to search for a new job                                                                                                                                                                                                                                                                                                                                   1\n",
      "Same as of the current                                                                                                                                                                                                                                                                                                                                                                                                                                                                                                                                                                                                        1\n",
      "During a tumultuous team time, I talked with coworkers about the impact it was having on my mental health.                                                                                                                                                                                                                                                                                                                                                                                                                                                                                                                    1\n",
      "Details of the aforementioned traumatic period were discussed with several colleagues, both during and after.  They were universally supportive, fortunately.                                                                                                                                                                                                                                                                                                                                                                                                                                                                 1\n",
      "I explained my fears and anxieties and he was supportive                                                                                                                                                                                                                                                                                                                                                                                                                                                                                                                                                                      1\n",
      "Name: count, dtype: int64\n",
      "------------------------------------------------------------\n",
      "\n",
      "📌 Did you ever have a previous coworker discuss their or another coworker's mental health with you?\n",
      "Did you ever have a previous coworker discuss their or another coworker's mental health with you?\n",
      "0.0    82\n",
      "1.0    48\n",
      "NaN    34\n",
      "Name: count, dtype: int64\n",
      "------------------------------------------------------------\n",
      "\n",
      "📌 Describe the conversation your coworker had with you about their mental health (please do not use names)..1\n",
      "Describe the conversation your coworker had with you about their mental health (please do not use names)..1\n",
      "NaN                                                                                                                                                                                                                                                                                                                                                                                                                    141\n",
      "General chat                                                                                                                                                                                                                                                                                                                                                                                                             1\n",
      "Life struggles, relationships                                                                                                                                                                                                                                                                                                                                                                                            1\n",
      "These were former coworkers who talked about struggling with depression/substance abuse *after* we left the company. e.g. Workplace didn't tolerate signs of \"weakness\"                                                                                                                                                                                                                                                  1\n",
      "many coworkers have discussed their mental health issues (anxiety, depression, trauma) with me                                                                                                                                                                                                                                                                                                                           1\n",
      "We helped each other with ADHD coping                                                                                                                                                                                                                                                                                                                                                                                    1\n",
      "Some employee have had burnout. That was a topic in the team to discuss.                                                                                                                                                                                                                                                                                                                                                 1\n",
      "He: \"Described his symptoms\" I: \"Go search for a doctor. Like, immediately, please!\"                                                                                                                                                                                                                                                                                                                                     1\n",
      "A coworker talked with me about her issues with depression.                                                                                                                                                                                                                                                                                                                                                              1\n",
      "We talked about her struggles with depression and how that can manifest in health issues. I asked her if she had ever contemplated suicide and made her promise that she would call me if she ever did.                                                                                                                                                                                                                  1\n",
      "I don't recall the conversation, except that (s)he was talking about their own issue.                                                                                                                                                                                                                                                                                                                                    1\n",
      "I had been told by one or two people that they do\\nsuffer from depression and anxiety. I did not pressure for personal details but tried to make them feel if they wanted to share information about it with me, that they could and know it would be safe (private) and supportive.                                                                                                                                     1\n",
      "Support or commiserate with them                                                                                                                                                                                                                                                                                                                                                                                         1\n",
      "Restless legs syndrom                                                                                                                                                                                                                                                                                                                                                                                                    1\n",
      "Most discussions were about anxiety issues or self-diagnosed \"OCD.\"                                                                                                                                                                                                                                                                                                                                                      1\n",
      "See the above answer.                                                                                                                                                                                                                                                                                                                                                                                                    1\n",
      "Discussed difficult situation at home which was affecting work performance. Suggested they take time off and contact a mental health professional + discuss challenges experienced with direct supervisor.                                                                                                                                                                                                               1\n",
      "the same topics before commented, many times plus things like really hard/bad/complex/spaghetti code on other projects                                                                                                                                                                                                                                                                                                   1\n",
      "There were several casual conversations about stress levels, anxiety, and depression.  It was generally with closer coworkers.                                                                                                                                                                                                                                                                                           1\n",
      "We are friends, I we talk about it like friends not coworkers                                                                                                                                                                                                                                                                                                                                                            1\n",
      "Overall, not good. I really won’t be more specific.                                                                                                                                                                                                                                                                                                                                                                      1\n",
      "It was a normal conversation                                                                                                                                                                                                                                                                                                                                                                                             1\n",
      "She explained particular feelings of depression and the inability to deal with it. I supported her by offering some time off and encouraged her to see a professional.  A week or so later she explained she had seen a therapist and was making progress.  A few months later she said she felt a large burden had been lifted and she was able to cope much better and thanked me for helping and supporting her.      1\n",
      "They needed to leave because of stress, unable to cope.                                                                                                                                                                                                                                                                                                                                                                  1\n",
      "Name: count, dtype: int64\n",
      "------------------------------------------------------------\n",
      "\n",
      "📌 Overall, how much importance did your previous employer place on physical health?\n",
      "Overall, how much importance did your previous employer place on physical health?\n",
      "NaN     34\n",
      "5.0     33\n",
      "8.0     20\n",
      "6.0     13\n",
      "7.0     13\n",
      "0.0     12\n",
      "3.0      9\n",
      "4.0      8\n",
      "9.0      8\n",
      "2.0      7\n",
      "10.0     4\n",
      "1.0      3\n",
      "Name: count, dtype: int64\n",
      "------------------------------------------------------------\n",
      "\n",
      "📌 Overall, how much importance did your previous employer place on mental health?\n",
      "Overall, how much importance did your previous employer place on mental health?\n",
      "NaN     34\n",
      "5.0     26\n",
      "0.0     24\n",
      "3.0     18\n",
      "6.0     15\n",
      "7.0     10\n",
      "2.0     10\n",
      "4.0     10\n",
      "1.0      8\n",
      "8.0      4\n",
      "9.0      3\n",
      "10.0     2\n",
      "Name: count, dtype: int64\n",
      "------------------------------------------------------------\n",
      "\n",
      "📌 Do you *currently* have a mental health disorder?\n",
      "Do you *currently* have a mental health disorder?\n",
      "No            74\n",
      "Yes           46\n",
      "Don't Know    23\n",
      "Possibly      21\n",
      "Name: count, dtype: int64\n",
      "------------------------------------------------------------\n",
      "\n",
      "📌 Have you ever been *diagnosed* with a mental health disorder?\n",
      "Have you ever been *diagnosed* with a mental health disorder?\n",
      "NaN    118\n",
      "Yes     44\n",
      "No       2\n",
      "Name: count, dtype: int64\n",
      "------------------------------------------------------------\n",
      "\n",
      "📌 Anxiety Disorder (Generalized, Social, Phobia, etc)\n",
      "Anxiety Disorder (Generalized, Social, Phobia, etc)\n",
      "NaN    164\n",
      "Name: count, dtype: int64\n",
      "------------------------------------------------------------\n",
      "\n",
      "📌 Mood Disorder (Depression, Bipolar Disorder, etc)\n",
      "Mood Disorder (Depression, Bipolar Disorder, etc)\n",
      "NaN    164\n",
      "Name: count, dtype: int64\n",
      "------------------------------------------------------------\n",
      "\n",
      "📌 Psychotic Disorder (Schizophrenia, Schizoaffective, etc)\n",
      "Psychotic Disorder (Schizophrenia, Schizoaffective, etc)\n",
      "NaN    164\n",
      "Name: count, dtype: int64\n",
      "------------------------------------------------------------\n",
      "\n",
      "📌 Eating Disorder (Anorexia, Bulimia, etc)\n",
      "Eating Disorder (Anorexia, Bulimia, etc)\n",
      "NaN    164\n",
      "Name: count, dtype: int64\n",
      "------------------------------------------------------------\n",
      "\n",
      "📌 Attention Deficit Hyperactivity Disorder\n",
      "Attention Deficit Hyperactivity Disorder\n",
      "NaN    164\n",
      "Name: count, dtype: int64\n",
      "------------------------------------------------------------\n",
      "\n",
      "📌 Personality Disorder (Borderline, Antisocial, Paranoid, etc)\n",
      "Personality Disorder (Borderline, Antisocial, Paranoid, etc)\n",
      "NaN    164\n",
      "Name: count, dtype: int64\n",
      "------------------------------------------------------------\n",
      "\n",
      "📌 Obsessive-Compulsive Disorder\n",
      "Obsessive-Compulsive Disorder\n",
      "NaN    164\n",
      "Name: count, dtype: int64\n",
      "------------------------------------------------------------\n",
      "\n",
      "📌 Post-Traumatic Stress Disorder\n",
      "Post-Traumatic Stress Disorder\n",
      "NaN    164\n",
      "Name: count, dtype: int64\n",
      "------------------------------------------------------------\n",
      "\n",
      "📌 Stress Response Syndromes\n",
      "Stress Response Syndromes\n",
      "NaN    164\n",
      "Name: count, dtype: int64\n",
      "------------------------------------------------------------\n",
      "\n",
      "📌 Dissociative Disorder\n",
      "Dissociative Disorder\n",
      "NaN    164\n",
      "Name: count, dtype: int64\n",
      "------------------------------------------------------------\n",
      "\n",
      "📌 Substance Use Disorder\n",
      "Substance Use Disorder\n",
      "NaN    164\n",
      "Name: count, dtype: int64\n",
      "------------------------------------------------------------\n",
      "\n",
      "📌 Addictive Disorder\n",
      "Addictive Disorder\n",
      "NaN    164\n",
      "Name: count, dtype: int64\n",
      "------------------------------------------------------------\n",
      "\n",
      "📌 Other\n",
      "Other\n",
      "NaN    164\n",
      "Name: count, dtype: int64\n",
      "------------------------------------------------------------\n",
      "\n",
      "📌 Anxiety Disorder (Generalized, Social, Phobia, etc).1\n",
      "Anxiety Disorder (Generalized, Social, Phobia, etc).1\n",
      "NaN                                                    153\n",
      "Anxiety Disorder (Generalized, Social, Phobia, etc)     11\n",
      "Name: count, dtype: int64\n",
      "------------------------------------------------------------\n",
      "\n",
      "📌 Mood Disorder (Depression, Bipolar Disorder, etc).1\n",
      "Mood Disorder (Depression, Bipolar Disorder, etc).1\n",
      "NaN                                                  151\n",
      "Mood Disorder (Depression, Bipolar Disorder, etc)     13\n",
      "Name: count, dtype: int64\n",
      "------------------------------------------------------------\n",
      "\n",
      "📌 Psychotic Disorder (Schizophrenia, Schizoaffective, etc).1\n",
      "Psychotic Disorder (Schizophrenia, Schizoaffective, etc).1\n",
      "NaN    164\n",
      "Name: count, dtype: int64\n",
      "------------------------------------------------------------\n",
      "\n",
      "📌 Eating Disorder (Anorexia, Bulimia, etc).1\n",
      "Eating Disorder (Anorexia, Bulimia, etc).1\n",
      "NaN                                         163\n",
      "Eating Disorder (Anorexia, Bulimia, etc)      1\n",
      "Name: count, dtype: int64\n",
      "------------------------------------------------------------\n",
      "\n",
      "📌 Attention Deficit Hyperactivity Disorder.1\n",
      "Attention Deficit Hyperactivity Disorder.1\n",
      "NaN                                         159\n",
      "Attention Deficit Hyperactivity Disorder      5\n",
      "Name: count, dtype: int64\n",
      "------------------------------------------------------------\n",
      "\n",
      "📌 Personality Disorder (Borderline, Antisocial, Paranoid, etc).1\n",
      "Personality Disorder (Borderline, Antisocial, Paranoid, etc).1\n",
      "NaN                                                             163\n",
      "Personality Disorder (Borderline, Antisocial, Paranoid, etc)      1\n",
      "Name: count, dtype: int64\n",
      "------------------------------------------------------------\n",
      "\n",
      "📌 Obsessive-Compulsive Disorder.1\n",
      "Obsessive-Compulsive Disorder.1\n",
      "NaN                              163\n",
      "Obsessive-Compulsive Disorder      1\n",
      "Name: count, dtype: int64\n",
      "------------------------------------------------------------\n",
      "\n",
      "📌 Post-traumatic Stress Disorder\n",
      "Post-traumatic Stress Disorder\n",
      "NaN                               163\n",
      "Post-traumatic Stress Disorder      1\n",
      "Name: count, dtype: int64\n",
      "------------------------------------------------------------\n",
      "\n",
      "📌 Stress Response Syndromes.1\n",
      "Stress Response Syndromes.1\n",
      "NaN                          158\n",
      "Stress Response Syndromes      6\n",
      "Name: count, dtype: int64\n",
      "------------------------------------------------------------\n",
      "\n",
      "📌 Dissociative Disorder.1\n",
      "Dissociative Disorder.1\n",
      "NaN    164\n",
      "Name: count, dtype: int64\n",
      "------------------------------------------------------------\n",
      "\n",
      "📌 Substance Use Disorder.1\n",
      "Substance Use Disorder.1\n",
      "NaN                       162\n",
      "Substance Use Disorder      2\n",
      "Name: count, dtype: int64\n",
      "------------------------------------------------------------\n",
      "\n",
      "📌 Addictive Disorder.1\n",
      "Addictive Disorder.1\n",
      "NaN                   162\n",
      "Addictive Disorder      2\n",
      "Name: count, dtype: int64\n",
      "------------------------------------------------------------\n",
      "\n",
      "📌 Other.1\n",
      "Other.1\n",
      "NaN                                 163\n",
      "Not sure. Maybe a mix of A, B, H      1\n",
      "Name: count, dtype: int64\n",
      "------------------------------------------------------------\n",
      "\n",
      "📌 Anxiety Disorder (Generalized, Social, Phobia, etc).2\n",
      "Anxiety Disorder (Generalized, Social, Phobia, etc).2\n",
      "NaN                                                    138\n",
      "Anxiety Disorder (Generalized, Social, Phobia, etc)     26\n",
      "Name: count, dtype: int64\n",
      "------------------------------------------------------------\n",
      "\n",
      "📌 Mood Disorder (Depression, Bipolar Disorder, etc).2\n",
      "Mood Disorder (Depression, Bipolar Disorder, etc).2\n",
      "NaN                                                  136\n",
      "Mood Disorder (Depression, Bipolar Disorder, etc)     28\n",
      "Name: count, dtype: int64\n",
      "------------------------------------------------------------\n",
      "\n",
      "📌 Psychotic Disorder (Schizophrenia, Schizoaffective, etc).2\n",
      "Psychotic Disorder (Schizophrenia, Schizoaffective, etc).2\n",
      "NaN                                                         162\n",
      "Psychotic Disorder (Schizophrenia, Schizoaffective, etc)      2\n",
      "Name: count, dtype: int64\n",
      "------------------------------------------------------------\n",
      "\n",
      "📌 Eating Disorder (Anorexia, Bulimia, etc).2\n",
      "Eating Disorder (Anorexia, Bulimia, etc).2\n",
      "NaN                                         163\n",
      "Eating Disorder (Anorexia, Bulimia, etc)      1\n",
      "Name: count, dtype: int64\n",
      "------------------------------------------------------------\n",
      "\n",
      "📌 Attention Deficit Hyperactivity Disorder.2\n",
      "Attention Deficit Hyperactivity Disorder.2\n",
      "NaN                                         149\n",
      "Attention Deficit Hyperactivity Disorder     15\n",
      "Name: count, dtype: int64\n",
      "------------------------------------------------------------\n",
      "\n",
      "📌 Personality Disorder (Borderline, Antisocial, Paranoid, etc).2\n",
      "Personality Disorder (Borderline, Antisocial, Paranoid, etc).2\n",
      "NaN                                                             161\n",
      "Personality Disorder (Borderline, Antisocial, Paranoid, etc)      3\n",
      "Name: count, dtype: int64\n",
      "------------------------------------------------------------\n",
      "\n",
      "📌 Obsessive-Compulsive Disorder.2\n",
      "Obsessive-Compulsive Disorder.2\n",
      "NaN                              159\n",
      "Obsessive-Compulsive Disorder      5\n",
      "Name: count, dtype: int64\n",
      "------------------------------------------------------------\n",
      "\n",
      "📌 Post-traumatic Stress Disorder.1\n",
      "Post-traumatic Stress Disorder.1\n",
      "NaN                               155\n",
      "Post-traumatic Stress Disorder      9\n",
      "Name: count, dtype: int64\n",
      "------------------------------------------------------------\n",
      "\n",
      "📌 Stress Response Syndromes.2\n",
      "Stress Response Syndromes.2\n",
      "NaN                          163\n",
      "Stress Response Syndromes      1\n",
      "Name: count, dtype: int64\n",
      "------------------------------------------------------------\n",
      "\n",
      "📌 Dissociative Disorder.2\n",
      "Dissociative Disorder.2\n",
      "NaN                      160\n",
      "Dissociative Disorder      4\n",
      "Name: count, dtype: int64\n",
      "------------------------------------------------------------\n",
      "\n",
      "📌 Substance Use Disorder.2\n",
      "Substance Use Disorder.2\n",
      "NaN                       161\n",
      "Substance Use Disorder      3\n",
      "Name: count, dtype: int64\n",
      "------------------------------------------------------------\n",
      "\n",
      "📌 Addictive Disorder.2\n",
      "Addictive Disorder.2\n",
      "NaN                   162\n",
      "Addictive Disorder      2\n",
      "Name: count, dtype: int64\n",
      "------------------------------------------------------------\n",
      "\n",
      "📌 Other.2\n",
      "Other.2\n",
      "NaN                         163\n",
      "Autism Spectrum Disorder      1\n",
      "Name: count, dtype: int64\n",
      "------------------------------------------------------------\n",
      "\n",
      "📌 Have you had a mental health disorder in the past?\n",
      "Have you had a mental health disorder in the past?\n",
      "No            77\n",
      "Yes           53\n",
      "Possibly      21\n",
      "Don't Know    11\n",
      "NaN            2\n",
      "Name: count, dtype: int64\n",
      "------------------------------------------------------------\n",
      "\n",
      "📌 Have you ever sought treatment for a mental health disorder from a mental health professional?\n",
      "Have you ever sought treatment for a mental health disorder from a mental health professional?\n",
      "0    87\n",
      "1    77\n",
      "Name: count, dtype: int64\n",
      "------------------------------------------------------------\n",
      "\n",
      "📌 Do you have a family history of mental illness?\n",
      "Do you have a family history of mental illness?\n",
      "No              87\n",
      "Yes             45\n",
      "I don't know    32\n",
      "Name: count, dtype: int64\n",
      "------------------------------------------------------------\n",
      "\n",
      "📌 If you have a mental health disorder, how often do you feel that it interferes with your work *when being treated effectively?*\n",
      "If you have a mental health disorder, how often do you feel that it interferes with your work *when being treated effectively?*\n",
      "Not applicable to me    79\n",
      "Sometimes               44\n",
      "Rarely                  24\n",
      "Often                   10\n",
      "Never                    7\n",
      "Name: count, dtype: int64\n",
      "------------------------------------------------------------\n",
      "\n",
      "📌 If you have a mental health disorder, how often do you feel that it interferes with your work *when* _*NOT*_* being treated effectively (i.e., when you are experiencing symptoms)?*\n",
      "If you have a mental health disorder, how often do you feel that it interferes with your work *when* _*NOT*_* being treated effectively (i.e., when you are experiencing symptoms)?*\n",
      "Not applicable to me    75\n",
      "Often                   51\n",
      "Sometimes               27\n",
      "Rarely                   8\n",
      "Never                    3\n",
      "Name: count, dtype: int64\n",
      "------------------------------------------------------------\n",
      "\n",
      "📌 Have your observations of how another individual who discussed a mental health issue made you less likely to reveal a mental health issue yourself in your current workplace?\n",
      "Have your observations of how another individual who discussed a mental health issue made you less likely to reveal a mental health issue yourself in your current workplace?\n",
      "No       80\n",
      "NaN      33\n",
      "Maybe    29\n",
      "Yes      22\n",
      "Name: count, dtype: int64\n",
      "------------------------------------------------------------\n",
      "\n",
      "📌 How willing would you be to share with friends and family that you have a mental illness?\n",
      "How willing would you be to share with friends and family that you have a mental illness?\n",
      "7     28\n",
      "8     26\n",
      "10    22\n",
      "5     22\n",
      "6     17\n",
      "9     13\n",
      "4     10\n",
      "0      9\n",
      "3      7\n",
      "2      6\n",
      "1      4\n",
      "Name: count, dtype: int64\n",
      "------------------------------------------------------------\n",
      "\n",
      "📌 Would you be willing to bring up a physical health issue with a potential employer in an interview?\n",
      "Would you be willing to bring up a physical health issue with a potential employer in an interview?\n",
      "Maybe    71\n",
      "No       55\n",
      "Yes      38\n",
      "Name: count, dtype: int64\n",
      "------------------------------------------------------------\n",
      "\n",
      "📌 Why or why not?\n",
      "Why or why not?\n",
      "NaN                                                                                                                                                                                 43\n",
      "I (know) believe you should be honest about it and not be scared to tell. If they don't want someone with physical health issues then you don't want to work for such a company.     1\n",
      "Concern that the employer will think about how it will impact my work. I have a physical disability along with anxiety. I worry that an employer would discriminate against me.      1\n",
      "Don't want to be discriminated against                                                                                                                                               1\n",
      "because it is a personal matter and it does not interfere with my professionalism.                                                                                                   1\n",
      "                                                                                                                                                                                    ..\n",
      "I would rather be open about it, therefore I wound discuss it with them                                                                                                              1\n",
      "They should know that I may or may not be able to perform some of the tasks without assistance.                                                                                      1\n",
      "I would hope they would not discriminate but there are all kinds of people out there                                                                                                 1\n",
      "can imperil the work prospects                                                                                                                                                       1\n",
      "this lowers the chance of getting a job                                                                                                                                              1\n",
      "Name: count, Length: 122, dtype: int64\n",
      "------------------------------------------------------------\n",
      "\n",
      "📌 Would you bring up your *mental* health with a potential employer in an interview?\n",
      "Would you bring up your *mental* health with a potential employer in an interview?\n",
      "No       88\n",
      "Maybe    57\n",
      "Yes      19\n",
      "Name: count, dtype: int64\n",
      "------------------------------------------------------------\n",
      "\n",
      "📌 Why or why not?.1\n",
      "Why or why not?.1\n",
      "NaN                                                                                                                                                                                                                                  40\n",
      "I (know) believe you should be honest about it and not be scared to tell. If they don't want someone with mental health issues then you don't want to work for such a company.                                                        1\n",
      "I don't want to be seen as difficult before I've begun working. I expect my anxiety is pretty obvious in an interview anyways, but I don't want to bring it up and turn the conversation towards something perceived as negative.     1\n",
      "Don't want to be discriminated against                                                                                                                                                                                                1\n",
      "because it is a personal matter and it does not interfere with my professionalism.                                                                                                                                                    1\n",
      "                                                                                                                                                                                                                                     ..\n",
      "Best to be more open to it                                                                                                                                                                                                            1\n",
      "The employer should know that there might be times when I have to take a break to make sure I don't have a breakdown.                                                                                                                 1\n",
      "Same, I would hope for no discrimination but can never tell who will be the bad apples                                                                                                                                                1\n",
      "Can cause you to loose your job                                                                                                                                                                                                       1\n",
      "this is a weakness, it lowers the chance of getting a job                                                                                                                                                                             1\n",
      "Name: count, Length: 125, dtype: int64\n",
      "------------------------------------------------------------\n",
      "\n",
      "📌 Are you openly identified at work as a person with a mental health issue?\n",
      "Are you openly identified at work as a person with a mental health issue?\n",
      "0    147\n",
      "1     17\n",
      "Name: count, dtype: int64\n",
      "------------------------------------------------------------\n",
      "\n",
      "📌 Has being identified as a person with a mental health issue affected your career?\n",
      "Has being identified as a person with a mental health issue affected your career?\n",
      "NaN    147\n",
      "0.0      9\n",
      "1.0      8\n",
      "Name: count, dtype: int64\n",
      "------------------------------------------------------------\n",
      "\n",
      "📌 How has it affected your career?\n",
      "How has it affected your career?\n",
      "NaN    156\n",
      "5.0      2\n",
      "1.0      1\n",
      "9.0      1\n",
      "3.0      1\n",
      "4.0      1\n",
      "7.0      1\n",
      "8.0      1\n",
      "Name: count, dtype: int64\n",
      "------------------------------------------------------------\n",
      "\n",
      "📌 If they knew you suffered from a mental health disorder, how do you think that your team members/co-workers would react?\n",
      "If they knew you suffered from a mental health disorder, how do you think that your team members/co-workers would react?\n",
      "5     39\n",
      "6     23\n",
      "7     21\n",
      "8     18\n",
      "10    15\n",
      "4     14\n",
      "3      8\n",
      "0      7\n",
      "9      7\n",
      "2      6\n",
      "1      6\n",
      "Name: count, dtype: int64\n",
      "------------------------------------------------------------\n",
      "\n",
      "📌 Have you observed or experienced an *unsupportive or badly handled response* to a mental health issue in your current or previous workplace?\n",
      "Have you observed or experienced an *unsupportive or badly handled response* to a mental health issue in your current or previous workplace?\n",
      "No                                72\n",
      "Maybe/Not sure                    43\n",
      "Yes, I observed                   24\n",
      "Yes, I experienced                19\n",
      "I've always been self-employed     6\n",
      "Name: count, dtype: int64\n",
      "------------------------------------------------------------\n",
      "\n",
      "📌 Describe the circumstances of the badly handled or unsupportive response.\n",
      "Describe the circumstances of the badly handled or unsupportive response.\n",
      "NaN                                                                                                                                                                                                                                                                                                                                                                                                  137\n",
      "I had a panic attack and was blamed for it                                                                                                                                                                                                                                                                                                                                                             1\n",
      "A couple of weeks before my burnout and calling in sick I mentioned that I was feeling burned out and things were not going so well. There was no direct action taken until I called in sick.                                                                                                                                                                                                          1\n",
      "Telling people how they should act online. Jokes about suicide in front of people who have had family that struggle with it                                                                                                                                                                                                                                                                            1\n",
      "Multiple people struggling with anxiety and depression that impacted their performance. They were subsequently let go or discouraged from staying.                                                                                                                                                                                                                                                     1\n",
      "a coworker with an eating disorder was managed by someone with no understanding or expertise in this area, & the manage made many inappropriate decisions about how my coworker should operate                                                                                                                                                                                                         1\n",
      "Lost a few jobs                                                                                                                                                                                                                                                                                                                                                                                        1\n",
      "They took a medical license and were fired right after coming back.                                                                                                                                                                                                                                                                                                                                    1\n",
      "All sorts of microaggressions and unsupportive behaviors happenings. Often acting like they are experts on topics they know nothing about. Mental health, LGBT, race.                                                                                                                                                                                                                                  1\n",
      "called weirdo, crazy                                                                                                                                                                                                                                                                                                                                                                                   1\n",
      "I had a previous workplace that was actively manipulative and abusive.                                                                                                                                                                                                                                                                                                                                 1\n",
      "Employee was burned out without any reflection.                                                                                                                                                                                                                                                                                                                                                        1\n",
      "No idea                                                                                                                                                                                                                                                                                                                                                                                                1\n",
      "Stress/migrain related                                                                                                                                                                                                                                                                                                                                                                                 1\n",
      "Someone mentioned being tired/burned out/stressed and they were told to just push through it.                                                                                                                                                                                                                                                                                                          1\n",
      "The person was very distraught over the death of a loved one. As time goes on people are supposed to struggle through, but this person was stuck and moved into depression. They started having attendance issues and maintaining composure on the job. She liked working there. The company followed their normal review process with no understanding of her situation and she was just let go.      1\n",
      "When a coworker has flown off I’ve had bosses or coworkers confront or blow them off                                                                                                                                                                                                                                                                                                                   1\n",
      "With some guys there was discrimination                                                                                                                                                                                                                                                                                                                                                                1\n",
      "Stigmatic.                                                                                                                                                                                                                                                                                                                                                                                             1\n",
      "A coworker was uncomfortable granting services to male-identifying client due to recent trauma with male partner and requested an alternative assignment. Supervisor indicated serving male clients was part of the job description and gave coworker 2 weeks to \"deal with issue\" or would potentially terminate her.                                                                                 1\n",
      "coworker with mental and stress issues in pandemic isolation I ask to the company for help and they said \"we don't have personal to treat those issues here...\" so bad response, they don't answer who, what, when or anything else, just the negation and bye...                                                                                                                                      1\n",
      "z                                                                                                                                                                                                                                                                                                                                                                                                      1\n",
      "Reprimanding, being told it's an excuse                                                                                                                                                                                                                                                                                                                                                                1\n",
      "A coworker who had a clear burn-out but kept working. I told him and my supervisors that he had to calm down/stop. But no reaction whatsoever                                                                                                                                                                                                                                                          1\n",
      "I’d rather not                                                                                                                                                                                                                                                                                                                                                                                         1\n",
      "There was a staff member wouldn't talk to anyone, and hid away. His work was normally OK, but the quality gradually declined. Nobody knew how to deal with it.                                                                                                                                                                                                                                         1\n",
      "The person is perceived as weak, unable to handle it, they lose responsibility and stagnate.                                                                                                                                                                                                                                                                                                           1\n",
      "treated as someone with mental illness                                                                                                                                                                                                                                                                                                                                                                 1\n",
      "Name: count, dtype: int64\n",
      "------------------------------------------------------------\n",
      "\n",
      "📌 Have you observed or experienced a *supportive or well handled response* to a mental health issue in your current or previous workplace?\n",
      "Have you observed or experienced a *supportive or well handled response* to a mental health issue in your current or previous workplace?\n",
      "Maybe/Not sure                    51\n",
      "No                                44\n",
      "Yes, I experienced                35\n",
      "Yes, I observed                   29\n",
      "I've always been self-employed     5\n",
      "Name: count, dtype: int64\n",
      "------------------------------------------------------------\n",
      "\n",
      "📌 Describe the circumstances of the supportive or well handled response.\n",
      "Describe the circumstances of the supportive or well handled response.\n",
      "NaN    164\n",
      "Name: count, dtype: int64\n",
      "------------------------------------------------------------\n",
      "\n",
      "📌 Overall, how well do you think the tech industry supports employees with mental health issues?\n",
      "Overall, how well do you think the tech industry supports employees with mental health issues?\n",
      "3    72\n",
      "4    35\n",
      "2    32\n",
      "1    21\n",
      "5     4\n",
      "Name: count, dtype: int64\n",
      "------------------------------------------------------------\n",
      "\n",
      "📌 Briefly describe what you think the industry as a whole and/or employers could do to improve mental health support for employees.\n",
      "Briefly describe what you think the industry as a whole and/or employers could do to improve mental health support for employees.\n",
      "NaN                                                                                                                                                                                                                                  57\n",
      "I've only seen MH benefits offers in large companies                                                                                                                                                                                  1\n",
      "Talk about it, show employees what you can do to help if they have mental health issues, show employees what their rights are when they have mental health issues, create an environment where people feel safe to talk about it.     1\n",
      "Assume good intentions from employees. Assume your employees are trying their hardest and ask how you can help enable them because you know that they are doing their best.                                                           1\n",
      "Capitalism damages mental health and all companies are guilty of prioritising profit over people                                                                                                                                      1\n",
      "                                                                                                                                                                                                                                     ..\n",
      "I don't really have an answer for that, other than if the costs were lower they could provide more.                                                                                                                                   1\n",
      "make their stance on mental health known at the beginning and be supportive                                                                                                                                                           1\n",
      "Tech is full of startups and employers who expect a lot of their employees, and as a result burnout is too common                                                                                                                     1\n",
      "needs more education and awareness                                                                                                                                                                                                    1\n",
      "in my case, it is necessary to completely change the employer's worldview                                                                                                                                                             1\n",
      "Name: count, Length: 108, dtype: int64\n",
      "------------------------------------------------------------\n",
      "\n",
      "📌 If there is anything else you would like to tell us that has not been covered by the survey questions, please use this space to do so.\n",
      "If there is anything else you would like to tell us that has not been covered by the survey questions, please use this space to do so.\n",
      "NaN                                                                                                                                                                                                                                                                                                                                                                    135\n",
      "No                                                                                                                                                                                                                                                                                                                                                                       3\n",
      "no                                                                                                                                                                                                                                                                                                                                                                       3\n",
      "Nope                                                                                                                                                                                                                                                                                                                                                                     2\n",
      "questions related to the inclusion of organizational psychologists in industries                                                                                                                                                                                                                                                                                         1\n",
      "Asking for the type of disorder/severity of the person. Asking for ways people manage the disorder                                                                                                                                                                                                                                                                       1\n",
      "A mental health disorder can be diagnosed by professionals other than a doctor (eg psychologist, psychiatrist) - please change the wording of your survey to reflect this                                                                                                                                                                                                1\n",
      "ff                                                                                                                                                                                                                                                                                                                                                                       1\n",
      "Keep doing what you're doing! Thanks for all your hard work.                                                                                                                                                                                                                                                                                                             1\n",
      "Dont this to much questions its also make mental                                                                                                                                                                                                                                                                                                                         1\n",
      "ask about supervisor and colleagues                                                                                                                                                                                                                                                                                                                                      1\n",
      "Not that I can think of.                                                                                                                                                                                                                                                                                                                                                 1\n",
      "I had to flee an employer that was sending out Mental Health Awareness month emails from the CEO at the same time he personally refused to make accommodations for me.                                                                                                                                                                                                   1\n",
      "The typical poor management experienced by employees in tech companies (I've worked for more than a dozen) seems designed to exacerbate any underlying mental health issues.                                                                                                                                                                                             1\n",
      "blabla                                                                                                                                                                                                                                                                                                                                                                   1\n",
      "No question for this survey at this time.                                                                                                                                                                                                                                                                                                                                1\n",
      "Mental Health issues sometimes means you can't perform your job duties.                                                                                                                                                                                                                                                                                                  1\n",
      "Thank you!                                                                                                                                                                                                                                                                                                                                                               1\n",
      "thank you for this survey                                                                                                                                                                                                                                                                                                                                                1\n",
      "z                                                                                                                                                                                                                                                                                                                                                                        1\n",
      "In several ways, I think my ADHD has been an advantage to my professional success.                                                                                                                                                                                                                                                                                       1\n",
      "Stop asking questions of this magnitude in surveys like this perhaps?                                                                                                                                                                                                                                                                                                    1\n",
      "People in IT are more likely to speak with peers about mental health issues than they would any other level or part of the organization. There is a lot of pressure to perform and succeed 100% of the time for the organization. Those stresses easily lead to a culture of overwork where trying to maintain \"work life balance\" is viewed outside of the normal.      1\n",
      "Some questions were not in my experience yet I had to answer so I just picked a neutral if possible.                                                                                                                                                                                                                                                                     1\n",
      "It would be nice to add more awareness and making some rules to make emplyers discuss/inform mental health policies to the staffs.                                                                                                                                                                                                                                       1\n",
      "Name: count, dtype: int64\n",
      "------------------------------------------------------------\n",
      "\n",
      "📌 Would you be willing to talk to one of us more extensively about your experiences with mental health issues in the tech industry? (Note that all interview responses would be used _anonymously_ and only with your permission.)\n",
      "Would you be willing to talk to one of us more extensively about your experiences with mental health issues in the tech industry? (Note that all interview responses would be used _anonymously_ and only with your permission.)\n",
      "0    119\n",
      "1     45\n",
      "Name: count, dtype: int64\n",
      "------------------------------------------------------------\n",
      "\n",
      "📌 What is your age?\n",
      "What is your age?\n",
      "38    8\n",
      "45    8\n",
      "35    7\n",
      "36    7\n",
      "39    7\n",
      "46    7\n",
      "23    6\n",
      "50    6\n",
      "44    6\n",
      "33    6\n",
      "32    6\n",
      "43    6\n",
      "29    5\n",
      "30    5\n",
      "37    5\n",
      "34    5\n",
      "40    5\n",
      "47    4\n",
      "31    4\n",
      "41    4\n",
      "22    4\n",
      "61    3\n",
      "26    3\n",
      "48    3\n",
      "58    3\n",
      "20    2\n",
      "53    2\n",
      "65    2\n",
      "28    2\n",
      "42    2\n",
      "56    2\n",
      "49    2\n",
      "60    2\n",
      "21    2\n",
      "51    2\n",
      "59    2\n",
      "55    2\n",
      "2     1\n",
      "25    1\n",
      "27    1\n",
      "63    1\n",
      "76    1\n",
      "24    1\n",
      "57    1\n",
      "Name: count, dtype: int64\n",
      "------------------------------------------------------------\n",
      "\n",
      "📌 What is your gender?\n",
      "What is your gender?\n",
      "Male                    78\n",
      "male                    28\n",
      "female                  16\n",
      "Female                  12\n",
      "M                        8\n",
      "F                        4\n",
      "f                        3\n",
      "m                        3\n",
      "NaN                      3\n",
      "man                      2\n",
      "Female, cis-gendered     1\n",
      "Cis male                 1\n",
      "Cis Male                 1\n",
      "non-binary               1\n",
      "dude                     1\n",
      "Queer                    1\n",
      "varón                    1\n",
      "Name: count, dtype: int64\n",
      "------------------------------------------------------------\n",
      "\n",
      "📌 What country do you *live* in?\n",
      "What country do you *live* in?\n",
      "United States of America    64\n",
      "United Kingdom              15\n",
      "Canada                      12\n",
      "India                        7\n",
      "Germany                      7\n",
      "Netherlands                  5\n",
      "Australia                    4\n",
      "Russia                       3\n",
      "Spain                        3\n",
      "Italy                        3\n",
      "Poland                       3\n",
      "France                       3\n",
      "Indonesia                    3\n",
      "Serbia                       2\n",
      "Argentina                    2\n",
      "Austria                      2\n",
      "South Africa                 2\n",
      "Belgium                      2\n",
      "Sweden                       1\n",
      "Vietnam                      1\n",
      "Brazil                       1\n",
      "Jordan                       1\n",
      "Ukraine                      1\n",
      "Bosnia and Herzegovina       1\n",
      "Somalia                      1\n",
      "Slovenia                     1\n",
      "Bangladesh                   1\n",
      "Lithuania                    1\n",
      "New Zealand                  1\n",
      "Taiwan                       1\n",
      "Peru                         1\n",
      "Romania                      1\n",
      "Panama                       1\n",
      "Uruguay                      1\n",
      "Colombia                     1\n",
      "Mexico                       1\n",
      "Aruba                        1\n",
      "Israel                       1\n",
      "Denmark                      1\n",
      "Kazakhstan                   1\n",
      "Name: count, dtype: int64\n",
      "------------------------------------------------------------\n",
      "\n",
      "📌 What US state or territory do you *live* in?\n",
      "What US state or territory do you *live* in?\n",
      "NaN               100\n",
      "California         11\n",
      "Wisconsin           5\n",
      "Texas               4\n",
      "Illinois            4\n",
      "Massachusetts       3\n",
      "North Carolina      3\n",
      "New York            3\n",
      "Florida             3\n",
      "Virginia            3\n",
      "Minnesota           2\n",
      "Arizona             2\n",
      "Oregon              2\n",
      "Maryland            2\n",
      "Pennsylvania        2\n",
      "Georgia             2\n",
      "Washington          1\n",
      "Indiana             1\n",
      "Connecticut         1\n",
      "Ohio                1\n",
      "Michigan            1\n",
      "Colorado            1\n",
      "Tennessee           1\n",
      "Utah                1\n",
      "New Mexico          1\n",
      "Oklahoma            1\n",
      "Idaho               1\n",
      "New Jersey          1\n",
      "Alabama             1\n",
      "Name: count, dtype: int64\n",
      "------------------------------------------------------------\n",
      "\n",
      "📌 What is your race?\n",
      "What is your race?\n",
      "NaN                           103\n",
      "White                          50\n",
      "Asian                           4\n",
      "I prefer not to answer          4\n",
      "More than one of the above      2\n",
      "Black or African American       1\n",
      "Name: count, dtype: int64\n",
      "------------------------------------------------------------\n",
      "\n",
      "📌 Other.3\n",
      "Other.3\n",
      "NaN           161\n",
      "Latino          1\n",
      "Latina          1\n",
      "US Citizen      1\n",
      "Name: count, dtype: int64\n",
      "------------------------------------------------------------\n",
      "\n",
      "📌 What country do you *work* in?\n",
      "What country do you *work* in?\n",
      "United States of America    66\n",
      "United Kingdom              16\n",
      "Canada                      11\n",
      "Germany                      7\n",
      "India                        6\n",
      "Netherlands                  5\n",
      "Australia                    4\n",
      "Italy                        3\n",
      "Spain                        3\n",
      "Poland                       3\n",
      "Russia                       3\n",
      "France                       3\n",
      "Indonesia                    3\n",
      "Argentina                    2\n",
      "Austria                      2\n",
      "South Africa                 2\n",
      "Serbia                       2\n",
      "Belgium                      2\n",
      "Sweden                       1\n",
      "South Sudan                  1\n",
      "Jordan                       1\n",
      "Ukraine                      1\n",
      "Brazil                       1\n",
      "Somalia                      1\n",
      "Slovenia                     1\n",
      "United Arab Emirates         1\n",
      "Angola                       1\n",
      "New Zealand                  1\n",
      "Taiwan                       1\n",
      "Peru                         1\n",
      "Romania                      1\n",
      "Panama                       1\n",
      "Uruguay                      1\n",
      "Colombia                     1\n",
      "Mexico                       1\n",
      "Armenia                      1\n",
      "Israel                       1\n",
      "Denmark                      1\n",
      "Kazakhstan                   1\n",
      "Name: count, dtype: int64\n",
      "------------------------------------------------------------\n",
      "\n",
      "📌 What US state or territory do you *work* in?\n",
      "What US state or territory do you *work* in?\n",
      "NaN               98\n",
      "California        11\n",
      "Wisconsin          5\n",
      "Texas              4\n",
      "New York           4\n",
      "Illinois           4\n",
      "Florida            3\n",
      "Massachusetts      3\n",
      "Virginia           3\n",
      "North Carolina     2\n",
      "Washington         2\n",
      "Minnesota          2\n",
      "Oregon             2\n",
      "Arizona            2\n",
      "Georgia            2\n",
      "Pennsylvania       2\n",
      "Maryland           2\n",
      "Colorado           2\n",
      "Indiana            1\n",
      "Ohio               1\n",
      "Connecticut        1\n",
      "Michigan           1\n",
      "Tennessee          1\n",
      "Utah               1\n",
      "New Mexico         1\n",
      "Oklahoma           1\n",
      "Idaho              1\n",
      "New Jersey         1\n",
      "Alaska             1\n",
      "Name: count, dtype: int64\n",
      "------------------------------------------------------------\n",
      "\n",
      "📌 Have you been diagnosed with COVID-19?\n",
      "Have you been diagnosed with COVID-19?\n",
      "NaN    164\n",
      "Name: count, dtype: int64\n",
      "------------------------------------------------------------\n",
      "\n",
      "📌 Response Type\n",
      "Response Type\n",
      "completed    164\n",
      "Name: count, dtype: int64\n",
      "------------------------------------------------------------\n",
      "\n",
      "📌 Start Date (UTC)\n",
      "Start Date (UTC)\n",
      "2022-12-25 13:04:39    1\n",
      "2022-12-21 17:47:17    1\n",
      "2022-12-14 12:40:16    1\n",
      "2022-12-07 15:46:30    1\n",
      "2022-12-01 12:23:51    1\n",
      "                      ..\n",
      "2022-02-01 13:19:56    1\n",
      "2022-01-31 11:00:40    1\n",
      "2022-01-31 07:09:42    1\n",
      "2022-01-08 21:51:00    1\n",
      "2022-01-02 11:52:24    1\n",
      "Name: count, Length: 164, dtype: int64\n",
      "------------------------------------------------------------\n",
      "\n",
      "📌 Submit Date (UTC)\n",
      "Submit Date (UTC)\n",
      "2022-12-25 13:12:15    1\n",
      "2022-12-21 18:09:51    1\n",
      "2022-12-14 12:48:02    1\n",
      "2022-12-07 16:25:24    1\n",
      "2022-12-01 12:33:14    1\n",
      "                      ..\n",
      "2022-02-01 13:44:52    1\n",
      "2022-01-31 11:06:50    1\n",
      "2022-01-31 07:26:12    1\n",
      "2022-01-08 21:56:54    1\n",
      "2022-01-02 12:26:22    1\n",
      "Name: count, Length: 164, dtype: int64\n",
      "------------------------------------------------------------\n",
      "\n",
      "📌 Network ID\n",
      "Network ID\n",
      "77b07b6fea    2\n",
      "486956f1d1    2\n",
      "af98dee606    1\n",
      "16f9edd3e7    1\n",
      "1d324732b0    1\n",
      "             ..\n",
      "9539efc338    1\n",
      "5129d1b9f3    1\n",
      "7eefa5bf1d    1\n",
      "3e53e0b9bc    1\n",
      "a2ad384509    1\n",
      "Name: count, Length: 162, dtype: int64\n",
      "------------------------------------------------------------\n",
      "\n",
      "📌 Tags\n",
      "Tags\n",
      "NaN    164\n",
      "Name: count, dtype: int64\n",
      "------------------------------------------------------------\n"
     ]
    }
   ],
   "source": [
    "for col in df.columns:\n",
    "    print(f\"\\n📌 {col}\")\n",
    "    print(df[col].value_counts(dropna=False))\n",
    "    print(\"-\" * 60)"
   ]
  },
  {
   "cell_type": "markdown",
   "metadata": {},
   "source": [
    "Renamed the column to is_self_employment and encoded values:\n",
    "\n",
    "Response | Meaning | Encoding\n",
    "|:-------|:-------|:-------|\n",
    "1.0 | Yes | 1.0\n",
    "0.0 | No | -1.0\n",
    "NaN | Unknown | 0.0"
   ]
  },
  {
   "cell_type": "code",
   "execution_count": 3,
   "metadata": {
    "id": "SOlmDGV-p96r"
   },
   "outputs": [],
   "source": [
    "df.rename(columns={'*Are you self-employed?*': \\\n",
    "                   'is_self_employment'}, inplace=True)"
   ]
  },
  {
   "cell_type": "code",
   "execution_count": 4,
   "metadata": {},
   "outputs": [],
   "source": [
    "df['is_self_employment'] = df['is_self_employment'].map({\n",
    "    1.0: 1.0,\n",
    "    0.0: -1.0\n",
    "}).fillna(0.0)\n"
   ]
  },
  {
   "cell_type": "markdown",
   "metadata": {},
   "source": [
    "No Ordinal Relationship: Since \"company_size\" categories like \"1-5\", \"6-25\", \"26-100\", and \"More than 1000\" are distinct categories, there’s no natural order between them.\n",
    "\n",
    "Handle Unknown Separately: One-Hot Encoding will create a separate column for \"Unknown\", ensuring that it's treated as a distinct category instead of being treated as a middle or low range (which could happen if you label encode it)."
   ]
  },
  {
   "cell_type": "code",
   "execution_count": 5,
   "metadata": {},
   "outputs": [],
   "source": [
    "df.rename(columns={'How many employees does your company or organization have?': \\\n",
    "                   'company_employees_number'}, inplace=True)"
   ]
  },
  {
   "cell_type": "code",
   "execution_count": 6,
   "metadata": {
    "id": "5tKisSQorKuh"
   },
   "outputs": [],
   "source": [
    "df['company_employees_number'] = \\\n",
    "    df['company_employees_number'].fillna('Unknown')"
   ]
  },
  {
   "cell_type": "code",
   "execution_count": 7,
   "metadata": {
    "id": "aUAvl99WrNCW"
   },
   "outputs": [],
   "source": [
    "size_order = ['Unknown','1-5', '6-25', '26-100', '100-500', '500-1000', 'More than 1000']\n",
    "cat_type = CategoricalDtype(categories=size_order, ordered=True)\n",
    "\n",
    "df['company_size'] = df['company_employees_number'].astype(cat_type)"
   ]
  },
  {
   "cell_type": "code",
   "execution_count": 8,
   "metadata": {},
   "outputs": [],
   "source": [
    "df = pd.get_dummies(df, columns=['company_size'], drop_first=False)"
   ]
  },
  {
   "cell_type": "markdown",
   "metadata": {},
   "source": [
    "The is_tech_company feature was encoded to reflect whether participants' employers are primarily tech companies:\n",
    "\n",
    "Response | Meaning | Encoding\n",
    "|:-------|:-------|:-------|\n",
    "1.0 | Tech company | 1.0\n",
    "0.0 | Non-tech company | -1.0\n",
    "NaN | Unknown | 0.0\n"
   ]
  },
  {
   "cell_type": "code",
   "execution_count": 9,
   "metadata": {},
   "outputs": [],
   "source": [
    "df.rename(columns = {'Is your employer primarily a tech company/organization?': \\\n",
    "                     'is_tech_company'}, inplace = True)"
   ]
  },
  {
   "cell_type": "code",
   "execution_count": 10,
   "metadata": {
    "id": "UbFagWZZsgw4"
   },
   "outputs": [],
   "source": [
    "df['is_tech_company'] = df['is_tech_company'].map({\n",
    "    1.0: 1.0,\n",
    "    0.0: -1.0\n",
    "}).fillna(0.0)\n"
   ]
  },
  {
   "cell_type": "markdown",
   "metadata": {},
   "source": [
    "Renamed the column to is_tech_role and encoded values:\n",
    "\n",
    "Response | Meaning | Encoding\n",
    "|:-------|:-------|:-------|\n",
    "1.0 | Tech role | 1.0\n",
    "0.0 | Non-tech role | -1.0\n",
    "NaN | Unknown | 0.0\n"
   ]
  },
  {
   "cell_type": "code",
   "execution_count": 11,
   "metadata": {},
   "outputs": [],
   "source": [
    "df.rename(columns = {'Is your primary role within your company related to tech/IT?': \\\n",
    "                     'is_tech_role'}, inplace = True)"
   ]
  },
  {
   "cell_type": "code",
   "execution_count": 12,
   "metadata": {
    "id": "SDTawj9YxGak"
   },
   "outputs": [],
   "source": [
    "df['is_tech_role'] = df['is_tech_role'].map({\n",
    "    1.0: 1.0,\n",
    "    0.0: -1.0\n",
    "}).fillna(0.0)"
   ]
  },
  {
   "cell_type": "markdown",
   "metadata": {},
   "source": [
    "Renamed the column to company_mental_health_benefits and encoded values:\n",
    "\n",
    "Response | Meaning | Encoding\n",
    "|:-------|:-------|:-------|\n",
    "Yes | Mental health benefits available | 1.0\n",
    "No | No benefits | -1.0\n",
    "Not eligible for coverage / NA | No benefits | -1.0\n",
    "NaN | Unknown | 0.0\n",
    "I don't know | Unknown | 0.0\n",
    "\n"
   ]
  },
  {
   "cell_type": "code",
   "execution_count": 13,
   "metadata": {},
   "outputs": [],
   "source": [
    "df.rename(columns = {'Does your employer provide mental health benefits as part of healthcare coverage?': \\\n",
    "                     'company_mental_health_benefits'}, inplace = True)"
   ]
  },
  {
   "cell_type": "code",
   "execution_count": 14,
   "metadata": {},
   "outputs": [],
   "source": [
    "df['company_mental_health_benefits'] = \\\n",
    "    df['company_mental_health_benefits'].fillna(\"Unknown\")"
   ]
  },
  {
   "cell_type": "code",
   "execution_count": 15,
   "metadata": {
    "id": "Bgcfy15_0ERf"
   },
   "outputs": [],
   "source": [
    "df['company_mental_health_benefits'] = \\\n",
    "    df['company_mental_health_benefits'].map({\n",
    "        \"I don't know\": 0.0,\n",
    "        'Unknown': 0.0,\n",
    "        \"Not eligible for coverage / NA\": -1.0,\n",
    "        'No': -1.0,\n",
    "        'Yes': 1.0,\n",
    "    })"
   ]
  },
  {
   "cell_type": "markdown",
   "metadata": {},
   "source": [
    "Renamed the column to employer_mental_health_aid_awareness and encoded knowledge of employer-provided mental health care options:\n",
    "\n",
    "Response | Meaning | Encoding\n",
    "|:-------|:-------|:-------|\n",
    "Yes | Aware of available options | 1.0\n",
    "No | Not aware | -1.0\n",
    "Unknown | Unknown | 0.0\n"
   ]
  },
  {
   "cell_type": "code",
   "execution_count": 16,
   "metadata": {},
   "outputs": [],
   "source": [
    "df.rename(columns={'Do you know the options for mental health care available under your employer-provided health coverage?': \\\n",
    "                   'employer_mental_health_aid_awareness'},inplace=True)"
   ]
  },
  {
   "cell_type": "code",
   "execution_count": 17,
   "metadata": {
    "id": "2FxeDDEI04IN"
   },
   "outputs": [],
   "source": [
    "df['employer_mental_health_aid_awareness'] = \\\n",
    "    df['employer_mental_health_aid_awareness'].fillna('Unknown')\n"
   ]
  },
  {
   "cell_type": "code",
   "execution_count": 18,
   "metadata": {},
   "outputs": [],
   "source": [
    "df['employer_mental_health_aid_awareness'] = \\\n",
    "    df['employer_mental_health_aid_awareness'].map({\n",
    "        'Yes': 1.0,\n",
    "        'No': -1.0,\n",
    "        'Unknown': 0.0\n",
    "    })"
   ]
  },
  {
   "cell_type": "markdown",
   "metadata": {},
   "source": [
    "The employer_mental_health_learning_resources feature was encoded to reflect whether employers provide resources for learning about mental health disorders and seeking help:\n",
    "\n",
    "Response | Meaning | Encoding\n",
    "|:-------|:-------|:-------|\n",
    "Yes | Formal discussion held | 1.0\n",
    "No | No formal discussion | -1.0\n",
    "Unknown | Unknown | 0.0\n",
    "I don't know | Unknown | 0.0\n"
   ]
  },
  {
   "cell_type": "code",
   "execution_count": 19,
   "metadata": {},
   "outputs": [],
   "source": [
    "df.rename(columns= {'Has your employer ever formally discussed mental health (for example, as part of a wellness campaign or other official communication)?': \\\n",
    "        'formal_mental_health_discussion'}, inplace=True)\n",
    "          "
   ]
  },
  {
   "cell_type": "code",
   "execution_count": 20,
   "metadata": {
    "id": "kaCVSW3w0_UQ"
   },
   "outputs": [],
   "source": [
    "df['formal_mental_health_discussion'] = \\\n",
    "    df['formal_mental_health_discussion'].fillna('Unknown')"
   ]
  },
  {
   "cell_type": "code",
   "execution_count": 21,
   "metadata": {},
   "outputs": [],
   "source": [
    "df['formal_mental_health_discussion'] = \\\n",
    "    df['formal_mental_health_discussion'].map({\n",
    "        'Yes': 1.0,\n",
    "        'No': -1.0,\n",
    "        'Unknown': 0.0,\n",
    "        \"I don't know\": 0.0\n",
    "    })"
   ]
  },
  {
   "cell_type": "markdown",
   "metadata": {},
   "source": [
    "The employer_mental_health_learning_resources feature was encoded to reflect whether employers provide resources for learning about mental health disorders and seeking help:\n",
    "\n",
    "Response | Encoding\n",
    "|:-------|:-------|\n",
    "Yes | 1.0\n",
    "No | -1.0\n",
    "Unknown | 0.0\n",
    "I don't know | 0.0\n"
   ]
  },
  {
   "cell_type": "code",
   "execution_count": 22,
   "metadata": {},
   "outputs": [],
   "source": [
    "df.rename(columns = {'Does your employer offer resources to learn more about mental health disorders and options for seeking help?': \\\n",
    "    'employer_mental_health_learning_resources'}, inplace = True)"
   ]
  },
  {
   "cell_type": "code",
   "execution_count": 23,
   "metadata": {},
   "outputs": [],
   "source": [
    "df['employer_mental_health_learning_resources'] = \\\n",
    "    df['employer_mental_health_learning_resources'].fillna('Unknown')"
   ]
  },
  {
   "cell_type": "code",
   "execution_count": 24,
   "metadata": {},
   "outputs": [],
   "source": [
    "df['employer_mental_health_learning_resources'] = \\\n",
    "    df['employer_mental_health_learning_resources'].map({\n",
    "        'Yes': 1.0,\n",
    "        'No': -1.0,\n",
    "        'Unknown': 0.0,\n",
    "        \"I don't know\": 0.0\n",
    "    })"
   ]
  },
  {
   "cell_type": "markdown",
   "metadata": {},
   "source": [
    "Renamed the column to anonymity_protected and encoded values:\n",
    "\n",
    "Response | Meaning | Encoding\n",
    "|:-------|:-------|:-------|\n",
    "Yes | Anonymity protected | 1.0\n",
    "No | Anonymity not protected | -1.0\n",
    "Unknown | Unknown | 0.0\n",
    "I don't know | Unknown | 0.0\n"
   ]
  },
  {
   "cell_type": "code",
   "execution_count": 25,
   "metadata": {},
   "outputs": [],
   "source": [
    "df.rename(columns = {'Is your anonymity protected if you choose to take advantage of mental health or substance abuse treatment resources provided by your employer?' :\\\n",
    "    'anonymity_protected'}, inplace = True)"
   ]
  },
  {
   "cell_type": "code",
   "execution_count": 26,
   "metadata": {},
   "outputs": [],
   "source": [
    "df['anonymity_protected'] = \\\n",
    "    df['anonymity_protected'].fillna('Unknown')"
   ]
  },
  {
   "cell_type": "code",
   "execution_count": 27,
   "metadata": {},
   "outputs": [],
   "source": [
    "df['anonymity_protected'] = \\\n",
    "    df['anonymity_protected'].map({\n",
    "        'Yes': 1.0,\n",
    "        'No': -1.0,\n",
    "        'Unknown': 0.0,\n",
    "        \"I don't know\": 0.0\n",
    "    })"
   ]
  },
  {
   "cell_type": "markdown",
   "metadata": {},
   "source": [
    "Renamed the column to mental_health_leave_ease_score and encoded the perceived ease of requesting mental health leave:\n",
    "\n",
    "Response | Encoding\n",
    "|:-------|:--------|\n",
    "Very easy | 1.0\n",
    "Somewhat easy | 0.5\n",
    "Neither easy nor difficult / I don't know | 0.0\n",
    "Somewhat difficult | -0.5\n",
    "Difficult | -1.0\n"
   ]
  },
  {
   "cell_type": "code",
   "execution_count": 28,
   "metadata": {},
   "outputs": [],
   "source": [
    "df.rename(columns = {'If a mental health issue prompted you to request a medical leave from work, how easy or difficult would it be to ask for that leave?': \\\n",
    "    'mental_health_leave_ease_score'}, inplace = True)"
   ]
  },
  {
   "cell_type": "code",
   "execution_count": 29,
   "metadata": {},
   "outputs": [],
   "source": [
    "df['mental_health_leave_ease_score'] = \\\n",
    "    df['mental_health_leave_ease_score'].fillna('Unknown')"
   ]
  },
  {
   "cell_type": "code",
   "execution_count": 30,
   "metadata": {},
   "outputs": [],
   "source": [
    "df['mental_health_leave_ease_score'] = \\\n",
    "    df['mental_health_leave_ease_score'].map({\n",
    "        'Very easy': 1.0,\n",
    "        'Somewhat easy': 0.5,\n",
    "        'Unknown': 0.0,\n",
    "        \"Neither easy nor difficult\": 0.0,\n",
    "        \"I don't know\": 0.0,\n",
    "        'Somewhat difficult': -0.5,\n",
    "        'Difficult': -1.0\n",
    "    })"
   ]
  },
  {
   "cell_type": "markdown",
   "metadata": {},
   "source": [
    "Renamed the column to coworker_comfort_discussion_physical_vs_mental and encoded comfort levels:\n",
    "\n",
    "Response  | Encoding\n",
    "|:-------|:-------|\n",
    "Mental health | 1.0\n",
    "Physical health |  -1.0\n",
    "Unknown |  0.0\n",
    "Same level of comfort for each | 0.0"
   ]
  },
  {
   "cell_type": "code",
   "execution_count": 31,
   "metadata": {},
   "outputs": [],
   "source": [
    "df.rename(columns = {'Would you feel more comfortable talking to your coworkers about your physical health or your mental health?': \\\n",
    "    'coworker_comfort_discussion_physical_vs_mental'}, inplace = True)"
   ]
  },
  {
   "cell_type": "code",
   "execution_count": 32,
   "metadata": {},
   "outputs": [],
   "source": [
    "df['coworker_comfort_discussion_physical_vs_mental'] = \\\n",
    "    df['coworker_comfort_discussion_physical_vs_mental'].fillna('Unknown')"
   ]
  },
  {
   "cell_type": "code",
   "execution_count": 33,
   "metadata": {},
   "outputs": [],
   "source": [
    "df['coworker_comfort_discussion_physical_vs_mental'] = \\\n",
    "    df['coworker_comfort_discussion_physical_vs_mental'].map({\n",
    "        'Mental health': 1.0,\n",
    "        'Physical health': -1.0,\n",
    "        'Unknown': 0.0,\n",
    "        \"Same level of comfort for each\": 0.0\n",
    "    })"
   ]
  },
  {
   "cell_type": "markdown",
   "metadata": {
    "id": "XKib3ngz3Pvc"
   },
   "source": [
    "Renamed the column to supervisor_comfort_mental_health_discussion and encoded willingness to discuss mental health with a supervisor:\n",
    "\n",
    "Response | Meaning | Encoding\n",
    "|:-------|:-------|:-------|\n",
    "Yes | Comfortable discussing | 1.0\n",
    "No | Not comfortable | -1.0\n",
    "Unknown | Unknown | 0.0\n",
    "Maybe | Uncertain | 0.0\n",
    "\n"
   ]
  },
  {
   "cell_type": "code",
   "execution_count": 34,
   "metadata": {},
   "outputs": [],
   "source": [
    "df.rename(columns = {'Would you feel comfortable discussing a mental health issue with your direct supervisor(s)?': \\\n",
    "    'supervisor_comfort_mental_health_discussion'}, inplace = True)"
   ]
  },
  {
   "cell_type": "code",
   "execution_count": 35,
   "metadata": {},
   "outputs": [],
   "source": [
    "df['supervisor_comfort_mental_health_discussion'] = \\\n",
    "    df['supervisor_comfort_mental_health_discussion'].fillna('Unknown')"
   ]
  },
  {
   "cell_type": "code",
   "execution_count": 36,
   "metadata": {},
   "outputs": [],
   "source": [
    "df['supervisor_comfort_mental_health_discussion'] = \\\n",
    "    df['supervisor_comfort_mental_health_discussion'].map({\n",
    "        'Yes': 1.0,\n",
    "        'No': -1.0,\n",
    "        'Unknown': 0.0,\n",
    "        \"Maybe\": 0.0\n",
    "    })"
   ]
  },
  {
   "cell_type": "markdown",
   "metadata": {},
   "source": [
    "The column 'Have you ever discussed your mental health with your employer?' was renamed to is_discussed_mental_health_with_employer. Missing values were filled with 0.0, and the column was encoded as follows:\n",
    "\n",
    "| Response  | Encoding |\n",
    "| :-------- | :------- |\n",
    "| Yes (1.0) | 1.0      |\n",
    "| No (0.0)  | -1.0     |\n",
    "| Unknown   | 0.0      |\n"
   ]
  },
  {
   "cell_type": "code",
   "execution_count": 37,
   "metadata": {},
   "outputs": [],
   "source": [
    "df.rename(columns = {'Have you ever discussed your mental health with your employer?' : \\\n",
    "    'is_discussed_mental_health_with_employer'}, inplace = True)"
   ]
  },
  {
   "cell_type": "code",
   "execution_count": 38,
   "metadata": {},
   "outputs": [],
   "source": [
    "df['is_discussed_mental_health_with_employer'] = df['is_discussed_mental_health_with_employer'].map({\n",
    "    1.0: 1.0,\n",
    "    0.0: -1.0\n",
    "}).fillna(0.0)"
   ]
  },
  {
   "cell_type": "markdown",
   "metadata": {},
   "source": [
    "The column 'Describe the conversation you had with your employer about your mental health, including their reactions and what actions were taken to address your mental health issue/questions.' was renamed to employer_mental_health_discussion_description. A new feature, employer_mental_health_openness_score, was created based on whether a description\n",
    "\n",
    "| Description Provided | Openness Score |\n",
    "| :------------------- | :------------- |\n",
    "| Yes (non-null value) | 1.0            |\n",
    "| No (null value)      | -1.0           |\n",
    "\n",
    "This score represents whether the participant's employer was open to discussing mental health issues."
   ]
  },
  {
   "cell_type": "code",
   "execution_count": 39,
   "metadata": {
    "colab": {
     "base_uri": "https://localhost:8080/",
     "height": 179
    },
    "id": "d4MJJA6BwEvb",
    "outputId": "aefadd42-b08a-4fb5-df36-526855f6848c"
   },
   "outputs": [],
   "source": [
    "df.rename(columns={\n",
    "    'Describe the conversation you had with your employer about your mental health, including their reactions and what actions were taken to address your mental health issue/questions.': \n",
    "    'employer_mental_health_discussion_description'\n",
    "}, inplace=True)"
   ]
  },
  {
   "cell_type": "code",
   "execution_count": 40,
   "metadata": {},
   "outputs": [],
   "source": [
    "df['employer_mental_health_openness_score'] = df['employer_mental_health_discussion_description'].apply(\n",
    "    lambda x: 1 if pd.notna(x) else -1\n",
    ")"
   ]
  },
  {
   "cell_type": "markdown",
   "metadata": {},
   "source": [
    "The column 'Would you feel comfortable discussing a mental health issue with your coworkers?' was renamed to coworker_comfort_mental_health_discussion. Missing values were filled with 'Unknown', and the responses were encoded as follows:\n",
    "\n",
    "| Response | Encoding |\n",
    "| :------- | :------- |\n",
    "| Yes      | 1.0      |\n",
    "| No       | -1.0     |\n",
    "| Unknown  | 0.0      |\n",
    "| Maybe    | 0.0      |\n"
   ]
  },
  {
   "cell_type": "code",
   "execution_count": 41,
   "metadata": {},
   "outputs": [],
   "source": [
    "df.rename(columns = {'Would you feel comfortable discussing a mental health issue with your coworkers?':\\\n",
    "          'coworker_comfort_mental_health_discussion'}, inplace = True)"
   ]
  },
  {
   "cell_type": "code",
   "execution_count": 42,
   "metadata": {},
   "outputs": [],
   "source": [
    "df['coworker_comfort_mental_health_discussion'] = \\\n",
    "    df['coworker_comfort_mental_health_discussion'].fillna('Unknown')"
   ]
  },
  {
   "cell_type": "code",
   "execution_count": 43,
   "metadata": {
    "id": "zAjBdKiFyMh8"
   },
   "outputs": [],
   "source": [
    "df['coworker_comfort_mental_health_discussion'] = \\\n",
    "    df['coworker_comfort_mental_health_discussion'].map({\n",
    "        'Yes': 1.0,\n",
    "        'No': -1.0,\n",
    "        'Unknown': 0.0,\n",
    "        \"Maybe\": 0.0\n",
    "    })"
   ]
  },
  {
   "cell_type": "markdown",
   "metadata": {},
   "source": [
    "The column 'Have you ever discussed your mental health with coworkers?' was renamed to is_discussed_mental_health_with_coworkers. The responses were encoded as follows:\n",
    "\n",
    "| Response  | Encoding |\n",
    "| :-------- | :------- |\n",
    "| Yes (1.0) | 1.0      |\n",
    "| No (0.0)  | -1.0     |\n",
    "| Unknown   | 0.0      |\n"
   ]
  },
  {
   "cell_type": "code",
   "execution_count": 44,
   "metadata": {},
   "outputs": [],
   "source": [
    "df.rename(columns={\n",
    "    'Have you ever discussed your mental health with coworkers?': \n",
    "    'is_discussed_mental_health_with_coworkers'\n",
    "}, inplace=True)"
   ]
  },
  {
   "cell_type": "code",
   "execution_count": 45,
   "metadata": {},
   "outputs": [],
   "source": [
    "df['is_discussed_mental_health_with_coworkers'] = df['is_discussed_mental_health_with_coworkers'].map({\n",
    "    1.0: 1.0,\n",
    "    0.0: -1.0\n",
    "}).fillna(0.0)"
   ]
  },
  {
   "cell_type": "markdown",
   "metadata": {},
   "source": [
    "The column 'Describe the conversation with coworkers you had about your mental health including their reactions.' was renamed to coworker_mental_health_discussion_description. A new feature, coworker_mental_health_openness_score, was created based on whether a description was provided:\n",
    "\n",
    "| Description Provided | Openness Score |\n",
    "| :------------------- | :------------- |\n",
    "| Yes (non-null value) | 1.0            |\n",
    "| No (null value)      | -1.0           |\n",
    "\n",
    "This score reflects the openness of coworkers in discussing mental health based on whether a description was provided."
   ]
  },
  {
   "cell_type": "code",
   "execution_count": 46,
   "metadata": {},
   "outputs": [],
   "source": [
    "df.rename(columns={\n",
    "    'Describe the conversation with coworkers you had about your mental health including their reactions.': \n",
    "    'coworker_mental_health_discussion_description'\n",
    "}, inplace=True)"
   ]
  },
  {
   "cell_type": "code",
   "execution_count": 47,
   "metadata": {},
   "outputs": [],
   "source": [
    "df['coworker_mental_health_openness_score'] = df['coworker_mental_health_discussion_description'].apply(\n",
    "    lambda x: 1.0 if pd.notna(x) else -1.0\n",
    ")"
   ]
  },
  {
   "cell_type": "markdown",
   "metadata": {},
   "source": [
    "The column 'Have you ever had a coworker discuss their or another coworker's mental health with you?' was renamed to is_coworker_discussed_mental_health_with_you. The responses were encoded as follows:\n",
    "\n",
    "| Response  | Encoding |\n",
    "| :-------- | :------- |\n",
    "| Yes (1.0) | 1.0      |\n",
    "| No (0.0)  | -1.0     |\n",
    "| Unknown   | 0.0      |\n"
   ]
  },
  {
   "cell_type": "code",
   "execution_count": 48,
   "metadata": {},
   "outputs": [],
   "source": [
    "df.rename(columns={\n",
    "    'Have you ever had a coworker discuss their or another coworker\\'s mental health with you?': \n",
    "    'is_coworker_discussed_mental_health_with_you'\n",
    "}, inplace=True)"
   ]
  },
  {
   "cell_type": "code",
   "execution_count": 49,
   "metadata": {},
   "outputs": [],
   "source": [
    "df['is_coworker_discussed_mental_health_with_you'] = df['is_coworker_discussed_mental_health_with_you'].map({\n",
    "    1.0: 1.0,\n",
    "    0.0: -1.0\n",
    "}).fillna(0.0)"
   ]
  },
  {
   "cell_type": "markdown",
   "metadata": {},
   "source": [
    "The column 'Describe the conversation your coworker had with you about their mental health (please do not use names).' was renamed to coworker_shared_mental_health_description. A new feature, coworker_shared_mental_health_openness_score, was created based on whether a description was provided:\n",
    "\n",
    "| Description Provided | Openness Score |\n",
    "| :------------------- | :------------- |\n",
    "| Yes (non-null value) | 1.0            |\n",
    "| No (null value)      | -1.0           |\n",
    "\n",
    "This score reflects the openness of coworkers in sharing their mental health experiences based on whether a description was provided."
   ]
  },
  {
   "cell_type": "code",
   "execution_count": 50,
   "metadata": {},
   "outputs": [],
   "source": [
    "df.rename(columns={\n",
    "    'Describe the conversation your coworker had with you about their mental health (please do not use names).': \n",
    "    'coworker_shared_mental_health_description'\n",
    "}, inplace=True)"
   ]
  },
  {
   "cell_type": "code",
   "execution_count": 51,
   "metadata": {},
   "outputs": [],
   "source": [
    "df['coworker_shared_mental_health_openness_score'] = df['coworker_shared_mental_health_description'].apply(\n",
    "    lambda x: 1.0 if pd.notna(x) else -1.0\n",
    ")"
   ]
  },
  {
   "cell_type": "markdown",
   "metadata": {},
   "source": [
    "he column 'Overall, how much importance does your employer place on physical health?' was renamed to physical_health_importance_score. The scores were mapped to numerical values as follows:\n",
    "\n",
    "\n",
    "| Rating | Mapped Score |\n",
    "| :----- | :----------- |\n",
    "| 10     | 1.0          |\n",
    "| 9      | 0.8          |\n",
    "| 8      | 0.6          |\n",
    "| 7      | 0.4          |\n",
    "| 6      | 0.2          |\n",
    "| 5      | 0.0          |\n",
    "| 4      | -0.2         |\n",
    "| 3      | -0.4         |\n",
    "| 2      | -0.6         |\n",
    "| 1      | -0.8         |\n",
    "| 0      | -1.0         |\n",
    "\n",
    "Missing values were filled by sampling from the existing distribution of values to maintain the data's overall structure and avoid bias."
   ]
  },
  {
   "cell_type": "code",
   "execution_count": 52,
   "metadata": {},
   "outputs": [],
   "source": [
    "df.rename(columns={\n",
    "    'Overall, how much importance does your employer place on physical health?': \n",
    "    'physical_health_importance_score'\n",
    "}, inplace=True)"
   ]
  },
  {
   "cell_type": "code",
   "execution_count": 53,
   "metadata": {},
   "outputs": [],
   "source": [
    "import numpy as np\n",
    "\n",
    "value_probs = df['physical_health_importance_score'].value_counts(normalize=True)\n",
    "\n",
    "n_missing = df['physical_health_importance_score'].isna().sum()\n",
    "\n",
    "np.random.seed(42)\n",
    "sampled_values = np.random.choice(\n",
    "    value_probs.index, \n",
    "    size=n_missing, \n",
    "    p=value_probs.values\n",
    ")\n",
    "\n",
    "df.loc[df['physical_health_importance_score'].isna(), 'physical_health_importance_score'] = sampled_values"
   ]
  },
  {
   "cell_type": "code",
   "execution_count": 54,
   "metadata": {},
   "outputs": [],
   "source": [
    "df['physical_health_importance_score'] = \\\n",
    "    df['physical_health_importance_score'].map({\n",
    "        10.0: 1.0,\n",
    "        9.0: 0.8,\n",
    "        8.0: 0.6,\n",
    "        7.0: 0.4,\n",
    "        6.0: 0.2,\n",
    "        5.0: 0.0,\n",
    "        4.0: -0.2,\n",
    "        3.0: -0.4,\n",
    "        2.0: -0.6,\n",
    "        1.0: -0.8,\n",
    "        0.0: -1.0\n",
    "    })"
   ]
  },
  {
   "cell_type": "markdown",
   "metadata": {},
   "source": [
    "The column 'Overall, how much importance does your employer place on physical health?' was renamed to mental_health_importance_score. The scores were mapped to numerical values as follows:\n",
    "\n",
    "| Rating | Mapped Score |\n",
    "| :----- | :----------- |\n",
    "| 10     | 1.0          |\n",
    "| 9      | 0.8          |\n",
    "| 8      | 0.6          |\n",
    "| 7      | 0.4          |\n",
    "| 6      | 0.2          |\n",
    "| 5      | 0.0          |\n",
    "| 4      | -0.2         |\n",
    "| 3      | -0.4         |\n",
    "| 2      | -0.6         |\n",
    "| 1      | -0.8         |\n",
    "| 0      | -1.0         |\n",
    "\n",
    "Missing values were filled by sampling from the existing distribution of values to maintain the data's overall structure and avoid bias."
   ]
  },
  {
   "cell_type": "code",
   "execution_count": 55,
   "metadata": {},
   "outputs": [],
   "source": [
    "df.rename(columns={\n",
    "    'Overall, how much importance does your employer place on mental health?': \n",
    "    'mental_health_importance_score'\n",
    "}, inplace=True)"
   ]
  },
  {
   "cell_type": "code",
   "execution_count": 56,
   "metadata": {},
   "outputs": [],
   "source": [
    "value_probs = df['mental_health_importance_score'].value_counts(normalize=True)\n",
    "n_missing = df['mental_health_importance_score'].isna().sum()\n",
    "\n",
    "np.random.seed(42)  # For reproducibility\n",
    "sampled_values = np.random.choice(\n",
    "    value_probs.index, \n",
    "    size=n_missing, \n",
    "    p=value_probs.values\n",
    ")\n",
    "\n",
    "df.loc[df['mental_health_importance_score'].isna(), 'mental_health_importance_score'] = sampled_values"
   ]
  },
  {
   "cell_type": "code",
   "execution_count": 57,
   "metadata": {},
   "outputs": [],
   "source": [
    "df['mental_health_importance_score'] = \\\n",
    "    df['mental_health_importance_score'].map({\n",
    "        10.0: 1.0,\n",
    "        9.0: 0.8,\n",
    "        8.0: 0.6,\n",
    "        7.0: 0.4,\n",
    "        6.0: 0.2,\n",
    "        5.0: 0.0,\n",
    "        4.0: -0.2,\n",
    "        3.0: -0.4,\n",
    "        2.0: -0.6,\n",
    "        1.0: -0.8,\n",
    "        0.0: -1.0\n",
    "    })"
   ]
  },
  {
   "cell_type": "markdown",
   "metadata": {},
   "source": [
    "The column 'Do you have medical coverage (private insurance or state-provided) that includes treatment of mental health disorders?' was renamed to has_mental_health_coverage. The responses were encoded as follows:\n",
    "\n",
    "| Response  | Encoding |\n",
    "| :-------- | :------- |\n",
    "| Yes (1.0) | 1.0      |\n",
    "| No (0.0)  | -1.0     |\n",
    "| Unknown   | 0.0      |\n"
   ]
  },
  {
   "cell_type": "code",
   "execution_count": 58,
   "metadata": {},
   "outputs": [],
   "source": [
    "df.rename(columns={\n",
    "    'Do you have medical coverage (private insurance or state-provided) that includes treatment of mental health disorders?': \n",
    "    'has_mental_health_coverage'\n",
    "}, inplace=True)"
   ]
  },
  {
   "cell_type": "code",
   "execution_count": 59,
   "metadata": {},
   "outputs": [],
   "source": [
    "df['has_mental_health_coverage'] = df['has_mental_health_coverage'].map({\n",
    "    1.0: 1.0,\n",
    "    0.0: -1.0\n",
    "}).fillna(0.0)"
   ]
  },
  {
   "cell_type": "markdown",
   "metadata": {},
   "source": [
    "The column 'Do you know local or online resources to seek help for a mental health issue?' was renamed to public_mental_health_aid_awareness. Missing values were filled with 'Unknown', and the responses were encoded as follows:\n",
    "\n",
    "| Response             | Encoding |\n",
    "| :------------------- | :------- |\n",
    "| Yes, I know several  | 1.0      |\n",
    "| I know some          | 0.5      |\n",
    "| Unknown              | 0.0      |\n",
    "| No, I don't know any | -1.0     |\n"
   ]
  },
  {
   "cell_type": "code",
   "execution_count": 60,
   "metadata": {},
   "outputs": [],
   "source": [
    "df.rename(columns={\n",
    "    'Do you know local or online resources to seek help for a mental health issue?': \n",
    "    'public_mental_health_aid_awareness'\n",
    "}, inplace=True)"
   ]
  },
  {
   "cell_type": "code",
   "execution_count": 61,
   "metadata": {},
   "outputs": [],
   "source": [
    "df['public_mental_health_aid_awareness'] = \\\n",
    "    df['public_mental_health_aid_awareness'].fillna('Unknown')"
   ]
  },
  {
   "cell_type": "code",
   "execution_count": 62,
   "metadata": {},
   "outputs": [],
   "source": [
    "df['public_mental_health_aid_awareness'] = \\\n",
    "    df['public_mental_health_aid_awareness'].map({\n",
    "        'Yes, I know several': 1.0,\n",
    "        'I know some': 0.5,\n",
    "        'Unknown': 0.0,\n",
    "        \"No, I don't know any\": -1.0\n",
    "    })"
   ]
  },
  {
   "attachments": {},
   "cell_type": "markdown",
   "metadata": {},
   "source": [
    "If you have been diagnosed or treated for a mental health disorder, do you ever reveal this to clients or business contacts?"
   ]
  },
  {
   "cell_type": "code",
   "execution_count": null,
   "metadata": {},
   "outputs": [],
   "source": []
  },
  {
   "attachments": {},
   "cell_type": "markdown",
   "metadata": {},
   "source": [
    "If you have revealed a mental health disorder to a client or business contact, how has this affected you or the relationship?"
   ]
  },
  {
   "cell_type": "code",
   "execution_count": null,
   "metadata": {},
   "outputs": [],
   "source": []
  },
  {
   "cell_type": "markdown",
   "metadata": {},
   "source": [
    "If you have been diagnosed or treated for a mental health disorder, do you ever reveal this to coworkers or employees?"
   ]
  },
  {
   "cell_type": "code",
   "execution_count": null,
   "metadata": {},
   "outputs": [],
   "source": []
  },
  {
   "cell_type": "markdown",
   "metadata": {},
   "source": [
    "If you have revealed a mental health disorder to a coworker or employee, how has this impacted you or the relationship?"
   ]
  },
  {
   "cell_type": "code",
   "execution_count": null,
   "metadata": {},
   "outputs": [],
   "source": []
  },
  {
   "cell_type": "markdown",
   "metadata": {},
   "source": [
    "Do you believe your productivity is ever affected by a mental health issue?"
   ]
  },
  {
   "cell_type": "code",
   "execution_count": null,
   "metadata": {},
   "outputs": [],
   "source": []
  },
  {
   "cell_type": "markdown",
   "metadata": {},
   "source": [
    "If yes, what percentage of your work time (time performing primary or secondary job functions) is affected by a mental health issue?"
   ]
  },
  {
   "cell_type": "code",
   "execution_count": null,
   "metadata": {},
   "outputs": [],
   "source": []
  },
  {
   "cell_type": "markdown",
   "metadata": {},
   "source": [
    "The column '*Do you have previous employers?' was renamed to has_previous_employers. The responses were encoded as follows:\n",
    "\n",
    "| Response  | Encoding |\n",
    "| :-------- | :------- |\n",
    "| Yes (1.0) | 1.0      |\n",
    "| No (0.0)  | -1.0     |\n",
    "| Unknown   | 0.0      |\n"
   ]
  },
  {
   "cell_type": "code",
   "execution_count": 63,
   "metadata": {},
   "outputs": [],
   "source": [
    "df.rename(columns={\n",
    "    '*Do you have previous employers?*': \n",
    "    'has_previous_employers'\n",
    "}, inplace=True)"
   ]
  },
  {
   "cell_type": "code",
   "execution_count": 64,
   "metadata": {},
   "outputs": [],
   "source": [
    "df['has_previous_employers'] = df['has_previous_employers'].map({\n",
    "    1.0: 1.0,\n",
    "    0.0: -1.0\n",
    "}).fillna(0.0)"
   ]
  },
  {
   "cell_type": "markdown",
   "metadata": {},
   "source": [
    "The column 'Was your employer primarily a tech company/organization?' was renamed to is_previous_employer_tech_company. The responses were encoded as follows:\n",
    "\n",
    "| Response  | Encoding |\n",
    "| :-------- | :------- |\n",
    "| Yes (1.0) | 1.0      |\n",
    "| No (0.0)  | -1.0     |\n",
    "| Unknown   | 0.0      |\n"
   ]
  },
  {
   "cell_type": "code",
   "execution_count": 65,
   "metadata": {},
   "outputs": [],
   "source": [
    "df.rename(columns={\n",
    "    'Was your employer primarily a tech company/organization?': \n",
    "    'is_previous_employer_tech_company'\n",
    "}, inplace=True)"
   ]
  },
  {
   "cell_type": "code",
   "execution_count": 66,
   "metadata": {},
   "outputs": [],
   "source": [
    "df['is_previous_employer_tech_company'] = df['is_previous_employer_tech_company'].map({\n",
    "    1.0: 1.0,\n",
    "    0.0: -1.0\n",
    "}).fillna(0.0)"
   ]
  },
  {
   "cell_type": "markdown",
   "metadata": {},
   "source": [
    "The column 'Have your previous employers provided mental health benefits?' was renamed to previous_employer_mental_health_benefits. Missing values were filled with 'Unknown', and the responses were encoded as follows:\n",
    "\n",
    "| Response          | Encoding |\n",
    "| :---------------- | :------- |\n",
    "| Yes, they all did | 1.0      |\n",
    "| Some did          | 0.5      |\n",
    "| Unknown           | 0.0      |\n",
    "| I don't know      | 0.0      |\n",
    "| No, none did      | -1.0     |\n"
   ]
  },
  {
   "cell_type": "code",
   "execution_count": 67,
   "metadata": {},
   "outputs": [],
   "source": [
    "df.rename(columns={\n",
    "    'Have your previous employers provided mental health benefits?': \n",
    "    'previous_employer_mental_health_benefits'\n",
    "}, inplace=True)"
   ]
  },
  {
   "cell_type": "code",
   "execution_count": 68,
   "metadata": {},
   "outputs": [],
   "source": [
    "df['previous_employer_mental_health_benefits'] = \\\n",
    "    df['previous_employer_mental_health_benefits'].fillna('Unknown')"
   ]
  },
  {
   "cell_type": "code",
   "execution_count": 69,
   "metadata": {},
   "outputs": [],
   "source": [
    "df['previous_employer_mental_health_benefits'] = \\\n",
    "    df['previous_employer_mental_health_benefits'].map({\n",
    "        'Yes, they all did': 1.0,\n",
    "        'Some did': 0.5,\n",
    "        'Unknown': 0.0,\n",
    "        \"I don't know\": 0.0,\n",
    "        \"No, none did\": -1.0\n",
    "    })"
   ]
  },
  {
   "cell_type": "markdown",
   "metadata": {},
   "source": [
    "The column 'Were you aware of the options for mental health care provided by your previous employers?' was renamed to previous_employer_mental_health_aid_awareness. Missing values were filled with 'Unknown', and the responses were encoded as follows:\n",
    "\n",
    "| Response                        | Encoding |\n",
    "| :------------------------------ | :------- |\n",
    "| Yes, I was aware of all of them | 1.0      |\n",
    "| I was aware of some             | 0.5      |\n",
    "| Unknown                         | 0.0      |\n",
    "| N/A (none offered)              | 0.0      |\n",
    "| No, I only became aware later   | -0.5     |\n",
    "| N/A (was not aware)             | -1.0     |\n"
   ]
  },
  {
   "cell_type": "code",
   "execution_count": 70,
   "metadata": {},
   "outputs": [],
   "source": [
    "df.rename(columns={\n",
    "    'Were you aware of the options for mental health care provided by your previous employers?': \n",
    "    'previous_employer_mental_health_aid_awareness'\n",
    "}, inplace=True)"
   ]
  },
  {
   "cell_type": "code",
   "execution_count": 71,
   "metadata": {},
   "outputs": [],
   "source": [
    "df['previous_employer_mental_health_aid_awareness'] = \\\n",
    "    df['previous_employer_mental_health_aid_awareness'].fillna('Unknown')"
   ]
  },
  {
   "cell_type": "code",
   "execution_count": 72,
   "metadata": {},
   "outputs": [],
   "source": [
    "df['previous_employer_mental_health_aid_awareness'] = \\\n",
    "    df['previous_employer_mental_health_aid_awareness'].map({\n",
    "        'Yes, I was aware of all of them': 1.0,\n",
    "        'I was aware of some': 0.5,\n",
    "        'Unknown': 0.0,\n",
    "        \"N/A (none offered)\": 0.0,\n",
    "        \"No, I only became aware later\": -0.5,\n",
    "        'N/A (was not aware)': -1.0\n",
    "    })"
   ]
  },
  {
   "cell_type": "markdown",
   "metadata": {},
   "source": [
    "he column 'Did your previous employers ever formally discuss mental health (as part of a wellness campaign or other official communication)?' was renamed to previous_employer_formal_mental_health_discussion. Missing values were filled with 'Unknown', and the responses were encoded as follows:\n",
    "\n",
    "| Response          | Encoding |\n",
    "| :---------------- | :------- |\n",
    "| Yes, they all did | 1.0      |\n",
    "| Some did          | 0.5      |\n",
    "| Unknown           | 0.0      |\n",
    "| I don't know      | 0.0      |\n",
    "| None did          | -1.0     |\n"
   ]
  },
  {
   "cell_type": "code",
   "execution_count": 73,
   "metadata": {},
   "outputs": [],
   "source": [
    "df.rename(columns={\n",
    "    'Did your previous employers ever formally discuss mental health (as part of a wellness campaign or other official communication)?': \n",
    "    'previous_employer_formal_mental_health_discussion'\n",
    "}, inplace=True)"
   ]
  },
  {
   "cell_type": "code",
   "execution_count": 74,
   "metadata": {},
   "outputs": [],
   "source": [
    "df['previous_employer_formal_mental_health_discussion'] = \\\n",
    "    df['previous_employer_formal_mental_health_discussion'].fillna('Unknown')"
   ]
  },
  {
   "cell_type": "code",
   "execution_count": 75,
   "metadata": {},
   "outputs": [],
   "source": [
    "df['previous_employer_formal_mental_health_discussion'] = \\\n",
    "    df['previous_employer_formal_mental_health_discussion'].map({\n",
    "        'Yes, they all did': 1.0,\n",
    "        'Some did': 0.5,\n",
    "        'Unknown': 0.0,\n",
    "        \"I don't know\": 0.0,\n",
    "        \"None did\": -1.0\n",
    "    })"
   ]
  },
  {
   "cell_type": "markdown",
   "metadata": {},
   "source": [
    "The column 'Did your previous employers provide resources to learn more about mental health disorders and how to seek help?' was renamed to previous_employer_mental_health_resources. Missing values were filled with 'Unknown', and the responses were encoded as follows:\n",
    "\n",
    "| Response          | Encoding |\n",
    "| :---------------- | :------- |\n",
    "| Yes, they all did | 1.0      |\n",
    "| Some did          | 0.5      |\n",
    "| Unknown           | 0.0      |\n",
    "| I don't know      | 0.0      |\n",
    "| None did          | -1.0     |\n"
   ]
  },
  {
   "cell_type": "code",
   "execution_count": 76,
   "metadata": {},
   "outputs": [],
   "source": [
    "df.rename(columns={\n",
    "    'Did your previous employers provide resources to learn more about mental health disorders and how to seek help?': \n",
    "    'previous_employer_mental_health_resources'\n",
    "}, inplace=True)"
   ]
  },
  {
   "cell_type": "code",
   "execution_count": 77,
   "metadata": {},
   "outputs": [],
   "source": [
    "df['previous_employer_mental_health_resources'] = \\\n",
    "    df['previous_employer_mental_health_resources'].fillna('Unknown')"
   ]
  },
  {
   "cell_type": "code",
   "execution_count": 78,
   "metadata": {},
   "outputs": [],
   "source": [
    "df['previous_employer_mental_health_resources'] = \\\n",
    "    df['previous_employer_mental_health_resources'].map({\n",
    "        'Yes, they all did': 1.0,\n",
    "        'Some did': 0.5,\n",
    "        'Unknown': 0.0,\n",
    "        \"I don't know\": 0.0,\n",
    "        \"None did\": -1.0\n",
    "    })"
   ]
  },
  {
   "cell_type": "markdown",
   "metadata": {},
   "source": [
    "The column 'Was your anonymity protected if you chose to take advantage of mental health or substance abuse treatment resources with previous employers?' was renamed to previous_employer_anonymity_protected. Missing values were filled with 'Unknown', and the responses were encoded as follows:\n",
    "\n",
    "| Response     | Encoding |\n",
    "| :----------- | :------- |\n",
    "| Yes, always  | 1.0      |\n",
    "| Sometimes    | 0.5      |\n",
    "| Unknown      | 0.0      |\n",
    "| I don't know | 0.0      |\n",
    "| No           | -1.0     |\n"
   ]
  },
  {
   "cell_type": "code",
   "execution_count": 79,
   "metadata": {},
   "outputs": [],
   "source": [
    "df.rename(columns = {\n",
    "    'Was your anonymity protected if you chose to take advantage of mental health or substance abuse treatment resources with previous employers?': \n",
    "    'previous_employer_anonymity_protected'\n",
    "}, inplace=True)"
   ]
  },
  {
   "cell_type": "code",
   "execution_count": 80,
   "metadata": {},
   "outputs": [],
   "source": [
    "df['previous_employer_anonymity_protected'] = \\\n",
    "    df['previous_employer_anonymity_protected'].fillna('Unknown')"
   ]
  },
  {
   "cell_type": "code",
   "execution_count": 81,
   "metadata": {},
   "outputs": [],
   "source": [
    "df['previous_employer_anonymity_protected'] = \\\n",
    "    df['previous_employer_anonymity_protected'].map({\n",
    "        'Yes, always': 1.0,\n",
    "        'Sometimes': 0.5,\n",
    "        'Unknown': 0.0,\n",
    "        \"I don't know\": 0.0,\n",
    "        \"No\": -1.0\n",
    "    })"
   ]
  },
  {
   "cell_type": "markdown",
   "metadata": {},
   "source": [
    "The column 'Would you have felt more comfortable talking to your previous employer about your physical health or your mental health?' was renamed to previous_employer_comfort_discussion_physical_vs_mental. Missing values were filled with 'Unknown', and the responses were encoded as follows:\n",
    "\n",
    "| Response                       | Encoding |\n",
    "| :----------------------------- | :------- |\n",
    "| Physical health                | -1.0     |\n",
    "| Same level of comfort for each | 0.0      |\n",
    "| Unknown                        | 0.0      |\n",
    "| Mental health                  | 1.0      |\n"
   ]
  },
  {
   "cell_type": "code",
   "execution_count": 82,
   "metadata": {},
   "outputs": [],
   "source": [
    "df.rename(columns = {\n",
    "    'Would you have felt more comfortable talking to your previous employer about your physical health or your mental health?': \n",
    "    'previous_employer_comfort_discussion_physical_vs_mental'\n",
    "}, inplace=True)"
   ]
  },
  {
   "cell_type": "code",
   "execution_count": 83,
   "metadata": {},
   "outputs": [],
   "source": [
    "df['previous_employer_comfort_discussion_physical_vs_mental'] = \\\n",
    "    df['previous_employer_comfort_discussion_physical_vs_mental'].fillna('Unknown')"
   ]
  },
  {
   "cell_type": "code",
   "execution_count": 84,
   "metadata": {},
   "outputs": [],
   "source": [
    "df['previous_employer_comfort_discussion_physical_vs_mental'] = \\\n",
    "    df['previous_employer_comfort_discussion_physical_vs_mental'].map({\n",
    "        'Physical health': -1.0,\n",
    "        'Same level of comfort for each': 0.0,\n",
    "        'Unknown': 0.0,\n",
    "        \"Mental health\": 1.0\n",
    "    })"
   ]
  },
  {
   "cell_type": "markdown",
   "metadata": {},
   "source": [
    "The column 'Would you have been willing to discuss your mental health with your direct supervisor(s)?' was renamed to previous_supervisor_comfort_mental_health_discussion. Missing values were filled with 'Unknown', and the responses were encoded as follows:\n",
    "\n",
    "| Response                            | Encoding |\n",
    "| :---------------------------------- | :------- |\n",
    "| Yes, all of my previous supervisors | 1.0      |\n",
    "| Some of my previous supervisors     | 0.5      |\n",
    "| Unknown                             | 0.0      |\n",
    "| I don't know                        | 0.0      |\n",
    "| No, none of my previous supervisors | -1.0     |\n"
   ]
  },
  {
   "cell_type": "code",
   "execution_count": 85,
   "metadata": {},
   "outputs": [],
   "source": [
    "df.rename(columns = {'Would you have been willing to discuss your mental health with your direct supervisor(s)?': \\\n",
    "    'previous_supervisor_comfort_mental_health_discussion'}, inplace = True)"
   ]
  },
  {
   "cell_type": "code",
   "execution_count": 86,
   "metadata": {},
   "outputs": [],
   "source": [
    "df['previous_supervisor_comfort_mental_health_discussion'] = \\\n",
    "    df['previous_supervisor_comfort_mental_health_discussion'].fillna('Unknown')"
   ]
  },
  {
   "cell_type": "code",
   "execution_count": 87,
   "metadata": {},
   "outputs": [],
   "source": [
    "df['previous_supervisor_comfort_mental_health_discussion'] = \\\n",
    "    df['previous_supervisor_comfort_mental_health_discussion'].map({\n",
    "        'Yes, all of my previous supervisors': 1.0,\n",
    "        'Some of my previous supervisors': 0.5,\n",
    "        'Unknown': 0.0,\n",
    "        \"I don't know\": 0.0,\n",
    "        'No, none of my previous supervisors': -1.0\n",
    "    })"
   ]
  },
  {
   "cell_type": "markdown",
   "metadata": {},
   "source": [
    "The column 'Did you ever discuss your mental health with your previous employer?' was renamed to is_discussed_mental_health_with_previous_employer. Missing values were filled with 'Unknown', and the responses were encoded as follows:\n",
    "\n",
    "| Response | Encoding |\n",
    "| :------- | :------- |\n",
    "| 1.0      | 1.0      |\n",
    "| 0.0      | -1.0     |\n",
    "| Unknown  | 0.0      |\n"
   ]
  },
  {
   "cell_type": "code",
   "execution_count": 88,
   "metadata": {},
   "outputs": [],
   "source": [
    "df.rename(columns = {'Did you ever discuss your mental health with your previous employer?' : \\\n",
    "    'is_discussed_mental_health_with_previous_employer'}, inplace = True)"
   ]
  },
  {
   "cell_type": "code",
   "execution_count": 89,
   "metadata": {},
   "outputs": [],
   "source": [
    "df['is_discussed_mental_health_with_previous_employer'] = \\\n",
    "    df['is_discussed_mental_health_with_previous_employer'].fillna('Unknown')"
   ]
  },
  {
   "cell_type": "code",
   "execution_count": 90,
   "metadata": {},
   "outputs": [],
   "source": [
    "df['is_discussed_mental_health_with_previous_employer'] = df['is_discussed_mental_health_with_previous_employer'].map({\n",
    "    1.0: 1.0,\n",
    "    0.0: -1.0\n",
    "}).fillna(0.0)"
   ]
  },
  {
   "cell_type": "markdown",
   "metadata": {},
   "source": [
    "The column 'Describe the conversation you had with your previous employer about your mental health, including their reactions and actions taken to address your mental health issue/questions.' was renamed to previous_employer_mental_health_openness_description. A new column, previous_employer_mental_health_openness_score, was created where the values were encoded as follows:\n",
    "\n",
    "| Condition                 | Encoding |\n",
    "| :------------------------ | :------- |\n",
    "| Description provided      | 1.0      |\n",
    "| No description or missing | -1.0     |\n"
   ]
  },
  {
   "cell_type": "code",
   "execution_count": 91,
   "metadata": {},
   "outputs": [],
   "source": [
    "df.rename(columns={\n",
    "    'Describe the conversation you had with your previous employer about your mental health, including their reactions and actions taken to address your mental health issue/questions.': \n",
    "    'previous_employer_mental_health_openness_description'\n",
    "}, inplace=True)"
   ]
  },
  {
   "cell_type": "code",
   "execution_count": 92,
   "metadata": {},
   "outputs": [],
   "source": [
    "df['previous_employer_mental_health_openness_score'] = df['previous_employer_mental_health_openness_description'].apply(\n",
    "    lambda x: 1.0 if pd.notna(x) else -1.0\n",
    ")"
   ]
  },
  {
   "cell_type": "markdown",
   "metadata": {},
   "source": [
    "The column 'Would you have been willing to discuss your mental health with your coworkers at previous employers?' was renamed to previous_coworker_comfort_mental_health_discussion. The values in this column were then encoded to indicate the level of comfort employees had in discussing mental health with their coworkers at previous employers:\n",
    "\n",
    "| Response                             | Encoding |\n",
    "| :----------------------------------- | :------- |\n",
    "| Yes, at all of my previous employers | 1.0      |\n",
    "| At some of my previous employers     | 0.5      |\n",
    "| Unknown                              | 0.0      |\n",
    "| No, at none of my previous employers | -1.0     |\n"
   ]
  },
  {
   "cell_type": "code",
   "execution_count": 93,
   "metadata": {},
   "outputs": [],
   "source": [
    "df.rename(columns = {'Would you have been willing to discuss your mental health with your coworkers at previous employers?': \\\n",
    "    'previous_coworker_comfort_mental_health_discussion'}, inplace = True)"
   ]
  },
  {
   "cell_type": "code",
   "execution_count": 94,
   "metadata": {},
   "outputs": [],
   "source": [
    "df['previous_coworker_comfort_mental_health_discussion'] = \\\n",
    "    df['previous_coworker_comfort_mental_health_discussion'].fillna('Unknown')"
   ]
  },
  {
   "cell_type": "code",
   "execution_count": 95,
   "metadata": {},
   "outputs": [],
   "source": [
    "df['previous_coworker_comfort_mental_health_discussion'] = \\\n",
    "    df['previous_coworker_comfort_mental_health_discussion'].map({\n",
    "        'Yes, at all of my previous employers': 1.0,\n",
    "        'At some of my previous employers': 0.5,\n",
    "        'Unknown': 0.0,\n",
    "        'No, at none of my previous employers': -1.0\n",
    "    })"
   ]
  },
  {
   "cell_type": "markdown",
   "metadata": {},
   "source": [
    "The column 'Did you ever discuss your mental health with a previous coworker(s)?' was renamed to is_discussed_mental_health_with_previous_coworker. The values in this column were then encoded to indicate whether or not employees had ever discussed their mental health with a coworker at previous employers:\n",
    "\n",
    "| Response | Encoding |\n",
    "| :------- | :------- |\n",
    "| Yes      | 1.0      |\n",
    "| No       | -1.0     |\n"
   ]
  },
  {
   "cell_type": "code",
   "execution_count": 96,
   "metadata": {},
   "outputs": [],
   "source": [
    "df.rename(columns = {'Did you ever discuss your mental health with a previous coworker(s)?' : \\\n",
    "    'is_discussed_mental_health_with_previous_coworker'}, inplace = True)"
   ]
  },
  {
   "cell_type": "code",
   "execution_count": 97,
   "metadata": {},
   "outputs": [],
   "source": [
    "df['is_discussed_mental_health_with_previous_coworker'] = df['is_discussed_mental_health_with_previous_coworker'].map({\n",
    "    1.0: 1.0,\n",
    "    0.0: -1.0\n",
    "}).fillna(0.0)"
   ]
  },
  {
   "cell_type": "markdown",
   "metadata": {},
   "source": [
    "The column 'Describe the conversation you had with your previous coworkers about your mental health including their reactions.' was renamed to previous_coworker_mental_health_openness_description. A new column previous_coworker_mental_health_openness_score was created with the following mapping:\n",
    "\n",
    "| Description Available     | Openness Score |\n",
    "| :------------------------ | :------------- |\n",
    "| Yes (Description present) | 1.0            |\n",
    "| No (Description missing)  | -1.0           |\n",
    "\n",
    "This transformation reflects the openness of previous coworkers to discuss mental health, with a score assigned based on whether a description of the conversation was provided."
   ]
  },
  {
   "cell_type": "code",
   "execution_count": 98,
   "metadata": {},
   "outputs": [],
   "source": [
    "df.rename(columns={\n",
    "    'Describe the conversation you had with your previous coworkers about your mental health including their reactions.': \n",
    "    'previous_coworker_mental_health_openness_description'\n",
    "}, inplace=True)"
   ]
  },
  {
   "cell_type": "code",
   "execution_count": 99,
   "metadata": {},
   "outputs": [],
   "source": [
    "df['previous_coworker_mental_health_openness_score'] = df['previous_coworker_mental_health_openness_description'].apply(\n",
    "    lambda x: 1.0 if pd.notna(x) else -1.0\n",
    ")"
   ]
  },
  {
   "cell_type": "markdown",
   "metadata": {},
   "source": [
    "The column 'Did you ever have a previous coworker discuss their or another coworker's mental health with you?' was renamed to is_previous_coworker_discussed_mental_health_with_you. A new column was created with the following mapping:\n",
    "\n",
    "| Value   | Openness Score |\n",
    "| :------ | :------------- |\n",
    "| Yes     | 1.0            |\n",
    "| No      | -1.0           |\n",
    "| Missing | 0.0            |\n"
   ]
  },
  {
   "cell_type": "code",
   "execution_count": 100,
   "metadata": {},
   "outputs": [],
   "source": [
    "df.rename(columns={\n",
    "    \"Did you ever have a previous coworker discuss their or another coworker's mental health with you?\": \n",
    "    'is_previous_coworker_discussed_mental_health_with_you'\n",
    "}, inplace=True)"
   ]
  },
  {
   "cell_type": "code",
   "execution_count": 101,
   "metadata": {},
   "outputs": [],
   "source": [
    "df['is_previous_coworker_discussed_mental_health_with_you'] = df['is_previous_coworker_discussed_mental_health_with_you'].map({\n",
    "    1.0: 1.0,\n",
    "    0.0: -1.0\n",
    "}).fillna(0.0)"
   ]
  },
  {
   "cell_type": "markdown",
   "metadata": {},
   "source": [
    "The column \"Describe the conversation your coworker had with you about their mental health (please do not use names)..1\" was renamed to previous_coworker_mental_health__discussion_with_you. A new column previous_coworker_discussed_mental_health_with_you_openness_score was created based on whether the description was provided or not:\n",
    "\n",
    "| Description Presence | Openness Score |\n",
    "| :------------------- | :------------- |\n",
    "| Provided             | 1.0            |\n",
    "| Not Provided         | -1.0           |\n",
    "\n",
    "This transformation indicates whether a previous coworker discussed their mental health with the respondent, with scores based on the availability of such a conversation.\n"
   ]
  },
  {
   "cell_type": "code",
   "execution_count": 102,
   "metadata": {},
   "outputs": [],
   "source": [
    "df.rename(columns={\n",
    "    \"Describe the conversation your coworker had with you about their mental health (please do not use names)..1\": \n",
    "    'previous_coworker_mental_health__discussion_with_you'\n",
    "}, inplace=True)"
   ]
  },
  {
   "cell_type": "code",
   "execution_count": 103,
   "metadata": {},
   "outputs": [],
   "source": [
    "df['previous_coworker_discussed_mental_health_with_you_openness_score'] = df['previous_coworker_mental_health__discussion_with_you'].apply(\n",
    "    lambda x: 1.0 if pd.notna(x) else -1.0\n",
    ")"
   ]
  },
  {
   "cell_type": "markdown",
   "metadata": {},
   "source": [
    "The column \"Overall, how much importance did your previous employer place on physical health?\" was renamed to previous_employer_physical_health_importance_score. The missing values in this column were handled using the probability distribution of the existing values. After handling the missing data, the values were mapped to a new score scale as follows:\n",
    "\n",
    "| Original Rating | Mapped Score |\n",
    "| :-------------- | :----------- |\n",
    "| 10              | 1.0          |\n",
    "| 9               | 0.8          |\n",
    "| 8               | 0.6          |\n",
    "| 7               | 0.4          |\n",
    "| 6               | 0.2          |\n",
    "| 5               | 0.0          |\n",
    "| 4               | -0.2         |\n",
    "| 3               | -0.4         |\n",
    "| 2               | -0.6         |\n",
    "| 1               | -0.8         |\n",
    "| 0               | -1.0         |\n"
   ]
  },
  {
   "cell_type": "code",
   "execution_count": 104,
   "metadata": {},
   "outputs": [],
   "source": [
    "df.rename(columns={\n",
    "    'Overall, how much importance did your previous employer place on physical health?': \n",
    "    'previous_employer_physical_health_importance_score'\n",
    "}, inplace=True)"
   ]
  },
  {
   "cell_type": "code",
   "execution_count": 105,
   "metadata": {},
   "outputs": [],
   "source": [
    "value_probs = df['previous_employer_physical_health_importance_score'].value_counts(normalize=True)"
   ]
  },
  {
   "cell_type": "code",
   "execution_count": 106,
   "metadata": {},
   "outputs": [],
   "source": [
    "n_missing = df['previous_employer_physical_health_importance_score'].isna().sum()\n",
    "\n",
    "np.random.seed(42)\n",
    "sampled_values = np.random.choice(\n",
    "    value_probs.index, \n",
    "    size=n_missing, \n",
    "    p=value_probs.values\n",
    ")"
   ]
  },
  {
   "cell_type": "code",
   "execution_count": 107,
   "metadata": {},
   "outputs": [],
   "source": [
    "df.loc[df['previous_employer_physical_health_importance_score'].isna(), 'previous_employer_physical_health_importance_score'] = sampled_values"
   ]
  },
  {
   "cell_type": "code",
   "execution_count": 108,
   "metadata": {},
   "outputs": [],
   "source": [
    "df['previous_employer_physical_health_importance_score'] = \\\n",
    "    df['previous_employer_physical_health_importance_score'].map({\n",
    "        10: 1.0,\n",
    "        9: 0.8,\n",
    "        8: 0.6,\n",
    "        7: 0.4,\n",
    "        6: 0.2,\n",
    "        5: 0.0,\n",
    "        4: -0.2,\n",
    "        3: -0.4,\n",
    "        2: -0.6,\n",
    "        1: -0.8,\n",
    "        0: -1.0\n",
    "    })"
   ]
  },
  {
   "cell_type": "markdown",
   "metadata": {},
   "source": [
    "The column \"Overall, how much importance did your previous employer place on mental health?\" was renamed to previous_employer_mental_health_importance_score. The missing values in this column were handled using the probability distribution of the existing values. After handling the missing data, the values were mapped to a new score scale as follows:\n",
    "\n",
    "| Original Rating | Mapped Score |\n",
    "| :-------------- | :----------- |\n",
    "| 10              | 1.0          |\n",
    "| 9               | 0.8          |\n",
    "| 8               | 0.6          |\n",
    "| 7               | 0.4          |\n",
    "| 6               | 0.2          |\n",
    "| 5               | 0.0          |\n",
    "| 4               | -0.2         |\n",
    "| 3               | -0.4         |\n",
    "| 2               | -0.6         |\n",
    "| 1               | -0.8         |\n",
    "| 0               | -1.0         |\n"
   ]
  },
  {
   "cell_type": "code",
   "execution_count": 109,
   "metadata": {},
   "outputs": [],
   "source": [
    "df.rename(columns={\n",
    "    'Overall, how much importance did your previous employer place on mental health?': \n",
    "    'previous_employer_mental_health_importance_score'\n",
    "}, inplace=True)"
   ]
  },
  {
   "cell_type": "code",
   "execution_count": 110,
   "metadata": {},
   "outputs": [],
   "source": [
    "value_probs = df['previous_employer_mental_health_importance_score'].value_counts(normalize=True)"
   ]
  },
  {
   "cell_type": "code",
   "execution_count": 111,
   "metadata": {},
   "outputs": [],
   "source": [
    "n_missing = df['previous_employer_mental_health_importance_score'].isna().sum()\n",
    "\n",
    "np.random.seed(42)\n",
    "sampled_values = np.random.choice(\n",
    "    value_probs.index, \n",
    "    size=n_missing, \n",
    "    p=value_probs.values\n",
    ")"
   ]
  },
  {
   "cell_type": "code",
   "execution_count": 112,
   "metadata": {},
   "outputs": [],
   "source": [
    "df.loc[df['previous_employer_mental_health_importance_score'].isna(), 'previous_employer_mental_health_importance_score'] = sampled_values"
   ]
  },
  {
   "cell_type": "code",
   "execution_count": 113,
   "metadata": {},
   "outputs": [],
   "source": [
    "df['previous_employer_mental_health_importance_score'] = \\\n",
    "    df['previous_employer_mental_health_importance_score'].map({\n",
    "        10: 1.0,\n",
    "        9: 0.8,\n",
    "        8: 0.6,\n",
    "        7: 0.4,\n",
    "        6: 0.2,\n",
    "        5: 0.0,\n",
    "        4: -0.2,\n",
    "        3: -0.4,\n",
    "        2: -0.6,\n",
    "        1: -0.8,\n",
    "        0: -1.0\n",
    "    })"
   ]
  },
  {
   "cell_type": "markdown",
   "metadata": {},
   "source": [
    "The column \"Do you *currently* have a mental health disorder?\" was renamed to current_mental_health_disorder. Missing values in this column were handled by filling them with 'Unknown'. Then, the values were mapped to a new scale as follows:\n",
    "\n",
    "| Original Response | Mapped Score |\n",
    "| :---------------- | :----------- |\n",
    "| Yes               | 1.0          |\n",
    "| Possibly          | 0.5          |\n",
    "| Unknown           | 0.0          |\n",
    "| Don't Know        | 0.0          |\n",
    "| No                | -1.0         |\n"
   ]
  },
  {
   "cell_type": "code",
   "execution_count": 114,
   "metadata": {},
   "outputs": [],
   "source": [
    "df.rename(columns = {'Do you *currently* have a mental health disorder?': \\\n",
    "    'current_mental_health_disorder'}, inplace = True)"
   ]
  },
  {
   "cell_type": "code",
   "execution_count": 115,
   "metadata": {},
   "outputs": [],
   "source": [
    "df['current_mental_health_disorder'] = \\\n",
    "    df['current_mental_health_disorder'].fillna('Unknown')"
   ]
  },
  {
   "cell_type": "code",
   "execution_count": 116,
   "metadata": {},
   "outputs": [],
   "source": [
    "df['current_mental_health_disorder'] = \\\n",
    "    df['current_mental_health_disorder'].map({\n",
    "        'Yes': 1.0,\n",
    "        'Possibly': 0.5,\n",
    "        'Unknown': 0.0,\n",
    "        \"Don't Know\": 0.0,\n",
    "        'No': -1.0\n",
    "    })"
   ]
  },
  {
   "cell_type": "markdown",
   "metadata": {},
   "source": [
    "The column \"Have you ever been *diagnosed* with a mental health disorder?\" was renamed to has_been_diagnosed_mental_health_disorder. Missing values in this column were filled with 'Unknown'. Then, the values were mapped to a new scale as follows:\n",
    "\n",
    "| Original Response | Mapped Score |\n",
    "| :---------------- | :----------- |\n",
    "| Yes               | 1.0          |\n",
    "| Unknown           | 0.0          |\n",
    "| No                | -1.0         |\n"
   ]
  },
  {
   "cell_type": "code",
   "execution_count": 117,
   "metadata": {},
   "outputs": [],
   "source": [
    "df.rename(columns = {\n",
    "    'Have you ever been *diagnosed* with a mental health disorder?': \n",
    "    'has_been_diagnosed_mental_health_disorder'\n",
    "}, inplace=True)"
   ]
  },
  {
   "cell_type": "code",
   "execution_count": 118,
   "metadata": {},
   "outputs": [],
   "source": [
    "df['has_been_diagnosed_mental_health_disorder'] = \\\n",
    "    df['has_been_diagnosed_mental_health_disorder'].fillna('Unknown')"
   ]
  },
  {
   "cell_type": "code",
   "execution_count": 119,
   "metadata": {},
   "outputs": [],
   "source": [
    "df['has_been_diagnosed_mental_health_disorder'] = \\\n",
    "    df['has_been_diagnosed_mental_health_disorder'].map({\n",
    "        'Yes': 1.0,\n",
    "        'Unknown': 0.0,\n",
    "        'No': -1.0\n",
    "    })"
   ]
  },
  {
   "cell_type": "markdown",
   "metadata": {},
   "source": [
    "| Disorder Category                  | Columns Grouped Under This Category                                                                                                                                                          |\n",
    "| ---------------------------------- | -------------------------------------------------------------------------------------------------------------------------------------------------------------------------------------------- |\n",
    "| **Anxiety Disorder**               | Anxiety Disorder (Generalized, Social, Phobia, etc), Anxiety Disorder (Generalized, Social, Phobia, etc).1, Anxiety Disorder (Generalized, Social, Phobia, etc).2                            |\n",
    "| **Mood Disorder**                  | Mood Disorder (Depression, Bipolar Disorder, etc), Mood Disorder (Depression, Bipolar Disorder, etc).1, Mood Disorder (Depression, Bipolar Disorder, etc).2                                  |\n",
    "| **Psychotic Disorder**             | Psychotic Disorder (Schizophrenia, Schizoaffective, etc), Psychotic Disorder (Schizophrenia, Schizoaffective, etc).1, Psychotic Disorder (Schizophrenia, Schizoaffective, etc).2             |\n",
    "| **Eating Disorder**                | Eating Disorder (Anorexia, Bulimia, etc), Eating Disorder (Anorexia, Bulimia, etc).1, Eating Disorder (Anorexia, Bulimia, etc).2                                                             |\n",
    "| **Attention Disorder**             | Attention Deficit Hyperactivity Disorder, Attention Deficit Hyperactivity Disorder.1, Attention Deficit Hyperactivity Disorder.2                                                             |\n",
    "| **Personality Disorder**           | Personality Disorder (Borderline, Antisocial, Paranoid, etc), Personality Disorder (Borderline, Antisocial, Paranoid, etc).1, Personality Disorder (Borderline, Antisocial, Paranoid, etc).2 |\n",
    "| **Obsessive-Compulsive Disorder**  | Obsessive-Compulsive Disorder, Obsessive-Compulsive Disorder.1, Obsessive-Compulsive Disorder.2                                                                                              |\n",
    "| **Post-Traumatic Stress Disorder** | Post-traumatic Stress Disorder, Post-traumatic Stress Disorder.1                                                                                                                             |\n",
    "| **Stress Response Syndrome**       | Stress Response Syndromes, Stress Response Syndromes.1, Stress Response Syndromes.2                                                                                                          |\n",
    "| **Dissociative Disorder**          | Dissociative Disorder, Dissociative Disorder.1, Dissociative Disorder.2                                                                                                                      |\n",
    "| **Substance Use Disorder**         | Substance Use Disorder, Substance Use Disorder.1, Substance Use Disorder.2                                                                                                                   |\n",
    "| **Addictive Disorder**             | Addictive Disorder, Addictive Disorder.1, Addictive Disorder.2                                                                                                                               |\n",
    "| **Other**                          | Other, Other.1, Other.2                                                                                                                                                                      |\n"
   ]
  },
  {
   "cell_type": "code",
   "execution_count": 120,
   "metadata": {
    "id": "y7ximcASfn_V"
   },
   "outputs": [],
   "source": [
    "disorder_groups = {\n",
    "    'anxiety_disorder': [\n",
    "        'Anxiety Disorder (Generalized, Social, Phobia, etc)',\n",
    "        'Anxiety Disorder (Generalized, Social, Phobia, etc).1',\n",
    "        'Anxiety Disorder (Generalized, Social, Phobia, etc).2'\n",
    "    ],\n",
    "    'mood_disorder': [\n",
    "        'Mood Disorder (Depression, Bipolar Disorder, etc)',\n",
    "        'Mood Disorder (Depression, Bipolar Disorder, etc).1',\n",
    "        'Mood Disorder (Depression, Bipolar Disorder, etc).2'\n",
    "    ],\n",
    "\n",
    "    'psychotic_disorder': [\n",
    "        'Psychotic Disorder (Schizophrenia, Schizoaffective, etc)',\n",
    "        'Psychotic Disorder (Schizophrenia, Schizoaffective, etc).1',\n",
    "        'Psychotic Disorder (Schizophrenia, Schizoaffective, etc).2'\n",
    "    ],\n",
    "\n",
    "    'eating_disorder': [\n",
    "        'Eating Disorder (Anorexia, Bulimia, etc)',\n",
    "        'Eating Disorder (Anorexia, Bulimia, etc).1',\n",
    "        'Eating Disorder (Anorexia, Bulimia, etc).2'\n",
    "    ],\n",
    "\n",
    "    'attention_disorder': [\n",
    "        'Attention Deficit Hyperactivity Disorder',\n",
    "        'Attention Deficit Hyperactivity Disorder.1',\n",
    "        'Attention Deficit Hyperactivity Disorder.2'\n",
    "    ],\n",
    "\n",
    "    'personality_disorder': [\n",
    "        'Personality Disorder (Borderline, Antisocial, Paranoid, etc)',\n",
    "        'Personality Disorder (Borderline, Antisocial, Paranoid, etc).1',\n",
    "        'Personality Disorder (Borderline, Antisocial, Paranoid, etc).2'\n",
    "    ],\n",
    "\n",
    "    'obsessive_compulsive_disorder': [\n",
    "        'Obsessive-Compulsive Disorder',\n",
    "        'Obsessive-Compulsive Disorder.1',\n",
    "        'Obsessive-Compulsive Disorder.2'\n",
    "    ],\n",
    "\n",
    "    'post_traumatic_stress_disorder': [\n",
    "        'Post-traumatic Stress Disorder',\n",
    "        'Post-traumatic Stress Disorder.1'\n",
    "    ],\n",
    "\n",
    "    'stress_response_syndrom': [\n",
    "        'Stress Response Syndromes',\n",
    "        'Stress Response Syndromes.1',\n",
    "        'Stress Response Syndromes.2'\n",
    "    ],\n",
    "\n",
    "    'dissociative_disorder': [\n",
    "        'Dissociative Disorder',\n",
    "        'Dissociative Disorder.1',\n",
    "        'Dissociative Disorder.2'\n",
    "    ],\n",
    "\n",
    "    'substance_use_disorder': [\n",
    "        'Substance Use Disorder',\n",
    "        'Substance Use Disorder.1',\n",
    "        'Substance Use Disorder.2'\n",
    "    ],\n",
    "\n",
    "    'addictive_disorder': [\n",
    "        'Addictive Disorder',\n",
    "        'Addictive Disorder.1',\n",
    "        'Addictive Disorder.2'\n",
    "    ],\n",
    "\n",
    "    'other': [\n",
    "        'Other',\n",
    "        'Other.1',\n",
    "        'Other.2'\n",
    "    ],\n",
    "}\n"
   ]
  },
  {
   "cell_type": "markdown",
   "metadata": {},
   "source": [
    "Renamed the column to past_mental_health_disorder and encoded past mental health disorder status:\n",
    "\n",
    "| Response | Meaning | Encoding | \n",
    "|:---------|:---------|:---------|\n",
    "| Yes | Has sought treatment | 1.0 |\n",
    "| Possibly | No family history | 0.5 |\n",
    "| No | Did not have a disorder | -1.0 |\n",
    "| 'Unknown' or \"Don't Know\" | Unknown | 0.0 |\n"
   ]
  },
  {
   "cell_type": "code",
   "execution_count": 121,
   "metadata": {},
   "outputs": [],
   "source": [
    "df.rename(columns = {'Have you had a mental health disorder in the past?': \\\n",
    "    'past_mental_health_disorder'}, inplace = True)"
   ]
  },
  {
   "cell_type": "code",
   "execution_count": 122,
   "metadata": {},
   "outputs": [],
   "source": [
    "df['past_mental_health_disorder'] = \\\n",
    "    df['past_mental_health_disorder'].fillna('Unknown')"
   ]
  },
  {
   "cell_type": "code",
   "execution_count": 123,
   "metadata": {},
   "outputs": [],
   "source": [
    "df['past_mental_health_disorder'] = \\\n",
    "    df['past_mental_health_disorder'].map({\n",
    "        'Yes': 1.0,\n",
    "        'Possibly': 0.5,\n",
    "        'Unknown': 0.0,\n",
    "        \"Don't Know\": 0.0,\n",
    "        'No': -1.0\n",
    "    })"
   ]
  },
  {
   "cell_type": "markdown",
   "metadata": {},
   "source": [
    "Renamed the column to has_sought_mental_health_treatment and encoded whether participants have sought professional treatment for a mental health disorder:\n",
    "\n",
    "| Response | Meaning | Encoding | \n",
    "|:---------|:---------|:---------|\n",
    "| 1.0 | Has sought treatment | 1.0 |\n",
    "| 0.0 | No family history | -1.0 |\n",
    "| NaN | Unknown | 0.0 |\n"
   ]
  },
  {
   "cell_type": "code",
   "execution_count": 124,
   "metadata": {},
   "outputs": [],
   "source": [
    "df.rename(columns={\n",
    "    \"Have you ever sought treatment for a mental health disorder from a mental health professional?\": \n",
    "    'has_sought_mental_health_treatment'\n",
    "}, inplace=True)"
   ]
  },
  {
   "cell_type": "code",
   "execution_count": 125,
   "metadata": {},
   "outputs": [],
   "source": [
    "df['has_sought_mental_health_treatment'] = df['has_sought_mental_health_treatment'].map({\n",
    "    1.0: 1.0,\n",
    "    0.0: -1.0\n",
    "}).fillna(0.0)"
   ]
  },
  {
   "cell_type": "markdown",
   "metadata": {},
   "source": [
    "Renamed the column to family_history_mental_health_disorder and encoded whether participants have a family history of mental illness:\n",
    "\n",
    "| Response | Meaning | Encoding | \n",
    "|:---------|:---------|:---------|\n",
    "| Yes | Family history present | 1.0 |\n",
    "| No | No family history | -1.0 |\n",
    "| Unknown' or \"I don't know\" | Unknown | 0.0 |"
   ]
  },
  {
   "cell_type": "code",
   "execution_count": 126,
   "metadata": {},
   "outputs": [],
   "source": [
    "df.rename(columns = {'Do you have a family history of mental illness?': \\\n",
    "    'family_history_mental_health_disorder'}, inplace = True)"
   ]
  },
  {
   "cell_type": "code",
   "execution_count": 127,
   "metadata": {},
   "outputs": [],
   "source": [
    "df['family_history_mental_health_disorder'] = \\\n",
    "    df['family_history_mental_health_disorder'].fillna('Unknown')"
   ]
  },
  {
   "cell_type": "code",
   "execution_count": 128,
   "metadata": {},
   "outputs": [],
   "source": [
    "df['family_history_mental_health_disorder'] = \\\n",
    "    df['family_history_mental_health_disorder'].map({\n",
    "        'Yes': 1.0,\n",
    "        'Unknown': 0.0,\n",
    "        \"I don't know\": 0.0,\n",
    "        'No': -1.0\n",
    "    })"
   ]
  },
  {
   "cell_type": "markdown",
   "metadata": {},
   "source": [
    "The `mental_health_disorder_work_interference_with_treatment` feature was scored to reflect the degree to which mental health issues impacted participants' work performance:\n",
    "\n",
    "| Response | Encoding |\n",
    "|:---------|:---------|\n",
    "| Never | 1.0 |\n",
    "| Rarely | -0.25 |\n",
    "| Sometimes | -0.5 |\n",
    "| Often | -1.0 |\n",
    "| Unknown / Not applicable | 0.0 |\n"
   ]
  },
  {
   "cell_type": "code",
   "execution_count": 129,
   "metadata": {},
   "outputs": [],
   "source": [
    "df.rename(columns = {'If you have a mental health disorder, how often do you feel that it interferes with your work *when being treated effectively?*': \\\n",
    "    'mental_health_disorder_work_interference_with_treatment'}, inplace = True)"
   ]
  },
  {
   "cell_type": "code",
   "execution_count": 130,
   "metadata": {},
   "outputs": [],
   "source": [
    "df['mental_health_disorder_work_interference_with_treatment'] = \\\n",
    "    df['mental_health_disorder_work_interference_with_treatment'].fillna('Unknown')"
   ]
  },
  {
   "cell_type": "code",
   "execution_count": 131,
   "metadata": {},
   "outputs": [],
   "source": [
    "df['mental_health_disorder_work_interference_with_treatment'] = \\\n",
    "    df['mental_health_disorder_work_interference_with_treatment'].map({\n",
    "        'Often': -1.0,\n",
    "        'Sometimes': -0.5,\n",
    "        'Rarely': -0.25,\n",
    "        'Unknown': 0.0,\n",
    "        'Not applicable to me': 0.0,\n",
    "        'Never': 1.0\n",
    "    })"
   ]
  },
  {
   "cell_type": "markdown",
   "metadata": {},
   "source": [
    "The `mental_health_disorder_work_interference_without_treatment` feature was scored to reflect the degree to which mental health issues impacted participants' work performance:\n",
    "\n",
    "| Response | Encoding |\n",
    "|:---------|:---------|\n",
    "| Never | 1.0 |\n",
    "| Rarely | -0.25 |\n",
    "| Sometimes | -0.5 |\n",
    "| Often | -1.0 |\n",
    "| Unknown / Not applicable | 0.0 |\n"
   ]
  },
  {
   "cell_type": "code",
   "execution_count": 132,
   "metadata": {},
   "outputs": [],
   "source": [
    "df.rename(columns = {'If you have a mental health disorder, how often do you feel that it interferes with your work *when* _*NOT*_* being treated effectively (i.e., when you are experiencing symptoms)?*': \\\n",
    "    'mental_health_disorder_work_interference_without_treatment'}, inplace = True)"
   ]
  },
  {
   "cell_type": "code",
   "execution_count": 133,
   "metadata": {},
   "outputs": [],
   "source": [
    "df['mental_health_disorder_work_interference_without_treatment'] = \\\n",
    "    df['mental_health_disorder_work_interference_without_treatment'].fillna('Unknown')"
   ]
  },
  {
   "cell_type": "code",
   "execution_count": 134,
   "metadata": {},
   "outputs": [],
   "source": [
    "df['mental_health_disorder_work_interference_without_treatment'] = \\\n",
    "    df['mental_health_disorder_work_interference_without_treatment'].map({\n",
    "        'Often': -1.0,\n",
    "        'Sometimes': -0.5,\n",
    "        'Rarely': -0.25,\n",
    "        'Unknown': 0.0,\n",
    "        'Not applicable to me': 0.0,\n",
    "        'Never': 1.0\n",
    "    })"
   ]
  },
  {
   "cell_type": "markdown",
   "metadata": {},
   "source": [
    "he observed_discussion_negative_influence_on_self_disclosure feature was scored to reflect whether observing another individual's mental health disclosure negatively influenced participants' willingness to self-disclose:\n",
    "\n",
    "| Response | Encoding |\n",
    "|:---------|:---------|\n",
    "| No | 1.0 |\n",
    "| Maybe | -0.5 |\n",
    "| Yes | -1.0 |\n",
    "| Unknown / I don't know | 0.0 |\n"
   ]
  },
  {
   "cell_type": "code",
   "execution_count": 135,
   "metadata": {},
   "outputs": [],
   "source": [
    "df.rename(columns = {'Have your observations of how another individual who discussed a mental health issue made you less likely to reveal a mental health issue yourself in your current workplace?': \\\n",
    "    'observed_discussion_negative_influence_on_self_disclosure'}, inplace = True)"
   ]
  },
  {
   "cell_type": "code",
   "execution_count": 136,
   "metadata": {},
   "outputs": [],
   "source": [
    "df['observed_discussion_negative_influence_on_self_disclosure'] = \\\n",
    "    df['observed_discussion_negative_influence_on_self_disclosure'].fillna('Unknown')"
   ]
  },
  {
   "cell_type": "code",
   "execution_count": 137,
   "metadata": {},
   "outputs": [],
   "source": [
    "df['observed_discussion_negative_influence_on_self_disclosure'] = \\\n",
    "    df['observed_discussion_negative_influence_on_self_disclosure'].map({\n",
    "        'Yes': -1.0,\n",
    "        'Maybe': -0.5,\n",
    "        'Unknown': 0.0,\n",
    "        \"I don't know\": 0.0,\n",
    "        'No': 1.0\n",
    "    })"
   ]
  },
  {
   "cell_type": "markdown",
   "metadata": {},
   "source": [
    "The willingness_to_share_mental_illness_friends_and_family feature was scored to reflect the participant's comfort level in sharing a mental illness with friends and family:\n",
    "\n",
    "Original Score | Encoding\n",
    "|:---------|:---------|\n",
    "10 | 1.0\n",
    "9 | 0.8\n",
    "8 | 0.6\n",
    "7 | 0.4\n",
    "6 | 0.2\n",
    "5 | 0.0\n",
    "4 | -0.2\n",
    "3 | -0.4\n",
    "2 | -0.6\n",
    "1 | -0.8\n",
    "0 | -1.0"
   ]
  },
  {
   "cell_type": "code",
   "execution_count": 138,
   "metadata": {},
   "outputs": [],
   "source": [
    "df.rename(columns = {'How willing would you be to share with friends and family that you have a mental illness?': \\\n",
    "    'willingness_to_share_mental_illness_friends_and_family'}, inplace = True)"
   ]
  },
  {
   "cell_type": "code",
   "execution_count": 139,
   "metadata": {},
   "outputs": [],
   "source": [
    "df['willingness_to_share_mental_illness_friends_and_family'] = \\\n",
    "    df['willingness_to_share_mental_illness_friends_and_family'].map({\n",
    "        10: 1.0,\n",
    "        9: 0.8,\n",
    "        8: 0.6,\n",
    "        7: 0.4,\n",
    "        6: 0.2,\n",
    "        5: 0.0,\n",
    "        4: -0.2,\n",
    "        3: -0.4,\n",
    "        2: -0.6,\n",
    "        1: -0.8,\n",
    "        0: -1.0\n",
    "    })"
   ]
  },
  {
   "cell_type": "markdown",
   "metadata": {},
   "source": [
    "The willingness_to_disclose_physical_health_in_interview feature was scored to reflect participants' willingness to discuss a physical health issue with a potential employer during an interview:\n",
    "\n",
    "Response | Encoding\n",
    "|:---------|:---------|\n",
    "Yes | 1.0\n",
    "Maybe | 0.5\n",
    "No | -1.0\n",
    "Unknown | 0.0\n",
    "\n"
   ]
  },
  {
   "cell_type": "code",
   "execution_count": 140,
   "metadata": {},
   "outputs": [],
   "source": [
    "df.rename(columns = {'Would you be willing to bring up a physical health issue with a potential employer in an interview?': \\\n",
    "    'willingness_to_disclose_physical_health_in_interview'}, inplace = True)"
   ]
  },
  {
   "cell_type": "code",
   "execution_count": 141,
   "metadata": {},
   "outputs": [],
   "source": [
    "df['willingness_to_disclose_physical_health_in_interview'] = \\\n",
    "    df['willingness_to_disclose_physical_health_in_interview'].fillna('Unknown')"
   ]
  },
  {
   "cell_type": "code",
   "execution_count": 142,
   "metadata": {},
   "outputs": [],
   "source": [
    "df['willingness_to_disclose_physical_health_in_interview'] = \\\n",
    "    df['willingness_to_disclose_physical_health_in_interview'].map({\n",
    "        'Yes': 1.0,\n",
    "        'Maybe': 0.5,\n",
    "        'No': -1.0,\n",
    "        'Unknown': 0.0\n",
    "    })"
   ]
  },
  {
   "cell_type": "markdown",
   "metadata": {},
   "source": [
    "The physical_health_interview_openness_score feature was created based on whether participants provided a reason for their willingness (or unwillingness) to share a physical health issue during an interview:\n",
    "\n",
    "Condition | Encoding\n",
    "|:---------|:---------|\n",
    "Reason provided | 1\n",
    "No reason provided (missing) | -1\n"
   ]
  },
  {
   "cell_type": "code",
   "execution_count": 143,
   "metadata": {},
   "outputs": [],
   "source": [
    "df.rename(columns = {'Why or why not?': \\\n",
    "    'physical_health_interview_sharing_reason'}, inplace = True)"
   ]
  },
  {
   "cell_type": "code",
   "execution_count": 144,
   "metadata": {},
   "outputs": [],
   "source": [
    "df['physical_health_interview_openness_score'] = df['physical_health_interview_sharing_reason'].apply(\n",
    "    lambda x: 1.0 if pd.notna(x) else -1.0\n",
    ")"
   ]
  },
  {
   "cell_type": "markdown",
   "metadata": {},
   "source": [
    "The willingness_to_disclose_mental_health_in_interview feature was scored to reflect participants' willingness to discuss a mental health issue with a potential employer during an interview:\n",
    "\n",
    "Response | Encoding\n",
    "|:---------|:---------|\n",
    "Yes | 1.0\n",
    "Maybe | 0.5\n",
    "No | -1.0"
   ]
  },
  {
   "cell_type": "code",
   "execution_count": 145,
   "metadata": {},
   "outputs": [],
   "source": [
    "df.rename(columns = {'Would you bring up your *mental* health with a potential employer in an interview?': \\\n",
    "    'willingness_to_disclose_mental_health_in_interview'}, inplace = True)"
   ]
  },
  {
   "cell_type": "code",
   "execution_count": 146,
   "metadata": {},
   "outputs": [],
   "source": [
    "df['willingness_to_disclose_mental_health_in_interview'] = \\\n",
    "    df['willingness_to_disclose_mental_health_in_interview'].map({\n",
    "        'Yes': 1.0,\n",
    "        'Maybe': 0.5,\n",
    "        'No': -1.0\n",
    "    })"
   ]
  },
  {
   "cell_type": "markdown",
   "metadata": {},
   "source": [
    "The mental_health_interview_openness_score feature was created based on whether participants provided a reason for their willingness (or unwillingness) to share a physical health issue during an interview:\n",
    "\n",
    "Condition | Encoding\n",
    "|:---------|:---------|\n",
    "Reason provided | 1.0\n",
    "No reason provided (missing) | -1.0"
   ]
  },
  {
   "cell_type": "code",
   "execution_count": 147,
   "metadata": {},
   "outputs": [],
   "source": [
    "df.rename(columns = {'Why or why not?.1': \\\n",
    "    'mental_health_interview_sharing_reason'}, inplace = True)"
   ]
  },
  {
   "cell_type": "code",
   "execution_count": 148,
   "metadata": {},
   "outputs": [],
   "source": [
    "df['mental_health_interview_openness_score'] = df['mental_health_interview_sharing_reason'].apply(\n",
    "    lambda x: 1.0 if pd.notna(x) else -1.0\n",
    ")"
   ]
  },
  {
   "cell_type": "markdown",
   "metadata": {},
   "source": [
    "The is_openly_identified_with_mental_health_issue_at_work feature was scored to reflect whether participants are openly identified at work as having a mental health issue:\n",
    "\n",
    "Response | Meaning | Encoding\n",
    "|:---------|:---------|:---------|\n",
    "1.0 | Yes | 1.0\n",
    "0.0 | No | -1.0\n",
    "NaN | Unknown | 0.0\n"
   ]
  },
  {
   "cell_type": "code",
   "execution_count": 149,
   "metadata": {},
   "outputs": [],
   "source": [
    "df.rename(columns = {'Are you openly identified at work as a person with a mental health issue?': \\\n",
    "    'is_openly_identified_with_mental_health_issue_at_work'}, inplace = True)"
   ]
  },
  {
   "cell_type": "code",
   "execution_count": 150,
   "metadata": {},
   "outputs": [],
   "source": [
    "df['is_openly_identified_with_mental_health_issue_at_work'] = df['is_openly_identified_with_mental_health_issue_at_work'].map({\n",
    "    1.0: 1.0,\n",
    "    0.0: -1.0\n",
    "}).fillna(0.0)"
   ]
  },
  {
   "cell_type": "markdown",
   "metadata": {},
   "source": [
    "The has_mental_health_identification_affected_career feature was scored to reflect whether being identified as a person with a mental health issue has affected participants' careers:\n",
    "\n",
    "Response | Meaning | Encoding\n",
    "|:---------|:---------|:---------|\n",
    "1.0 | Yes | 1.0\n",
    "0.0 | No | -1.0\n",
    "NaN | Unknown | 0.0\n"
   ]
  },
  {
   "cell_type": "code",
   "execution_count": 151,
   "metadata": {},
   "outputs": [],
   "source": [
    "df.rename(columns = {'Has being identified as a person with a mental health issue affected your career?': \\\n",
    "    'has_mental_health_identification_affected_career'}, inplace = True)"
   ]
  },
  {
   "cell_type": "code",
   "execution_count": 152,
   "metadata": {},
   "outputs": [],
   "source": [
    "df['has_mental_health_identification_affected_career'] = df['has_mental_health_identification_affected_career'].map({\n",
    "    1.0: 1.0,\n",
    "    0.0: -1.0\n",
    "}).fillna(0.0)"
   ]
  },
  {
   "cell_type": "markdown",
   "metadata": {},
   "source": [
    "The following feature was dropped during preprocessing:\n",
    "\n",
    "| Feature | Reason for Dropping |\n",
    "|:--------|:--------------------|\n",
    "| How has it affected your career? | Over 90% missing values, with only 8 total responses. Responses were limited to a very small subgroup (those who indicated career impact), making the feature unsuitable for clustering or broader analysis. |\n",
    "\n",
    "Maintaining this feature would have introduced noise and bias into the analysis, given its extreme sparsity and limited generalizability.\n"
   ]
  },
  {
   "cell_type": "code",
   "execution_count": 153,
   "metadata": {},
   "outputs": [],
   "source": [
    "df.drop(columns=[\n",
    "    'How has it affected your career?'\n",
    "], inplace=True)"
   ]
  },
  {
   "cell_type": "markdown",
   "metadata": {},
   "source": [
    "The perceived_coworker_reaction_to_mental_health_disclosure feature was scored to reflect participants' perception of how their coworkers would react if they disclosed a mental health disorder:\n",
    "\n",
    "Original Score | Encoding\n",
    "|:---------|:---------|\n",
    "10 | 1.0\n",
    "9 | 0.8\n",
    "8 | 0.6\n",
    "7 | 0.4\n",
    "6 | 0.2\n",
    "5 | 0.0\n",
    "4 | -0.2\n",
    "3 | -0.4\n",
    "2 | -0.6\n",
    "1 | -0.8\n",
    "0 | -1.0\n"
   ]
  },
  {
   "cell_type": "code",
   "execution_count": 154,
   "metadata": {},
   "outputs": [],
   "source": [
    "df.rename(columns = {'If they knew you suffered from a mental health disorder, how do you think that your team members/co-workers would react?': \\\n",
    "    'perceived_coworker_reaction_to_mental_health_disclosure'}, inplace = True)"
   ]
  },
  {
   "cell_type": "code",
   "execution_count": 155,
   "metadata": {},
   "outputs": [],
   "source": [
    "df['perceived_coworker_reaction_to_mental_health_disclosure'] = \\\n",
    "    df['perceived_coworker_reaction_to_mental_health_disclosure'].map({\n",
    "        10: 1.0,\n",
    "        9: 0.8,\n",
    "        8: 0.6,\n",
    "        7: 0.4,\n",
    "        6: 0.2,\n",
    "        5: 0.0,\n",
    "        4: -0.2,\n",
    "        3: -0.4,\n",
    "        2: -0.6,\n",
    "        1: -0.8,\n",
    "        0: -1.0\n",
    "    })"
   ]
  },
  {
   "cell_type": "markdown",
   "metadata": {},
   "source": [
    "The feature `observed_unsupportive_mental_health_response_at_work` was created to capture participants' experiences with unsupportive handling of mental health issues at work. Responses were mapped as follows:\n",
    "\n",
    "| Response | Encoding |\n",
    "|:---------|:---------|\n",
    "| Yes, I experienced | -1.0 |\n",
    "| Yes, I observed | -0.5 |\n",
    "| Maybe/Not sure | 0.0 |\n",
    "| I've always been self-employed | 0.0 |\n",
    "| No | 1.0 |\n",
    "\n",
    "Higher scores indicate better work environments with no observed or experienced negative reactions toward mental health disclosure."
   ]
  },
  {
   "cell_type": "code",
   "execution_count": 156,
   "metadata": {},
   "outputs": [],
   "source": [
    "df.rename(columns = {'Have you observed or experienced an *unsupportive or badly handled response* to a mental health issue in your current or previous workplace?': \\\n",
    "    'experienced_or_observed_unsupportive_response_at_work'}, inplace = True)"
   ]
  },
  {
   "cell_type": "code",
   "execution_count": 157,
   "metadata": {},
   "outputs": [],
   "source": [
    "df['experienced_or_observed_unsupportive_response_at_work'] = \\\n",
    "    df['experienced_or_observed_unsupportive_response_at_work'].map({\n",
    "    'Yes, I experienced': -1.0,\n",
    "    'Yes, I observed': -0.5,\n",
    "    'Maybe/Not sure': 0.0,\n",
    "    \"I've always been self-employed\": 0.0,\n",
    "    'No': 1.0\n",
    "})"
   ]
  },
  {
   "cell_type": "markdown",
   "metadata": {},
   "source": [
    "The unsupportive_response_at_work_score feature was created based on whether participants described a badly handled or unsupportive response at work:\n",
    "\n",
    "Condition | Encoding\n",
    "|:---------|:---------|\n",
    "Description provided | 1.0\n",
    "No description provided (missing) | -1.0\n"
   ]
  },
  {
   "cell_type": "code",
   "execution_count": 158,
   "metadata": {},
   "outputs": [],
   "source": [
    "df.rename(columns = {'Describe the circumstances of the badly handled or unsupportive response.': \\\n",
    "    'unsupportive_response_at_work_description'}, inplace = True)"
   ]
  },
  {
   "cell_type": "code",
   "execution_count": 159,
   "metadata": {},
   "outputs": [],
   "source": [
    "df['unsupportive_response_at_work_score'] = df['unsupportive_response_at_work_description'].apply(\n",
    "    lambda x: 1.0 if pd.notna(x) else -1.0\n",
    ")"
   ]
  },
  {
   "cell_type": "markdown",
   "metadata": {},
   "source": [
    "The feature `experienced_or_observed_supportive_response_at_work` was created to capture participants' experiences with supportive handling of mental health issues at work. Responses were mapped as follows:\n",
    "\n",
    "| Response | Encoding |\n",
    "|:---------|:---------|\n",
    "| Yes, I experienced | 1.0 |\n",
    "| Yes, I observed | 0.5 |\n",
    "| Maybe/Not sure | 0.0 |\n",
    "| I've always been self-employed | 0.0 |\n",
    "| No | 1.0 |\n",
    "\n",
    "Higher scores indicate better work environments with no observed or experienced negative reactions toward mental health disclosure."
   ]
  },
  {
   "cell_type": "code",
   "execution_count": 160,
   "metadata": {},
   "outputs": [],
   "source": [
    "df.rename(columns = {'Have you observed or experienced a *supportive or well handled response* to a mental health issue in your current or previous workplace?': \\\n",
    "    'experienced_or_observed_supportive_response_at_work'}, inplace = True)"
   ]
  },
  {
   "cell_type": "code",
   "execution_count": 161,
   "metadata": {},
   "outputs": [],
   "source": [
    "df['experienced_or_observed_supportive_response_at_work'] = \\\n",
    "    df['experienced_or_observed_supportive_response_at_work'].map({\n",
    "    'Yes, I experienced': 1.0,\n",
    "    'Yes, I observed': 0.5,\n",
    "    'Maybe/Not sure': 0.0,\n",
    "    \"I've always been self-employed\": 0.0,\n",
    "    'No': -1.0\n",
    "})"
   ]
  },
  {
   "cell_type": "markdown",
   "metadata": {},
   "source": [
    "Although no participants provided answers to the question about supportive or well-handled mental health responses at work, the feature `supportive_response_at_work_description` was preserved for potential future use. A corresponding binary feature, `supportive_response_at_work_score`, was created:\n",
    "\n",
    "| Condition | Encoding |\n",
    "|:----------|:---------|\n",
    "| Participant provided a text answer | 1.0 |\n",
    "| Participant left the field blank (NaN) | -1.0 |\n",
    "\n",
    "This ensures symmetrical treatment of both supportive and unsupportive workplace experiences.\n"
   ]
  },
  {
   "cell_type": "code",
   "execution_count": 162,
   "metadata": {},
   "outputs": [],
   "source": [
    "df.rename(columns = {'Describe the circumstances of the supportive or well handled response.': \\\n",
    "    'supportive_response_at_work_description'}, inplace = True)"
   ]
  },
  {
   "cell_type": "code",
   "execution_count": 163,
   "metadata": {},
   "outputs": [],
   "source": [
    "df['supportive_response_at_work_score'] = df['supportive_response_at_work_description'].apply(\n",
    "    lambda x: 1.0 if pd.notna(x) else -1.0\n",
    ")"
   ]
  },
  {
   "cell_type": "markdown",
   "metadata": {},
   "source": [
    "The tech_industry_mental_health_support_score feature was scored to reflect participants' perception of how well the tech industry supports employees with mental health issues:\n",
    "\n",
    "| Original Rating | Meaning | Interpretation |\n",
    "|:----------------|:---------------|:---------------|\n",
    "| 5 | Excellent support | 1.0\n",
    "| 4 | Good support | 0.5\n",
    "| 3 | Moderate support | 0.0\n",
    "| 2 | Poor support | -0.5\n",
    "| 1 | Very poor support | -1.0\n",
    "\n"
   ]
  },
  {
   "cell_type": "code",
   "execution_count": 164,
   "metadata": {},
   "outputs": [],
   "source": [
    "df.rename(columns = {'Overall, how well do you think the tech industry supports employees with mental health issues?': \\\n",
    "    'tech_industry_mental_health_support_score'}, inplace = True)"
   ]
  },
  {
   "cell_type": "code",
   "execution_count": 165,
   "metadata": {},
   "outputs": [],
   "source": [
    "df['tech_industry_mental_health_support_score'] = \\\n",
    "    df['tech_industry_mental_health_support_score'].map({\n",
    "        5: 1.0,\n",
    "        4: 0.5,\n",
    "        3: 0.0,\n",
    "        2: -0.5,\n",
    "        1: -1.0,\n",
    "    })"
   ]
  },
  {
   "cell_type": "markdown",
   "metadata": {},
   "source": [
    "the original free-text answers were preserved in coworker_mental_health_discussion_description for potential later analysis.\n",
    "\n",
    "A simplified binary feature, suggestions_for_improving_mental_health_support"
   ]
  },
  {
   "cell_type": "code",
   "execution_count": 166,
   "metadata": {},
   "outputs": [],
   "source": [
    "df.rename(columns = {'Briefly describe what you think the industry as a whole and/or employers could do to improve mental health support for employees.': \\\n",
    "    'suggestions_for_improving_mental_health_support'}, inplace = True)"
   ]
  },
  {
   "cell_type": "code",
   "execution_count": 167,
   "metadata": {},
   "outputs": [],
   "source": [
    "df['suggestions_for_improving_mental_health_support'] = df['suggestions_for_improving_mental_health_support'].apply(\n",
    "    lambda x: 1.0 if pd.notna(x) else -1.0\n",
    ")"
   ]
  },
  {
   "cell_type": "markdown",
   "metadata": {},
   "source": [
    "The `is_willing_to_participate_in_interview` feature was created based on participants' willingness to be interviewed further about their mental health experiences in the tech industry.\n",
    "\n",
    "| Original Response | Encoding |\n",
    "|:------------------|:---------|\n",
    "| 1 (Yes) | 1 |\n",
    "| 0 (No) | -1 |\n",
    "\n",
    "Higher values indicate willingness to participate, while negative values indicate a refusal.\n"
   ]
  },
  {
   "cell_type": "code",
   "execution_count": 168,
   "metadata": {},
   "outputs": [],
   "source": [
    "df.rename(columns={\n",
    "    'Would you be willing to talk to one of us more extensively about your experiences with mental health issues in the tech industry? (Note that all interview responses would be used _anonymously_ and only with your permission.)': \n",
    "    'is_willing_to_participate_in_interview'\n",
    "}, inplace=True)"
   ]
  },
  {
   "cell_type": "code",
   "execution_count": 169,
   "metadata": {},
   "outputs": [],
   "source": [
    "df['is_willing_to_participate_in_interview'] = df['is_willing_to_participate_in_interview'].map({\n",
    "    1: 1.0,\n",
    "    0: -1.0\n",
    "})"
   ]
  },
  {
   "cell_type": "markdown",
   "metadata": {},
   "source": [
    "The original `age` feature was binned into categorical age groups to reduce sparsity and improve clustering quality:\n",
    "\n",
    "| Age Range | Bin Label |\n",
    "|:----------|:----------|\n",
    "| ≤19 | under_20 |\n",
    "| 20–29 | 20s |\n",
    "| 30–39 | 30s |\n",
    "| 40–49 | 40s |\n",
    "| 50–59 | 50s |\n",
    "| 60+ | 60_plus |\n",
    "\n",
    "This binning captures meaningful stages of professional life and mental health experiences while reducing noise caused by individual age variation.\n"
   ]
  },
  {
   "cell_type": "code",
   "execution_count": 170,
   "metadata": {},
   "outputs": [],
   "source": [
    "df.rename(columns= {'What is your age?' : \\\n",
    "          'age'}, inplace=True)"
   ]
  },
  {
   "cell_type": "code",
   "execution_count": 171,
   "metadata": {},
   "outputs": [],
   "source": [
    "bins = [0, 19, 29, 39, 49, 59, 120]\n",
    "labels = ['under_20', '20s', '30s', '40s', '50s', '60_plus']"
   ]
  },
  {
   "cell_type": "code",
   "execution_count": 172,
   "metadata": {},
   "outputs": [],
   "source": [
    "df['age_group'] = pd.cut(\n",
    "    df['age'], \n",
    "    bins=bins, \n",
    "    labels=labels\n",
    ")"
   ]
  },
  {
   "cell_type": "code",
   "execution_count": 173,
   "metadata": {},
   "outputs": [],
   "source": [
    "df['age_group_encoded'] = df['age_group'].map({\n",
    "    'under_20': 1,\n",
    "    '20s': 2,\n",
    "    '30s': 3,\n",
    "    '40s': 4,\n",
    "    '50s': 5,\n",
    "    '60_plus': 6\n",
    "})"
   ]
  },
  {
   "cell_type": "markdown",
   "metadata": {},
   "source": [
    "The original `gender` feature contained inconsistent formatting and diverse representations of gender identity. A new feature `gender_cleaned` was created with the following mappings:\n",
    "\n",
    "| Original Labels | Cleaned Label |\n",
    "|:----------------|:--------------|\n",
    "| Male, male, M, m, man, dude, Cis male, Cis Male, varón | male |\n",
    "| Female, female, F, f, Female, cis-gendered | female |\n",
    "| non-binary, Queer | non_binary_or_other |\n",
    "| NaN or unclear | unknown |\n",
    "\n",
    "This approach ensures consistency while respecting non-binary and other gender identities.\n",
    "\n",
    "The cleaned gender_cleaned turned into multiple binary columns, using One-Hot Encoding."
   ]
  },
  {
   "cell_type": "code",
   "execution_count": 174,
   "metadata": {},
   "outputs": [],
   "source": [
    "df.rename(columns={\n",
    "    'What is your gender?': 'gender'\n",
    "}, inplace=True)"
   ]
  },
  {
   "cell_type": "code",
   "execution_count": 175,
   "metadata": {},
   "outputs": [],
   "source": [
    "df['gender_cleaned'] = df['gender'].str.strip().str.lower().map({\n",
    "    'male': 'male',\n",
    "    'm': 'male',\n",
    "    'man': 'male',\n",
    "    'dude': 'male',\n",
    "    'cis male': 'male',\n",
    "    'varón': 'male',\n",
    "    \n",
    "    'female': 'female',\n",
    "    'f': 'female',\n",
    "    'female, cis-gendered': 'female',\n",
    "    \n",
    "    'non-binary': 'non_binary_or_other',\n",
    "    'queer': 'non_binary_or_other'\n",
    "}).fillna('non_binary_or_other')"
   ]
  },
  {
   "cell_type": "code",
   "execution_count": 176,
   "metadata": {},
   "outputs": [],
   "source": [
    "df = pd.get_dummies(df, columns=['gender_cleaned'], drop_first=True)"
   ]
  },
  {
   "cell_type": "markdown",
   "metadata": {},
   "source": [
    "The `country_live` feature was grouped into broader regional clusters to reduce sparsity and improve analysis quality. The new `country_grouped_live` feature includes the following groups:\n",
    "\n",
    "| Group | Countries Included |\n",
    "|:------|:-------------------|\n",
    "| Anglosphere | US, UK, AUS, NZ, CAN |\n",
    "| Western Europe | Germany, Netherlands, France, Belgium, Austria, Sweden, Denmark, Italy, Spain, Poland |\n",
    "| Non Western | Russia, Ukraine, Romania, Serbia, Bosnia and Herzegovina, Slovenia, Lithuania, India, Indonesia, Vietnam, Bangladesh, Taiwan, Kazakhstan, Israel, Jordan, Aruba, Mexico, Argentina, Brazil, Peru, Colombia, Uruguay, Panama, South Africa, Somalia, Other |\n",
    "\n",
    "This transformation preserves geographical meaning while avoiding sparsity caused by rare country entries.\n",
    "\n",
    "**One-Hot Encoding applied to the cleaned column**\n",
    "\n"
   ]
  },
  {
   "cell_type": "code",
   "execution_count": 177,
   "metadata": {},
   "outputs": [],
   "source": [
    "df.rename(columns={\n",
    "    'What country do you *live* in?': \\\n",
    "    'country_live'\n",
    "}, inplace=True)"
   ]
  },
  {
   "cell_type": "code",
   "execution_count": 178,
   "metadata": {},
   "outputs": [],
   "source": [
    "df['country_grouped_live'] = df['country_live'].map({\n",
    "    'United States of America': 'Anglosphere',\n",
    "    'Canada': 'Anglosphere',\n",
    "    'United Kingdom': 'Anglosphere',\n",
    "    \n",
    "    'Germany': 'Western Europe',\n",
    "    'Netherlands': 'Western Europe',\n",
    "    'France': 'Western Europe',\n",
    "    'Belgium': 'Western Europe',\n",
    "    'Austria': 'Western Europe',\n",
    "    'Sweden': 'Western Europe',\n",
    "    'Denmark': 'Western Europe',\n",
    "    'Italy': 'Western Europe',\n",
    "    'Spain': 'Western Europe',\n",
    "    'Poland': 'Western Europe',\n",
    "    \n",
    "    'Russia': 'Non Western',\n",
    "    'Ukraine': 'Non Western',\n",
    "    'Romania': 'Non Western',\n",
    "    'Serbia': 'Non Western',\n",
    "    'Bosnia and Herzegovina': 'Non Western',\n",
    "    'Slovenia': 'Non Western',\n",
    "    'Lithuania': 'Non Western',\n",
    "    \n",
    "    'India': 'Non Western',\n",
    "    'Indonesia': 'Non Western',\n",
    "    'Vietnam': 'Non Western',\n",
    "    'Bangladesh': 'Non Western',\n",
    "    'Taiwan': 'Non Western',\n",
    "    'Kazakhstan': 'Non Western',\n",
    "    'Israel': 'Non Western',\n",
    "    'Jordan': 'Non Western',\n",
    "    \n",
    "    'Australia': 'Anglosphere',\n",
    "    'New Zealand': 'Anglosphere',\n",
    "    \n",
    "    'Argentina': 'Non Western',\n",
    "    'Brazil': 'Non Western',\n",
    "    'Peru': 'Non Western',\n",
    "    'Colombia': 'Non Western',\n",
    "    'Uruguay': 'Non Western',\n",
    "    'Panama': 'Non Western',\n",
    "    \n",
    "    'South Africa': 'Non Western',\n",
    "    'Somalia': 'Non Western',\n",
    "    \n",
    "    'Aruba': 'Non Western',\n",
    "    'Mexico': 'Non Western'\n",
    "}).fillna('Non Western')"
   ]
  },
  {
   "cell_type": "code",
   "execution_count": 179,
   "metadata": {},
   "outputs": [],
   "source": [
    "df = pd.get_dummies(df, columns=['country_grouped_live'], drop_first=True)"
   ]
  },
  {
   "cell_type": "markdown",
   "metadata": {},
   "source": [
    "The `country_work` feature was grouped into broader regional clusters to reduce sparsity and improve analysis quality. The new `country_grouped_work` feature includes the following groups:\n",
    "\n",
    "| Group | Countries Included |\n",
    "|:------|:-------------------|\n",
    "| Anglosphere | US, UK, AUS, NZ, CAN |\n",
    "| Western Europe | Germany, Netherlands, France, Belgium, Austria, Sweden, Denmark, Italy, Spain, Poland |\n",
    "| Non Western | Russia, Ukraine, Romania, Serbia, Bosnia and Herzegovina, Slovenia, Lithuania, India, Indonesia, Vietnam, Bangladesh, Taiwan, Kazakhstan, Israel, Jordan, Aruba, Mexico, Argentina, Brazil, Peru, Colombia, Uruguay, Panama, South Africa, Somalia, Other |\n",
    "\n",
    "This transformation preserves geographical meaning while avoiding sparsity caused by rare country entries.\n",
    "\n",
    "**One-Hot Encoding applied to the cleaned column**\n",
    "\n"
   ]
  },
  {
   "cell_type": "code",
   "execution_count": 180,
   "metadata": {},
   "outputs": [],
   "source": [
    "df.rename(columns={\n",
    "    'What country do you *work* in?': \\\n",
    "    'country_work'\n",
    "}, inplace=True)"
   ]
  },
  {
   "cell_type": "code",
   "execution_count": 181,
   "metadata": {},
   "outputs": [],
   "source": [
    "df['country_grouped_work'] = df['country_work'].map({\n",
    "    'United States of America': 'Anglosphere',\n",
    "    'Canada': 'Anglosphere',\n",
    "    'United Kingdom': 'Anglosphere',\n",
    "    \n",
    "    'Germany': 'Western Europe',\n",
    "    'Netherlands': 'Western Europe',\n",
    "    'France': 'Western Europe',\n",
    "    'Belgium': 'Western Europe',\n",
    "    'Austria': 'Western Europe',\n",
    "    'Sweden': 'Western Europe',\n",
    "    'Denmark': 'Western Europe',\n",
    "    'Italy': 'Western Europe',\n",
    "    'Spain': 'Western Europe',\n",
    "    'Poland': 'Western Europe',\n",
    "    \n",
    "    'Russia': 'Non Western',\n",
    "    'Ukraine': 'Non Western',\n",
    "    'Romania': 'Non Western',\n",
    "    'Serbia': 'Non Western',\n",
    "    'Bosnia and Herzegovina': 'Non Western',\n",
    "    'Slovenia': 'Non Western',\n",
    "    'Lithuania': 'Non Western',\n",
    "    \n",
    "    'India': 'Non Western',\n",
    "    'Indonesia': 'Non Western',\n",
    "    'Vietnam': 'Non Western',\n",
    "    'Bangladesh': 'Non Western',\n",
    "    'Taiwan': 'Non Western',\n",
    "    'Kazakhstan': 'Non Western',\n",
    "    'Israel': 'Non Western',\n",
    "    'Jordan': 'Non Western',\n",
    "    \n",
    "    'Australia': 'Anglosphere',\n",
    "    'New Zealand': 'Anglosphere',\n",
    "    \n",
    "    'Argentina': 'Non Western',\n",
    "    'Brazil': 'Non Western',\n",
    "    'Peru': 'Non Western',\n",
    "    'Colombia': 'Non Western',\n",
    "    'Uruguay': 'Non Western',\n",
    "    'Panama': 'Non Western',\n",
    "    \n",
    "    'South Africa': 'Non Western',\n",
    "    'Somalia': 'Non Western',\n",
    "    \n",
    "    'Aruba': 'Non Western',\n",
    "    'Mexico': 'Non Western'\n",
    "}).fillna('Non Western')"
   ]
  },
  {
   "cell_type": "code",
   "execution_count": 182,
   "metadata": {},
   "outputs": [],
   "source": [
    "df = pd.get_dummies(df, columns=['country_grouped_work'], drop_first=True)"
   ]
  },
  {
   "cell_type": "markdown",
   "metadata": {},
   "source": [
    "The `us_state_live` feature was renamed and One-Hot Encoded to represent the states or territories of the participants. Missing values were replaced with 'Not in the US'. The first state was dropped to avoid the dummy variable trap:\n",
    "\n",
    "| State      | Encoding |\n",
    "| :--------- | :------- |\n",
    "| California | 1        |\n",
    "| Texas      | 0        |\n",
    "| New York   | 0        |\n",
    "| ...        | ...      |\n"
   ]
  },
  {
   "cell_type": "code",
   "execution_count": 183,
   "metadata": {},
   "outputs": [],
   "source": [
    "df.rename(columns={\n",
    "    'What US state or territory do you *live* in?': \\\n",
    "    'us_state_live'\n",
    "}, inplace=True)"
   ]
  },
  {
   "cell_type": "code",
   "execution_count": 184,
   "metadata": {},
   "outputs": [],
   "source": [
    "df['us_state_live'] = \\\n",
    "    df['us_state_live'].fillna('Not in the US')"
   ]
  },
  {
   "cell_type": "code",
   "execution_count": 185,
   "metadata": {},
   "outputs": [],
   "source": [
    "df = pd.get_dummies(df, columns=['us_state_live'], drop_first=True)"
   ]
  },
  {
   "cell_type": "markdown",
   "metadata": {},
   "source": [
    "The `us_state_work` feature was renamed and One-Hot Encoded to represent the states or territories of the participants. Missing values were replaced with 'Not in the US'. The first state was dropped to avoid the dummy variable trap:\n",
    "\n",
    "| State      | Encoding |\n",
    "| :--------- | :------- |\n",
    "| California | 1        |\n",
    "| Texas      | 0        |\n",
    "| New York   | 0        |\n",
    "| ...        | ...      |\n"
   ]
  },
  {
   "cell_type": "code",
   "execution_count": 186,
   "metadata": {},
   "outputs": [],
   "source": [
    "df.rename(columns={\n",
    "    'What US state or territory do you *work* in?': \\\n",
    "    'us_state_work'\n",
    "}, inplace=True)"
   ]
  },
  {
   "cell_type": "code",
   "execution_count": 187,
   "metadata": {},
   "outputs": [],
   "source": [
    "df['us_state_work'] = \\\n",
    "    df['us_state_work'].fillna('Not in the US')"
   ]
  },
  {
   "cell_type": "code",
   "execution_count": 188,
   "metadata": {},
   "outputs": [],
   "source": [
    "df = pd.get_dummies(df, columns=['us_state_work'], drop_first=True)"
   ]
  },
  {
   "cell_type": "markdown",
   "metadata": {},
   "source": [
    "The following columns were dropped due to their irrelevance to the analysis and to reduce noise in the dataset:\n",
    "| Column Name                              | Reason for Dropping                                |\n",
    "| ---------------------------------------- | -------------------------------------------------- |\n",
    "| `If you have been diagnosed or treated for a mental health disorder, do you ever reveal this to clients or business contacts?` | >75% missing, limited relevance to internal mental health support structures; would introduce noise and sparsity |\n",
    "| `If you have revealed a mental health disorder to a client or business contact, how has this affected you or the relationship?` | >85% missing, limited relevance to internal company mental health culture; would introduce noise |\n",
    "| `If you have been diagnosed or treated for a mental health disorder, do you ever reveal this to coworkers or employees?` | >75% missing, very sparse |\n",
    "| `If you have revealed a mental health disorder to a coworker or employee, how has this impacted you or the relationship?` | >75% missing, dependent on previous sparse question |\n",
    "| `Do you believe your productivity is ever affected by a mental health issue?` | >75% missing, sparsity and subjective interpretation |\n",
    "| `If yes, what percentage of your work time is affected by a mental health issue?`| >85% missing, follow-up to sparse question |\n",
    "| `If there is anything else you would like to tell us that has not been covered by the survey questions, please use this space to do so.` | Over 85% of responses were missing (NaN) or contained non-meaningful text such as \"No\" or \"Nope.\" Given the extremely low amount of actionable feedback and limited relevance for clustering or modeling, the feature was excluded to maintain dataset quality. |\n",
    "| `Have you been diagnosed with COVID-19?` | Not relevant to the focus of the analysis          |\n",
    "| `#`                                      | Identifier column not needed for analysis          |\n",
    "| `Other.3`                                | Not needed or redundant column                     |\n",
    "| `What is your race?`                     | Sensitive feature, potentially introducing bias    |\n",
    "| `Response Type`                          | Non-essential information for the analysis         |\n",
    "| `Start Date (UTC)`                       | Timestamp, not relevant for clustering or modeling |\n",
    "| `Submit Date (UTC)`                      | Timestamp, not relevant for clustering or modeling |\n",
    "| `Network ID`                             | Identifier column not needed for analysis          |\n",
    "| `Tags`                                   | Not relevant for the analysis or modeling          |\n",
    "\n",
    "These columns were removed to streamline the dataset and focus on the most important features for the task at hand."
   ]
  },
  {
   "cell_type": "code",
   "execution_count": 189,
   "metadata": {
    "id": "4geFE_KbH4xU"
   },
   "outputs": [],
   "source": [
    "df.drop(columns=[\n",
    "    'If you have been diagnosed or treated for a mental health disorder, do you ever reveal this to clients or business contacts?',\n",
    "    'If you have revealed a mental health disorder to a client or business contact, how has this affected you or the relationship?',\n",
    "    'If you have been diagnosed or treated for a mental health disorder, do you ever reveal this to coworkers or employees?',\n",
    "    'If you have revealed a mental health disorder to a coworker or employee, how has this impacted you or the relationship?',\n",
    "    'Do you believe your productivity is ever affected by a mental health issue?',\n",
    "    'If yes, what percentage of your work time (time performing primary or secondary job functions) is affected by a mental health issue?',\n",
    "    'If there is anything else you would like to tell us that has not been covered by the survey questions, please use this space to do so.','Have you been diagnosed with COVID-19?', 'What is your race?', '#', 'Other.3', 'Response Type', 'Start Date (UTC)', 'Submit Date (UTC)', 'Network ID', 'Tags'], inplace = True)"
   ]
  },
  {
   "cell_type": "markdown",
   "metadata": {},
   "source": [
    "## Feature Engineering"
   ]
  },
  {
   "cell_type": "markdown",
   "metadata": {},
   "source": [
    "We want to see how much interference with work can be removed with treatment"
   ]
  },
  {
   "cell_type": "code",
   "execution_count": 190,
   "metadata": {},
   "outputs": [],
   "source": [
    "df['treatment_gap_score'] = (\n",
    "    df['mental_health_disorder_work_interference_with_treatment'] -\n",
    "    df['mental_health_disorder_work_interference_without_treatment']\n",
    ")"
   ]
  },
  {
   "cell_type": "code",
   "execution_count": 191,
   "metadata": {},
   "outputs": [
    {
     "name": "stdout",
     "output_type": "stream",
     "text": [
      "Sum gap: 32.5\n",
      "Mean gap: 0.19817073170731708\n"
     ]
    }
   ],
   "source": [
    "print(\"Sum gap:\", df['treatment_gap_score'].sum())\n",
    "print(\"Mean gap:\", df['treatment_gap_score'].mean())"
   ]
  },
  {
   "cell_type": "markdown",
   "metadata": {},
   "source": [
    "The numberes are scewed:\n",
    "- ~48% (79 of 164) respondents say that the treatment question is not applicable to them.\n",
    "- ~46% (75 of 164) say the question with no treatment is not applicable to them.\n",
    "\n",
    "To get meaningful insight into actual treatment effectiveness, filter your data to only include those who:\n",
    "- Did respond with a real answer (i.e. != 0.0) (\"Not applicable\")\n",
    "- For both questions"
   ]
  },
  {
   "cell_type": "code",
   "execution_count": 192,
   "metadata": {},
   "outputs": [],
   "source": [
    "valid_scores = [-1.0, -0.5, -0.25, 1.0]\n",
    "\n",
    "df_effectiveness = df[\n",
    "    df['mental_health_disorder_work_interference_with_treatment'].isin(valid_scores) &\n",
    "    df['mental_health_disorder_work_interference_without_treatment'].isin(valid_scores)\n",
    "].copy()"
   ]
  },
  {
   "cell_type": "markdown",
   "metadata": {},
   "source": [
    "Among those who have experienced both treated and untreated mental health states, treatment is clearly effective: it reduces interference with work by an average of 0.36 on a normalized scale, with over half reporting a gap of 0.5 or greater.\n",
    "\n",
    "This confirms that accessible treatment matters — it meaningfully improves employee functioning. Ensuring awareness, access, and a culture of openness is critical for enabling employees to seek that help."
   ]
  },
  {
   "cell_type": "code",
   "execution_count": 193,
   "metadata": {},
   "outputs": [
    {
     "name": "stdout",
     "output_type": "stream",
     "text": [
      "Filtered mean gap: 0.3567073170731707\n",
      "Filtered median gap: 0.5\n"
     ]
    }
   ],
   "source": [
    "df_effectiveness['treatment_gap_score'] = (\n",
    "    df_effectiveness['mental_health_disorder_work_interference_with_treatment'] -\n",
    "    df_effectiveness['mental_health_disorder_work_interference_without_treatment']\n",
    ")\n",
    "\n",
    "print(\"Filtered mean gap:\", df_effectiveness['treatment_gap_score'].mean())\n",
    "print(\"Filtered median gap:\", df_effectiveness['treatment_gap_score'].median())"
   ]
  },
  {
   "cell_type": "markdown",
   "metadata": {},
   "source": [
    "People who suffer interference when untreated AND did not seek help"
   ]
  },
  {
   "cell_type": "code",
   "execution_count": 194,
   "metadata": {},
   "outputs": [
    {
     "name": "stdout",
     "output_type": "stream",
     "text": [
      "Hidden vulnerable count: 18\n"
     ]
    }
   ],
   "source": [
    "df['hidden_vulnerability'] = (\n",
    "    (df['mental_health_disorder_work_interference_without_treatment'] < 0) &\n",
    "    (df['has_sought_mental_health_treatment'] == -1.0)\n",
    ")\n",
    "print(\"Hidden vulnerable count:\", df['hidden_vulnerability'].sum())"
   ]
  },
  {
   "cell_type": "markdown",
   "metadata": {},
   "source": [
    "\n",
    "- bad expereience at previous jobs\n",
    "- age groups needs to be evaluated by the group separately\n",
    "- non binary weak, leave male or not\n",
    "- country grouping is best into these goups bebause western europe's results are distinct from othe western countries:\n",
    "  -- US+UK+AUS+NZ+CAN\n",
    "  -- Western Europe\n",
    "  -- Non Western\n",
    "- coworker_comfort_discussion_physical_vs_mental hidden group is more comfortable discussin mental heath rather than physical health with their coworkers unlike non-vun group but are less likely to discuss it, while physical health is more important for them\n",
    "- hidden more likely first job\n",
    "- current_mental_health_disorder approx the same, but hid less diagnosed \n",
    "- mental_health_disorder_work_interference_with_treatment huge difference\n",
    "- mental_health_disorder_work_interference_without_treatment also\n",
    "- observed_discussion_negative_influence_on_self_disclosure huge diff\n",
    "- tech_industry_mental_health_support_score hid group scores higher they expect more support from a tech industry employer\n",
    "- suggestions_for_improving_mental_health_support non-hid group has a lot suggestions for improvemnts"
   ]
  },
  {
   "cell_type": "markdown",
   "metadata": {},
   "source": [
    "**filter columns where the absolute difference between the means of the True and False groups is greater than or equal to 0.2**\n",
    "We recieve 23 features, remove age do to difference in noramalization"
   ]
  },
  {
   "cell_type": "markdown",
   "metadata": {},
   "source": [
    "# Model Learning"
   ]
  },
  {
   "cell_type": "code",
   "execution_count": 221,
   "metadata": {},
   "outputs": [],
   "source": [
    "if 'cluster' in df.columns:\n",
    "    df.drop(columns='cluster', inplace=True)"
   ]
  },
  {
   "cell_type": "code",
   "execution_count": 222,
   "metadata": {},
   "outputs": [
    {
     "name": "stderr",
     "output_type": "stream",
     "text": [
      "C:\\Users\\New\\miniconda3\\Lib\\site-packages\\sklearn\\cluster\\_kmeans.py:1419: UserWarning: KMeans is known to have a memory leak on Windows with MKL, when there are less chunks than available threads. You can avoid it by setting the environment variable OMP_NUM_THREADS=1.\n",
      "  warnings.warn(\n"
     ]
    }
   ],
   "source": [
    "selected_features = [\n",
    "    'previous_coworker_mental_health_openness_score',\n",
    "    'previous_coworker_discussed_mental_health_with_you_openness_score',\n",
    "    'physical_health_interview_openness_score',\n",
    "    'mental_health_interview_openness_score',\n",
    "    'age_group_encoded',\n",
    "    'country_grouped_live_Non Western',\n",
    "    'has_previous_employers',\n",
    "    'previous_employer_comfort_discussion_physical_vs_mental',\n",
    "    'has_sought_mental_health_treatment',\n",
    "    'mental_health_disorder_work_interference_with_treatment',\n",
    "    'mental_health_disorder_work_interference_without_treatment',\n",
    "    'observed_discussion_negative_influence_on_self_disclosure',\n",
    "    'suggestions_for_improving_mental_health_support'\n",
    "]\n",
    "selected_features = [col for col in selected_features if col in df.columns]\n",
    "X = df[selected_features].copy()\n",
    "\n",
    "X_tsne = TSNE(n_components=2, random_state=42).fit_transform(X)\n",
    "\n",
    "kmeans = KMeans(n_clusters=2, random_state=42)\n",
    "labels = kmeans.fit_predict(X_tsne)\n",
    "\n",
    "df['cluster'] = labels"
   ]
  },
  {
   "cell_type": "code",
   "execution_count": 223,
   "metadata": {},
   "outputs": [
    {
     "data": {
      "image/png": "[encoded data removed]",
      "text/plain": [
       "<Figure size 800x600 with 1 Axes>"
      ]
     },
     "metadata": {},
     "output_type": "display_data"
    }
   ],
   "source": [
    "plt.figure(figsize=(8, 6))\n",
    "plt.scatter(X_tsne[:, 0], X_tsne[:, 1], c=labels, cmap='Set2', s=30, alpha=0.8)\n",
    "plt.title(\"t-SNE Projection with K-Means Labels (k=3)\")\n",
    "plt.xlabel(\"TSNE-1\")\n",
    "plt.ylabel(\"TSNE-2\")\n",
    "plt.grid(True)\n",
    "plt.tight_layout()\n",
    "plt.show()"
   ]
  },
  {
   "cell_type": "code",
   "execution_count": 224,
   "metadata": {},
   "outputs": [
    {
     "name": "stdout",
     "output_type": "stream",
     "text": [
      "k = 2, silhouette score = 0.269\n",
      "k = 3, silhouette score = 0.203\n",
      "k = 4, silhouette score = 0.220\n",
      "k = 5, silhouette score = 0.228\n",
      "k = 6, silhouette score = 0.219\n",
      "k = 7, silhouette score = 0.211\n",
      "k = 8, silhouette score = 0.207\n"
     ]
    },
    {
     "name": "stderr",
     "output_type": "stream",
     "text": [
      "C:\\Users\\New\\miniconda3\\Lib\\site-packages\\sklearn\\cluster\\_kmeans.py:1419: UserWarning: KMeans is known to have a memory leak on Windows with MKL, when there are less chunks than available threads. You can avoid it by setting the environment variable OMP_NUM_THREADS=1.\n",
      "  warnings.warn(\n",
      "C:\\Users\\New\\miniconda3\\Lib\\site-packages\\sklearn\\cluster\\_kmeans.py:1419: UserWarning: KMeans is known to have a memory leak on Windows with MKL, when there are less chunks than available threads. You can avoid it by setting the environment variable OMP_NUM_THREADS=1.\n",
      "  warnings.warn(\n",
      "C:\\Users\\New\\miniconda3\\Lib\\site-packages\\sklearn\\cluster\\_kmeans.py:1419: UserWarning: KMeans is known to have a memory leak on Windows with MKL, when there are less chunks than available threads. You can avoid it by setting the environment variable OMP_NUM_THREADS=1.\n",
      "  warnings.warn(\n",
      "C:\\Users\\New\\miniconda3\\Lib\\site-packages\\sklearn\\cluster\\_kmeans.py:1419: UserWarning: KMeans is known to have a memory leak on Windows with MKL, when there are less chunks than available threads. You can avoid it by setting the environment variable OMP_NUM_THREADS=1.\n",
      "  warnings.warn(\n",
      "C:\\Users\\New\\miniconda3\\Lib\\site-packages\\sklearn\\cluster\\_kmeans.py:1419: UserWarning: KMeans is known to have a memory leak on Windows with MKL, when there are less chunks than available threads. You can avoid it by setting the environment variable OMP_NUM_THREADS=1.\n",
      "  warnings.warn(\n",
      "C:\\Users\\New\\miniconda3\\Lib\\site-packages\\sklearn\\cluster\\_kmeans.py:1419: UserWarning: KMeans is known to have a memory leak on Windows with MKL, when there are less chunks than available threads. You can avoid it by setting the environment variable OMP_NUM_THREADS=1.\n",
      "  warnings.warn(\n",
      "C:\\Users\\New\\miniconda3\\Lib\\site-packages\\sklearn\\cluster\\_kmeans.py:1419: UserWarning: KMeans is known to have a memory leak on Windows with MKL, when there are less chunks than available threads. You can avoid it by setting the environment variable OMP_NUM_THREADS=1.\n",
      "  warnings.warn(\n"
     ]
    }
   ],
   "source": [
    "for k in range(2, 9):\n",
    "    kmeans = KMeans(n_clusters=k, random_state=42)\n",
    "    labels = kmeans.fit_predict(X)\n",
    "    score = silhouette_score(X, labels)\n",
    "    print(f\"k = {k}, silhouette score = {score:.3f}\")"
   ]
  },
  {
   "cell_type": "code",
   "execution_count": 225,
   "metadata": {},
   "outputs": [
    {
     "data": {
      "text/html": [
       "<div>\n",
       "<style scoped>\n",
       "    .dataframe tbody tr th:only-of-type {\n",
       "        vertical-align: middle;\n",
       "    }\n",
       "\n",
       "    .dataframe tbody tr th {\n",
       "        vertical-align: top;\n",
       "    }\n",
       "\n",
       "    .dataframe thead th {\n",
       "        text-align: right;\n",
       "    }\n",
       "</style>\n",
       "<table border=\"1\" class=\"dataframe\">\n",
       "  <thead>\n",
       "    <tr style=\"text-align: right;\">\n",
       "      <th>cluster</th>\n",
       "      <th>0</th>\n",
       "      <th>1</th>\n",
       "      <th>2</th>\n",
       "      <th>3</th>\n",
       "      <th>4</th>\n",
       "      <th>5</th>\n",
       "      <th>6</th>\n",
       "      <th>7</th>\n",
       "    </tr>\n",
       "  </thead>\n",
       "  <tbody>\n",
       "    <tr>\n",
       "      <th>treatment_gap_score</th>\n",
       "      <td>-0.102941</td>\n",
       "      <td>0.150</td>\n",
       "      <td>0.052632</td>\n",
       "      <td>0.291667</td>\n",
       "      <td>0.339286</td>\n",
       "      <td>0.141304</td>\n",
       "      <td>0.425</td>\n",
       "      <td>0.316667</td>\n",
       "    </tr>\n",
       "    <tr>\n",
       "      <th>hidden_vulnerability</th>\n",
       "      <td>0.117647</td>\n",
       "      <td>0.225</td>\n",
       "      <td>0.105263</td>\n",
       "      <td>0.000000</td>\n",
       "      <td>0.000000</td>\n",
       "      <td>0.217391</td>\n",
       "      <td>0.000</td>\n",
       "      <td>0.000000</td>\n",
       "    </tr>\n",
       "  </tbody>\n",
       "</table>\n",
       "</div>"
      ],
      "text/plain": [
       "cluster                      0      1         2         3         4         5  \\\n",
       "treatment_gap_score  -0.102941  0.150  0.052632  0.291667  0.339286  0.141304   \n",
       "hidden_vulnerability  0.117647  0.225  0.105263  0.000000  0.000000  0.217391   \n",
       "\n",
       "cluster                   6         7  \n",
       "treatment_gap_score   0.425  0.316667  \n",
       "hidden_vulnerability  0.000  0.000000  "
      ]
     },
     "execution_count": 225,
     "metadata": {},
     "output_type": "execute_result"
    }
   ],
   "source": [
    "df['cluster'] = labels\n",
    "df.groupby('cluster')[[\n",
    "    'treatment_gap_score',\n",
    "    'hidden_vulnerability'\n",
    "    \n",
    "]].mean().T"
   ]
  },
  {
   "cell_type": "code",
   "execution_count": null,
   "metadata": {},
   "outputs": [],
   "source": []
  }
 ],
 "metadata": {
  "colab": {
   "provenance": []
  },
  "kernelspec": {
   "display_name": "Python 3 (ipykernel)",
   "language": "python",
   "name": "python3"
  },
  "language_info": {
   "codemirror_mode": {
    "name": "ipython",
    "version": 3
   },
   "file_extension": ".py",
   "mimetype": "text/x-python",
   "name": "python",
   "nbconvert_exporter": "python",
   "pygments_lexer": "ipython3",
   "version": "3.12.9"
  }
 },
 "nbformat": 4,
 "nbformat_minor": 4
}
